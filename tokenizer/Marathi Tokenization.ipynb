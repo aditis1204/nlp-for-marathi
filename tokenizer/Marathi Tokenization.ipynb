{
 "cells": [
  {
   "cell_type": "code",
   "execution_count": 1,
   "metadata": {},
   "outputs": [],
   "source": [
    "import sentencepiece as spm\n",
    "import pickle\n",
    "import pathlib"
   ]
  },
  {
   "cell_type": "code",
   "execution_count": 2,
   "metadata": {},
   "outputs": [],
   "source": [
    "path = pathlib.Path('/home/gaurav/PycharmProjects/nlp-for-marathi/language-model')"
   ]
  },
  {
   "cell_type": "code",
   "execution_count": 3,
   "metadata": {},
   "outputs": [],
   "source": [
    "p = path.glob('MarathiWikipediaArticles/*')\n",
    "files = [x for x in p if x.is_file()]"
   ]
  },
  {
   "cell_type": "code",
   "execution_count": 4,
   "metadata": {},
   "outputs": [
    {
     "data": {
      "text/plain": [
       "85537"
      ]
     },
     "execution_count": 4,
     "metadata": {},
     "output_type": "execute_result"
    }
   ],
   "source": [
    "len(files)"
   ]
  },
  {
   "cell_type": "code",
   "execution_count": 5,
   "metadata": {},
   "outputs": [],
   "source": [
    "files = [str(file) for file in files]"
   ]
  },
  {
   "cell_type": "code",
   "execution_count": 6,
   "metadata": {},
   "outputs": [],
   "source": [
    "flist = ','.join(files)"
   ]
  },
  {
   "cell_type": "code",
   "execution_count": 12,
   "metadata": {},
   "outputs": [
    {
     "data": {
      "text/plain": [
       "True"
      ]
     },
     "execution_count": 12,
     "metadata": {},
     "output_type": "execute_result"
    }
   ],
   "source": [
    "spm.SentencePieceTrainer.Train(f'--input={flist} --model_prefix=marathi_lm --vocab_size=30000')"
   ]
  },
  {
   "cell_type": "code",
   "execution_count": 13,
   "metadata": {},
   "outputs": [],
   "source": [
    "with open(path/'MarathiWikipediaArticles/1782.pkl', 'rb') as f:\n",
    "    text = pickle.load(f)"
   ]
  },
  {
   "cell_type": "code",
   "execution_count": 14,
   "metadata": {},
   "outputs": [
    {
     "data": {
      "text/plain": [
       "'\\nविजय शिवतारे हे महाराष्ट्राच्या १२ व्या विधानसभेचे सदस्य होते व १३ व्या विधानसभेचे सदस्य आहेत. हे पुरंदर मतदारसंघातून निवडून गेले. \\nव्यावसाय: - \\n१) साखर व्यवसाय.\\n२) इथेनॉल प्लांट.\\n३) मत्स्यव्यावसाय.\\n४) दुग्धव्यवसाय.\\n'"
      ]
     },
     "execution_count": 14,
     "metadata": {},
     "output_type": "execute_result"
    }
   ],
   "source": [
    "text"
   ]
  },
  {
   "cell_type": "code",
   "execution_count": 15,
   "metadata": {},
   "outputs": [],
   "source": [
    "sp = spm.SentencePieceProcessor()"
   ]
  },
  {
   "cell_type": "code",
   "execution_count": 16,
   "metadata": {},
   "outputs": [
    {
     "data": {
      "text/plain": [
       "True"
      ]
     },
     "execution_count": 16,
     "metadata": {},
     "output_type": "execute_result"
    }
   ],
   "source": [
    "sp.Load(\"marathi_lm.model\")"
   ]
  },
  {
   "cell_type": "code",
   "execution_count": 17,
   "metadata": {},
   "outputs": [
    {
     "data": {
      "text/plain": [
       "['▁विजय',\n",
       " '▁शिव',\n",
       " 'ता',\n",
       " 'रे',\n",
       " '▁हे',\n",
       " '▁महाराष्ट्राच्या',\n",
       " '▁१२',\n",
       " '▁व्या',\n",
       " '▁विधानसभेचे',\n",
       " '▁सदस्य',\n",
       " '▁होते',\n",
       " '▁व',\n",
       " '▁१३',\n",
       " '▁व्या',\n",
       " '▁विधानसभेचे',\n",
       " '▁सदस्य',\n",
       " '▁आहेत',\n",
       " '.',\n",
       " '▁हे',\n",
       " '▁पुरंदर',\n",
       " '▁मतदारसंघातून',\n",
       " '▁निवडून',\n",
       " '▁गेले',\n",
       " '.',\n",
       " '▁व्यावस',\n",
       " 'ाय',\n",
       " ':',\n",
       " '▁-',\n",
       " '▁१',\n",
       " ')',\n",
       " '▁साखर',\n",
       " '▁व्यवसाय',\n",
       " '.',\n",
       " '▁२',\n",
       " ')',\n",
       " '▁इथे',\n",
       " 'न',\n",
       " 'ॉल',\n",
       " '▁प्लांट',\n",
       " '.',\n",
       " '▁३',\n",
       " ')',\n",
       " '▁मत्स्य',\n",
       " 'व्या',\n",
       " 'व',\n",
       " 'साय',\n",
       " '.',\n",
       " '▁४',\n",
       " ')',\n",
       " '▁दुग्ध',\n",
       " 'व्यवसाय',\n",
       " '.']"
      ]
     },
     "execution_count": 17,
     "metadata": {},
     "output_type": "execute_result"
    }
   ],
   "source": [
    "sp.EncodeAsPieces(text)"
   ]
  },
  {
   "cell_type": "code",
   "execution_count": null,
   "metadata": {},
   "outputs": [],
   "source": []
  }
 ],
 "metadata": {
  "kernelspec": {
   "display_name": "Python 3",
   "language": "python",
   "name": "python3"
  },
  "language_info": {
   "codemirror_mode": {
    "name": "ipython",
    "version": 3
   },
   "file_extension": ".py",
   "mimetype": "text/x-python",
   "name": "python",
   "nbconvert_exporter": "python",
   "pygments_lexer": "ipython3",
   "version": "3.6.7"
  }
 },
 "nbformat": 4,
 "nbformat_minor": 2
}
