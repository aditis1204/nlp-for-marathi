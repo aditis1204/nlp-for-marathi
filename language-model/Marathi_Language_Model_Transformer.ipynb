{
 "cells": [
  {
   "cell_type": "code",
   "execution_count": 1,
   "metadata": {},
   "outputs": [],
   "source": [
    "%reload_ext autoreload\n",
    "%autoreload 2\n",
    "%matplotlib inline"
   ]
  },
  {
   "cell_type": "code",
   "execution_count": 2,
   "metadata": {},
   "outputs": [],
   "source": [
    "from fastai.text import *\n",
    "import numpy as np\n",
    "from sklearn.model_selection import train_test_split\n",
    "import pickle\n",
    "import sentencepiece as spm"
   ]
  },
  {
   "cell_type": "code",
   "execution_count": 3,
   "metadata": {},
   "outputs": [
    {
     "data": {
      "text/plain": [
       "('1.0.57', '1.1.0')"
      ]
     },
     "execution_count": 3,
     "metadata": {},
     "output_type": "execute_result"
    }
   ],
   "source": [
    "import fastai, torch\n",
    "fastai.__version__ , torch.__version__"
   ]
  },
  {
   "cell_type": "code",
   "execution_count": 4,
   "metadata": {},
   "outputs": [],
   "source": [
    "torch.cuda.set_device(0)"
   ]
  },
  {
   "cell_type": "code",
   "execution_count": 5,
   "metadata": {},
   "outputs": [],
   "source": [
    "path = Path('/home/gaurav/PycharmProjects/nlp-for-marathi/language-model')"
   ]
  },
  {
   "cell_type": "code",
   "execution_count": 6,
   "metadata": {},
   "outputs": [],
   "source": [
    "from inltk.tokenizer import MarathiTokenizer"
   ]
  },
  {
   "cell_type": "code",
   "execution_count": 7,
   "metadata": {},
   "outputs": [
    {
     "data": {
      "text/plain": [
       "inltk.tokenizer.MarathiTokenizer"
      ]
     },
     "execution_count": 7,
     "metadata": {},
     "output_type": "execute_result"
    }
   ],
   "source": [
    "MarathiTokenizer"
   ]
  },
  {
   "cell_type": "code",
   "execution_count": 8,
   "metadata": {},
   "outputs": [],
   "source": [
    "# class MarathiTokenizer(BaseTokenizer):\n",
    "#     def __init__(self, lang:str):\n",
    "#         self.lang = lang\n",
    "#         self.sp = spm.SentencePieceProcessor()\n",
    "#         self.sp.Load(str(path/\"../tokenizer/marathi_lm.model\"))\n",
    "        \n",
    "#     def tokenizer(self, t:str) -> List[str]:\n",
    "#         return self.sp.EncodeAsPieces(t)"
   ]
  },
  {
   "cell_type": "code",
   "execution_count": 9,
   "metadata": {},
   "outputs": [],
   "source": [
    "sp = spm.SentencePieceProcessor()\n",
    "sp.Load(str(path/\"../tokenizer/marathi_lm.model\"))\n",
    "itos = [sp.IdToPiece(int(i)) for i in range(30000)]"
   ]
  },
  {
   "cell_type": "code",
   "execution_count": 10,
   "metadata": {},
   "outputs": [],
   "source": [
    "# 30,000 is the vocab size that we chose in sentencepiece\n",
    "marathi_vocab = Vocab(itos)"
   ]
  },
  {
   "cell_type": "code",
   "execution_count": 11,
   "metadata": {},
   "outputs": [],
   "source": [
    "tokenizer = Tokenizer(tok_func=MarathiTokenizer, lang='mr')"
   ]
  },
  {
   "cell_type": "code",
   "execution_count": 12,
   "metadata": {},
   "outputs": [
    {
     "data": {
      "text/plain": [
       "['xxunk',\n",
       " 'xxpad',\n",
       " 'xxbos',\n",
       " 'xxeos',\n",
       " 'xxfld',\n",
       " 'xxmaj',\n",
       " 'xxup',\n",
       " 'xxrep',\n",
       " 'xxwrep']"
      ]
     },
     "execution_count": 12,
     "metadata": {},
     "output_type": "execute_result"
    }
   ],
   "source": [
    "tokenizer.special_cases"
   ]
  },
  {
   "cell_type": "code",
   "execution_count": 13,
   "metadata": {},
   "outputs": [],
   "source": [
    "data_lm = TextLMDataBunch.from_folder(path=path/'transformer', tokenizer=tokenizer, vocab=marathi_vocab)"
   ]
  },
  {
   "cell_type": "code",
   "execution_count": 14,
   "metadata": {},
   "outputs": [
    {
     "data": {
      "text/plain": [
       "64"
      ]
     },
     "execution_count": 14,
     "metadata": {},
     "output_type": "execute_result"
    }
   ],
   "source": [
    "data_lm.batch_size"
   ]
  },
  {
   "cell_type": "code",
   "execution_count": 15,
   "metadata": {},
   "outputs": [],
   "source": [
    "data_lm.save()"
   ]
  },
  {
   "cell_type": "code",
   "execution_count": 16,
   "metadata": {},
   "outputs": [
    {
     "data": {
      "text/html": [
       "<table border=\"1\" class=\"dataframe\">\n",
       "  <thead>\n",
       "    <tr style=\"text-align: right;\">\n",
       "      <th>idx</th>\n",
       "      <th>text</th>\n",
       "    </tr>\n",
       "  </thead>\n",
       "  <tbody>\n",
       "    <tr>\n",
       "      <td>0</td>\n",
       "      <td>िंग ▁जगतात ही ▁मारिया ने ▁नाव ▁कमावले ▁आहे . ▁२००८ ▁व ▁२०१० ▁साली ▁ती ▁सर्वाधिक ▁उत्पन्न ▁मिळवणारी ▁महिला ▁खेळाडू ▁होती . ▁x x bo s ▁{{ माहितीचौकट ▁साहित्यिक | नाव = विष्णू ▁वामन ▁शिरवाडकर | चित्र = ▁x x re p ▁7 ▁ &lt;unk&gt; ▁ &lt;unk&gt; | चित्र _ रुंदी =| चित्र _ शीर्षक =| पूर्ण _ नाव = गजानन ▁रंगनाथ ▁शिरवाडकर | टो पण _ नाव = कुसुमाग्रज |</td>\n",
       "    </tr>\n",
       "    <tr>\n",
       "      <td>1</td>\n",
       "      <td>▁कन्ये ने ▁देहत्याग ▁केला . ▁सोलापूर ▁शहरातील ▁विजापूर ▁रस्त्या स ▁लागून ▁कंबर ▁तलाव ▁आहे . या ▁तलाव ाच्या ▁पश्चिमेस ▁ समोरील ▁बाजूस ▁हे ▁मंदिर ▁आहे . ▁सोलापूर ▁जिल्ह्यातील ▁प्रसिद्ध ▁देवस्थान े ▁श्री ▁नागनाथ ▁नागनाथ ▁मंदिर ▁वड वळ ▁मोहोळ ▁सोलापूर ▁सोलापूर ▁पुणे ▁रोडवर ▁श्री ▁भैरवनाथ ▁भैरवनाथ ▁मंदिर ▁तांब ोळे ▁मोहोळ ▁सोलापूर ▁मोहोळ ▁पंढरपूर ▁रोडवर ▁मरी आई ▁देवस्थान ▁चिखल ी ▁मोहोळ ▁सोलापूर ▁मोहोळ ▁पुणे ▁रोडवर ▁श्री ▁विठ्ठल ▁विठ्ठल ▁मंदिर ▁पंढरपूर ▁सोलापूर ▁मोहोळ</td>\n",
       "    </tr>\n",
       "    <tr>\n",
       "      <td>2</td>\n",
       "      <td>▁अंतरावर ▁आहे . ▁गावात ▁१ ▁बाह्यरुग्ण ▁वैद्यकीय ▁सुविधा ▁आहे . ▁गावात ▁१ ▁इतर ▁पदवीधर ▁वैद्यक ▁व्यवसायी ▁आहे . ▁गावात ▁शुद्धिकरण ▁केलेल्या ▁नळाच्या ▁पाण्याचा ▁पुरवठा ▁नाही . गावात ▁शुद्धिकरण ▁न ▁केलेल्या ▁नळाच्या ▁पाण्याचा ▁पुरवठा ▁आहे . गावात ▁झाकलेल ्या ▁ विहिरीच्या ▁पाण्याचा ▁पुरवठा ▁नाही . गावात ▁न ▁झाकलेल ्या ▁ विहिरीच्या ▁पाण्याचा ▁पुरवठा ▁आहे . गावात ▁हॅन्डपंपच्या ▁पाण्याचा ▁पुरवठा ▁आहे . गावात ▁ट्यूबवेलच्या ▁/ ▁ बोअरवेलच्या ▁पाण्याचा ▁पुरवठा ▁आहे . गावात</td>\n",
       "    </tr>\n",
       "    <tr>\n",
       "      <td>3</td>\n",
       "      <td>चे ▁अखेर चे ▁अधिवेशन ▁भरले . ▁त्यावेळी ▁आठ ▁लाख ाच्या ▁आसपास ▁कार्यकर्ते ▁देशभरात ून ▁एकत्र ▁आले ▁होते . ▁भारताच्या ▁इतिहासातील ▁हा ▁महत्त्वाचा ▁क्षण ▁होता . ▁त्यावेळी ▁अध्यक्ष ीय भा षण ात ▁बॅ . ▁खोब्रागडे ▁म्हणाले , ▁ &lt;unk&gt; अस्पृश्य ांना ▁राजकीय ▁हक्क ▁मिळावे त ▁यासाठी ▁डॉ . ▁आंबेडकरांनी ▁लढा ▁दिला . ▁दि . ▁२९ ▁सप्टेंबर ▁१९५६ ▁ला ▁डॉ . ▁आंबेडकरांच्या ▁अध्यक्ष ेत खाली ▁अखिल ▁भारतीय ▁दलित ▁फेडरेशन च्या ▁ वर्किंग</td>\n",
       "    </tr>\n",
       "    <tr>\n",
       "      <td>4</td>\n",
       "      <td>▁म्हणून ▁आपल्या ▁धर्म पत् ▁नी चा ▁त्याग ▁केला . ▁श्रीराम ▁हा ▁आदर्श ▁शत्रू सुद्धा ▁होता . ▁रावण ाच्या ▁मृत्यूनंतर ▁अग्नि संस्कार ▁करायला ▁त्याचा ▁भाऊ ▁बिभीषण ▁नकार ▁देतो , ▁तेव्हा ▁राम ▁त्याला ▁सांगतो , ▁‘‘ मरण ाबरोबर ▁वैर ▁संपत े . ▁तू ▁जर ▁रावण ाचा ▁अंत्यसंस्कार ▁करणार ▁नसला स , ▁तर ▁मी ▁करीन . ▁तो ▁माझा ही ▁भाऊ च ▁आहे . ’’ ▁श्रीराम ाने ▁धर्माच्या ▁सर्व ▁मर्यादा ▁पाळल्या ▁असे ▁रामायण ातील</td>\n",
       "    </tr>\n",
       "  </tbody>\n",
       "</table>"
      ],
      "text/plain": [
       "<IPython.core.display.HTML object>"
      ]
     },
     "metadata": {},
     "output_type": "display_data"
    }
   ],
   "source": [
    "data_lm.show_batch()"
   ]
  },
  {
   "cell_type": "code",
   "execution_count": 17,
   "metadata": {},
   "outputs": [
    {
     "data": {
      "text/plain": [
       "30000"
      ]
     },
     "execution_count": 17,
     "metadata": {},
     "output_type": "execute_result"
    }
   ],
   "source": [
    "len(data_lm.vocab.itos)"
   ]
  },
  {
   "cell_type": "code",
   "execution_count": 18,
   "metadata": {},
   "outputs": [],
   "source": [
    "learn = language_model_learner(data_lm, TransformerXL, pretrained=False)"
   ]
  },
  {
   "cell_type": "code",
   "execution_count": 19,
   "metadata": {},
   "outputs": [
    {
     "data": {
      "text/plain": [
       "20"
      ]
     },
     "execution_count": 19,
     "metadata": {},
     "output_type": "execute_result"
    }
   ],
   "source": [
    "gc.collect()"
   ]
  },
  {
   "cell_type": "code",
   "execution_count": 20,
   "metadata": {},
   "outputs": [
    {
     "data": {
      "text/plain": [
       "SequentialRNN(\n",
       "  (0): TransformerXL(\n",
       "    (encoder): Embedding(30000, 410)\n",
       "    (pos_enc): PositionalEncoding()\n",
       "    (drop_emb): Dropout(p=0.1)\n",
       "    (layers): ModuleList(\n",
       "      (0): DecoderLayer(\n",
       "        (mhra): MultiHeadRelativeAttention(\n",
       "          (attention): Linear(in_features=410, out_features=1230, bias=False)\n",
       "          (out): Linear(in_features=410, out_features=410, bias=False)\n",
       "          (drop_att): Dropout(p=0.1)\n",
       "          (drop_res): Dropout(p=0.1)\n",
       "          (ln): LayerNorm(torch.Size([410]), eps=1e-05, elementwise_affine=True)\n",
       "          (r_attn): Linear(in_features=410, out_features=410, bias=False)\n",
       "        )\n",
       "        (ff): SequentialEx(\n",
       "          (layers): ModuleList(\n",
       "            (0): Linear(in_features=410, out_features=2100, bias=True)\n",
       "            (1): ReLU(inplace)\n",
       "            (2): Dropout(p=0.1)\n",
       "            (3): Linear(in_features=2100, out_features=410, bias=True)\n",
       "            (4): Dropout(p=0.1)\n",
       "            (5): MergeLayer()\n",
       "            (6): LayerNorm(torch.Size([410]), eps=1e-05, elementwise_affine=True)\n",
       "          )\n",
       "        )\n",
       "      )\n",
       "      (1): DecoderLayer(\n",
       "        (mhra): MultiHeadRelativeAttention(\n",
       "          (attention): Linear(in_features=410, out_features=1230, bias=False)\n",
       "          (out): Linear(in_features=410, out_features=410, bias=False)\n",
       "          (drop_att): Dropout(p=0.1)\n",
       "          (drop_res): Dropout(p=0.1)\n",
       "          (ln): LayerNorm(torch.Size([410]), eps=1e-05, elementwise_affine=True)\n",
       "          (r_attn): Linear(in_features=410, out_features=410, bias=False)\n",
       "        )\n",
       "        (ff): SequentialEx(\n",
       "          (layers): ModuleList(\n",
       "            (0): Linear(in_features=410, out_features=2100, bias=True)\n",
       "            (1): ReLU(inplace)\n",
       "            (2): Dropout(p=0.1)\n",
       "            (3): Linear(in_features=2100, out_features=410, bias=True)\n",
       "            (4): Dropout(p=0.1)\n",
       "            (5): MergeLayer()\n",
       "            (6): LayerNorm(torch.Size([410]), eps=1e-05, elementwise_affine=True)\n",
       "          )\n",
       "        )\n",
       "      )\n",
       "      (2): DecoderLayer(\n",
       "        (mhra): MultiHeadRelativeAttention(\n",
       "          (attention): Linear(in_features=410, out_features=1230, bias=False)\n",
       "          (out): Linear(in_features=410, out_features=410, bias=False)\n",
       "          (drop_att): Dropout(p=0.1)\n",
       "          (drop_res): Dropout(p=0.1)\n",
       "          (ln): LayerNorm(torch.Size([410]), eps=1e-05, elementwise_affine=True)\n",
       "          (r_attn): Linear(in_features=410, out_features=410, bias=False)\n",
       "        )\n",
       "        (ff): SequentialEx(\n",
       "          (layers): ModuleList(\n",
       "            (0): Linear(in_features=410, out_features=2100, bias=True)\n",
       "            (1): ReLU(inplace)\n",
       "            (2): Dropout(p=0.1)\n",
       "            (3): Linear(in_features=2100, out_features=410, bias=True)\n",
       "            (4): Dropout(p=0.1)\n",
       "            (5): MergeLayer()\n",
       "            (6): LayerNorm(torch.Size([410]), eps=1e-05, elementwise_affine=True)\n",
       "          )\n",
       "        )\n",
       "      )\n",
       "      (3): DecoderLayer(\n",
       "        (mhra): MultiHeadRelativeAttention(\n",
       "          (attention): Linear(in_features=410, out_features=1230, bias=False)\n",
       "          (out): Linear(in_features=410, out_features=410, bias=False)\n",
       "          (drop_att): Dropout(p=0.1)\n",
       "          (drop_res): Dropout(p=0.1)\n",
       "          (ln): LayerNorm(torch.Size([410]), eps=1e-05, elementwise_affine=True)\n",
       "          (r_attn): Linear(in_features=410, out_features=410, bias=False)\n",
       "        )\n",
       "        (ff): SequentialEx(\n",
       "          (layers): ModuleList(\n",
       "            (0): Linear(in_features=410, out_features=2100, bias=True)\n",
       "            (1): ReLU(inplace)\n",
       "            (2): Dropout(p=0.1)\n",
       "            (3): Linear(in_features=2100, out_features=410, bias=True)\n",
       "            (4): Dropout(p=0.1)\n",
       "            (5): MergeLayer()\n",
       "            (6): LayerNorm(torch.Size([410]), eps=1e-05, elementwise_affine=True)\n",
       "          )\n",
       "        )\n",
       "      )\n",
       "      (4): DecoderLayer(\n",
       "        (mhra): MultiHeadRelativeAttention(\n",
       "          (attention): Linear(in_features=410, out_features=1230, bias=False)\n",
       "          (out): Linear(in_features=410, out_features=410, bias=False)\n",
       "          (drop_att): Dropout(p=0.1)\n",
       "          (drop_res): Dropout(p=0.1)\n",
       "          (ln): LayerNorm(torch.Size([410]), eps=1e-05, elementwise_affine=True)\n",
       "          (r_attn): Linear(in_features=410, out_features=410, bias=False)\n",
       "        )\n",
       "        (ff): SequentialEx(\n",
       "          (layers): ModuleList(\n",
       "            (0): Linear(in_features=410, out_features=2100, bias=True)\n",
       "            (1): ReLU(inplace)\n",
       "            (2): Dropout(p=0.1)\n",
       "            (3): Linear(in_features=2100, out_features=410, bias=True)\n",
       "            (4): Dropout(p=0.1)\n",
       "            (5): MergeLayer()\n",
       "            (6): LayerNorm(torch.Size([410]), eps=1e-05, elementwise_affine=True)\n",
       "          )\n",
       "        )\n",
       "      )\n",
       "      (5): DecoderLayer(\n",
       "        (mhra): MultiHeadRelativeAttention(\n",
       "          (attention): Linear(in_features=410, out_features=1230, bias=False)\n",
       "          (out): Linear(in_features=410, out_features=410, bias=False)\n",
       "          (drop_att): Dropout(p=0.1)\n",
       "          (drop_res): Dropout(p=0.1)\n",
       "          (ln): LayerNorm(torch.Size([410]), eps=1e-05, elementwise_affine=True)\n",
       "          (r_attn): Linear(in_features=410, out_features=410, bias=False)\n",
       "        )\n",
       "        (ff): SequentialEx(\n",
       "          (layers): ModuleList(\n",
       "            (0): Linear(in_features=410, out_features=2100, bias=True)\n",
       "            (1): ReLU(inplace)\n",
       "            (2): Dropout(p=0.1)\n",
       "            (3): Linear(in_features=2100, out_features=410, bias=True)\n",
       "            (4): Dropout(p=0.1)\n",
       "            (5): MergeLayer()\n",
       "            (6): LayerNorm(torch.Size([410]), eps=1e-05, elementwise_affine=True)\n",
       "          )\n",
       "        )\n",
       "      )\n",
       "      (6): DecoderLayer(\n",
       "        (mhra): MultiHeadRelativeAttention(\n",
       "          (attention): Linear(in_features=410, out_features=1230, bias=False)\n",
       "          (out): Linear(in_features=410, out_features=410, bias=False)\n",
       "          (drop_att): Dropout(p=0.1)\n",
       "          (drop_res): Dropout(p=0.1)\n",
       "          (ln): LayerNorm(torch.Size([410]), eps=1e-05, elementwise_affine=True)\n",
       "          (r_attn): Linear(in_features=410, out_features=410, bias=False)\n",
       "        )\n",
       "        (ff): SequentialEx(\n",
       "          (layers): ModuleList(\n",
       "            (0): Linear(in_features=410, out_features=2100, bias=True)\n",
       "            (1): ReLU(inplace)\n",
       "            (2): Dropout(p=0.1)\n",
       "            (3): Linear(in_features=2100, out_features=410, bias=True)\n",
       "            (4): Dropout(p=0.1)\n",
       "            (5): MergeLayer()\n",
       "            (6): LayerNorm(torch.Size([410]), eps=1e-05, elementwise_affine=True)\n",
       "          )\n",
       "        )\n",
       "      )\n",
       "      (7): DecoderLayer(\n",
       "        (mhra): MultiHeadRelativeAttention(\n",
       "          (attention): Linear(in_features=410, out_features=1230, bias=False)\n",
       "          (out): Linear(in_features=410, out_features=410, bias=False)\n",
       "          (drop_att): Dropout(p=0.1)\n",
       "          (drop_res): Dropout(p=0.1)\n",
       "          (ln): LayerNorm(torch.Size([410]), eps=1e-05, elementwise_affine=True)\n",
       "          (r_attn): Linear(in_features=410, out_features=410, bias=False)\n",
       "        )\n",
       "        (ff): SequentialEx(\n",
       "          (layers): ModuleList(\n",
       "            (0): Linear(in_features=410, out_features=2100, bias=True)\n",
       "            (1): ReLU(inplace)\n",
       "            (2): Dropout(p=0.1)\n",
       "            (3): Linear(in_features=2100, out_features=410, bias=True)\n",
       "            (4): Dropout(p=0.1)\n",
       "            (5): MergeLayer()\n",
       "            (6): LayerNorm(torch.Size([410]), eps=1e-05, elementwise_affine=True)\n",
       "          )\n",
       "        )\n",
       "      )\n",
       "      (8): DecoderLayer(\n",
       "        (mhra): MultiHeadRelativeAttention(\n",
       "          (attention): Linear(in_features=410, out_features=1230, bias=False)\n",
       "          (out): Linear(in_features=410, out_features=410, bias=False)\n",
       "          (drop_att): Dropout(p=0.1)\n",
       "          (drop_res): Dropout(p=0.1)\n",
       "          (ln): LayerNorm(torch.Size([410]), eps=1e-05, elementwise_affine=True)\n",
       "          (r_attn): Linear(in_features=410, out_features=410, bias=False)\n",
       "        )\n",
       "        (ff): SequentialEx(\n",
       "          (layers): ModuleList(\n",
       "            (0): Linear(in_features=410, out_features=2100, bias=True)\n",
       "            (1): ReLU(inplace)\n",
       "            (2): Dropout(p=0.1)\n",
       "            (3): Linear(in_features=2100, out_features=410, bias=True)\n",
       "            (4): Dropout(p=0.1)\n",
       "            (5): MergeLayer()\n",
       "            (6): LayerNorm(torch.Size([410]), eps=1e-05, elementwise_affine=True)\n",
       "          )\n",
       "        )\n",
       "      )\n",
       "      (9): DecoderLayer(\n",
       "        (mhra): MultiHeadRelativeAttention(\n",
       "          (attention): Linear(in_features=410, out_features=1230, bias=False)\n",
       "          (out): Linear(in_features=410, out_features=410, bias=False)\n",
       "          (drop_att): Dropout(p=0.1)\n",
       "          (drop_res): Dropout(p=0.1)\n",
       "          (ln): LayerNorm(torch.Size([410]), eps=1e-05, elementwise_affine=True)\n",
       "          (r_attn): Linear(in_features=410, out_features=410, bias=False)\n",
       "        )\n",
       "        (ff): SequentialEx(\n",
       "          (layers): ModuleList(\n",
       "            (0): Linear(in_features=410, out_features=2100, bias=True)\n",
       "            (1): ReLU(inplace)\n",
       "            (2): Dropout(p=0.1)\n",
       "            (3): Linear(in_features=2100, out_features=410, bias=True)\n",
       "            (4): Dropout(p=0.1)\n",
       "            (5): MergeLayer()\n",
       "            (6): LayerNorm(torch.Size([410]), eps=1e-05, elementwise_affine=True)\n",
       "          )\n",
       "        )\n",
       "      )\n",
       "      (10): DecoderLayer(\n",
       "        (mhra): MultiHeadRelativeAttention(\n",
       "          (attention): Linear(in_features=410, out_features=1230, bias=False)\n",
       "          (out): Linear(in_features=410, out_features=410, bias=False)\n",
       "          (drop_att): Dropout(p=0.1)\n",
       "          (drop_res): Dropout(p=0.1)\n",
       "          (ln): LayerNorm(torch.Size([410]), eps=1e-05, elementwise_affine=True)\n",
       "          (r_attn): Linear(in_features=410, out_features=410, bias=False)\n",
       "        )\n",
       "        (ff): SequentialEx(\n",
       "          (layers): ModuleList(\n",
       "            (0): Linear(in_features=410, out_features=2100, bias=True)\n",
       "            (1): ReLU(inplace)\n",
       "            (2): Dropout(p=0.1)\n",
       "            (3): Linear(in_features=2100, out_features=410, bias=True)\n",
       "            (4): Dropout(p=0.1)\n",
       "            (5): MergeLayer()\n",
       "            (6): LayerNorm(torch.Size([410]), eps=1e-05, elementwise_affine=True)\n",
       "          )\n",
       "        )\n",
       "      )\n",
       "      (11): DecoderLayer(\n",
       "        (mhra): MultiHeadRelativeAttention(\n",
       "          (attention): Linear(in_features=410, out_features=1230, bias=False)\n",
       "          (out): Linear(in_features=410, out_features=410, bias=False)\n",
       "          (drop_att): Dropout(p=0.1)\n",
       "          (drop_res): Dropout(p=0.1)\n",
       "          (ln): LayerNorm(torch.Size([410]), eps=1e-05, elementwise_affine=True)\n",
       "          (r_attn): Linear(in_features=410, out_features=410, bias=False)\n",
       "        )\n",
       "        (ff): SequentialEx(\n",
       "          (layers): ModuleList(\n",
       "            (0): Linear(in_features=410, out_features=2100, bias=True)\n",
       "            (1): ReLU(inplace)\n",
       "            (2): Dropout(p=0.1)\n",
       "            (3): Linear(in_features=2100, out_features=410, bias=True)\n",
       "            (4): Dropout(p=0.1)\n",
       "            (5): MergeLayer()\n",
       "            (6): LayerNorm(torch.Size([410]), eps=1e-05, elementwise_affine=True)\n",
       "          )\n",
       "        )\n",
       "      )\n",
       "    )\n",
       "  )\n",
       "  (1): LinearDecoder(\n",
       "    (decoder): Linear(in_features=410, out_features=30000, bias=True)\n",
       "    (output_dp): RNNDropout()\n",
       "  )\n",
       ")"
      ]
     },
     "execution_count": 20,
     "metadata": {},
     "output_type": "execute_result"
    }
   ],
   "source": [
    "learn.model"
   ]
  },
  {
   "cell_type": "code",
   "execution_count": 21,
   "metadata": {},
   "outputs": [
    {
     "data": {
      "text/html": [],
      "text/plain": [
       "<IPython.core.display.HTML object>"
      ]
     },
     "metadata": {},
     "output_type": "display_data"
    },
    {
     "name": "stdout",
     "output_type": "stream",
     "text": [
      "LR Finder is complete, type {learner_name}.recorder.plot() to see the graph.\n"
     ]
    }
   ],
   "source": [
    "learn.lr_find()"
   ]
  },
  {
   "cell_type": "code",
   "execution_count": 22,
   "metadata": {},
   "outputs": [
    {
     "data": {
      "image/png": "[encoded data removed]",
      "text/plain": [
       "<Figure size 432x288 with 1 Axes>"
      ]
     },
     "metadata": {
      "needs_background": "light"
     },
     "output_type": "display_data"
    }
   ],
   "source": [
    "learn.recorder.plot()"
   ]
  },
  {
   "cell_type": "code",
   "execution_count": 23,
   "metadata": {},
   "outputs": [
    {
     "data": {
      "text/html": [
       "<table border=\"1\" class=\"dataframe\">\n",
       "  <thead>\n",
       "    <tr style=\"text-align: left;\">\n",
       "      <th>epoch</th>\n",
       "      <th>train_loss</th>\n",
       "      <th>valid_loss</th>\n",
       "      <th>accuracy</th>\n",
       "      <th>time</th>\n",
       "    </tr>\n",
       "  </thead>\n",
       "  <tbody>\n",
       "    <tr>\n",
       "      <td>0</td>\n",
       "      <td>6.046154</td>\n",
       "      <td>5.969279</td>\n",
       "      <td>0.214419</td>\n",
       "      <td>19:43</td>\n",
       "    </tr>\n",
       "    <tr>\n",
       "      <td>1</td>\n",
       "      <td>5.246222</td>\n",
       "      <td>5.162740</td>\n",
       "      <td>0.277931</td>\n",
       "      <td>19:41</td>\n",
       "    </tr>\n",
       "    <tr>\n",
       "      <td>2</td>\n",
       "      <td>4.646038</td>\n",
       "      <td>4.587741</td>\n",
       "      <td>0.320916</td>\n",
       "      <td>19:40</td>\n",
       "    </tr>\n",
       "    <tr>\n",
       "      <td>3</td>\n",
       "      <td>4.321971</td>\n",
       "      <td>4.293795</td>\n",
       "      <td>0.342960</td>\n",
       "      <td>19:40</td>\n",
       "    </tr>\n",
       "    <tr>\n",
       "      <td>4</td>\n",
       "      <td>4.119202</td>\n",
       "      <td>4.163072</td>\n",
       "      <td>0.349948</td>\n",
       "      <td>19:39</td>\n",
       "    </tr>\n",
       "    <tr>\n",
       "      <td>5</td>\n",
       "      <td>4.131173</td>\n",
       "      <td>4.053243</td>\n",
       "      <td>0.358012</td>\n",
       "      <td>19:39</td>\n",
       "    </tr>\n",
       "    <tr>\n",
       "      <td>6</td>\n",
       "      <td>3.941661</td>\n",
       "      <td>3.905173</td>\n",
       "      <td>0.370526</td>\n",
       "      <td>19:39</td>\n",
       "    </tr>\n",
       "    <tr>\n",
       "      <td>7</td>\n",
       "      <td>3.922519</td>\n",
       "      <td>3.796391</td>\n",
       "      <td>0.381385</td>\n",
       "      <td>19:41</td>\n",
       "    </tr>\n",
       "    <tr>\n",
       "      <td>8</td>\n",
       "      <td>3.752540</td>\n",
       "      <td>3.706470</td>\n",
       "      <td>0.392006</td>\n",
       "      <td>19:43</td>\n",
       "    </tr>\n",
       "    <tr>\n",
       "      <td>9</td>\n",
       "      <td>3.590728</td>\n",
       "      <td>3.583608</td>\n",
       "      <td>0.406611</td>\n",
       "      <td>19:42</td>\n",
       "    </tr>\n",
       "    <tr>\n",
       "      <td>10</td>\n",
       "      <td>3.376964</td>\n",
       "      <td>3.459021</td>\n",
       "      <td>0.422325</td>\n",
       "      <td>19:42</td>\n",
       "    </tr>\n",
       "    <tr>\n",
       "      <td>11</td>\n",
       "      <td>3.345181</td>\n",
       "      <td>3.334092</td>\n",
       "      <td>0.439315</td>\n",
       "      <td>19:42</td>\n",
       "    </tr>\n",
       "    <tr>\n",
       "      <td>12</td>\n",
       "      <td>3.251031</td>\n",
       "      <td>3.234141</td>\n",
       "      <td>0.454446</td>\n",
       "      <td>19:46</td>\n",
       "    </tr>\n",
       "    <tr>\n",
       "      <td>13</td>\n",
       "      <td>3.107232</td>\n",
       "      <td>3.129973</td>\n",
       "      <td>0.470105</td>\n",
       "      <td>19:49</td>\n",
       "    </tr>\n",
       "    <tr>\n",
       "      <td>14</td>\n",
       "      <td>2.894331</td>\n",
       "      <td>3.041914</td>\n",
       "      <td>0.484826</td>\n",
       "      <td>19:49</td>\n",
       "    </tr>\n",
       "    <tr>\n",
       "      <td>15</td>\n",
       "      <td>2.801406</td>\n",
       "      <td>2.967665</td>\n",
       "      <td>0.497212</td>\n",
       "      <td>19:50</td>\n",
       "    </tr>\n",
       "    <tr>\n",
       "      <td>16</td>\n",
       "      <td>2.692499</td>\n",
       "      <td>2.911881</td>\n",
       "      <td>0.506430</td>\n",
       "      <td>19:52</td>\n",
       "    </tr>\n",
       "    <tr>\n",
       "      <td>17</td>\n",
       "      <td>2.682134</td>\n",
       "      <td>2.876472</td>\n",
       "      <td>0.512572</td>\n",
       "      <td>19:53</td>\n",
       "    </tr>\n",
       "    <tr>\n",
       "      <td>18</td>\n",
       "      <td>2.691091</td>\n",
       "      <td>2.860886</td>\n",
       "      <td>0.515205</td>\n",
       "      <td>19:53</td>\n",
       "    </tr>\n",
       "    <tr>\n",
       "      <td>19</td>\n",
       "      <td>2.532032</td>\n",
       "      <td>2.857645</td>\n",
       "      <td>0.515809</td>\n",
       "      <td>19:53</td>\n",
       "    </tr>\n",
       "  </tbody>\n",
       "</table>"
      ],
      "text/plain": [
       "<IPython.core.display.HTML object>"
      ]
     },
     "metadata": {},
     "output_type": "display_data"
    },
    {
     "name": "stdout",
     "output_type": "stream",
     "text": [
      "Better model found at epoch 0 with accuracy value: 0.21441875398159027.\n",
      "Better model found at epoch 1 with accuracy value: 0.27793118357658386.\n",
      "Better model found at epoch 2 with accuracy value: 0.32091566920280457.\n",
      "Better model found at epoch 3 with accuracy value: 0.3429602384567261.\n",
      "Better model found at epoch 4 with accuracy value: 0.34994783997535706.\n",
      "Better model found at epoch 5 with accuracy value: 0.35801249742507935.\n",
      "Better model found at epoch 6 with accuracy value: 0.37052613496780396.\n",
      "Better model found at epoch 7 with accuracy value: 0.38138526678085327.\n",
      "Better model found at epoch 8 with accuracy value: 0.39200618863105774.\n",
      "Better model found at epoch 9 with accuracy value: 0.4066111445426941.\n",
      "Better model found at epoch 10 with accuracy value: 0.4223254323005676.\n",
      "Better model found at epoch 11 with accuracy value: 0.43931496143341064.\n",
      "Better model found at epoch 12 with accuracy value: 0.45444634556770325.\n",
      "Better model found at epoch 13 with accuracy value: 0.470104843378067.\n",
      "Better model found at epoch 14 with accuracy value: 0.48482587933540344.\n",
      "Better model found at epoch 15 with accuracy value: 0.4972120523452759.\n",
      "Better model found at epoch 16 with accuracy value: 0.5064296126365662.\n",
      "Better model found at epoch 17 with accuracy value: 0.5125716328620911.\n",
      "Better model found at epoch 18 with accuracy value: 0.515204668045044.\n",
      "Better model found at epoch 19 with accuracy value: 0.5158093571662903.\n"
     ]
    }
   ],
   "source": [
    "learn.fit_one_cycle(20, 1e-3, moms=(0.8,0.7), callbacks=[callbacks.SaveModelCallback(learn, every='improvement', monitor='accuracy', name='model')])"
   ]
  },
  {
   "cell_type": "code",
   "execution_count": 24,
   "metadata": {},
   "outputs": [],
   "source": [
    "TEXT = \"तसेच टायगर कॅपिटल\"\n",
    "N_WORDS = 40\n",
    "N_SENTENCES = 2"
   ]
  },
  {
   "cell_type": "code",
   "execution_count": 30,
   "metadata": {},
   "outputs": [
    {
     "name": "stdout",
     "output_type": "stream",
     "text": [
      "तसेच टायगर कॅपिटल ▁ही ▁अमेरिकेत ▁मेजर ▁लीग ▁बेसबॉल ▁या ▁संघटने तील ▁एक ▁बेसबॉल ▁संघ ▁आहे . ▁हा ▁संघ ▁वॉशिंग्टन ▁ ँ ▁ क्यू अस ▁शहराजवळ ▁स्थित ▁आहे . ▁याचे ▁घर चे ▁सामने ▁विकून ▁विकून ▁येणारी ▁विक्री ▁विक्री ▁युनिव्हर्सिटी तून ही ▁केली ▁जात ▁नाही\n",
      "तसेच टायगर कॅपिटल ▁हा ▁२६ ▁ऑक्टोबर ▁२०१० ▁पासून ▁विश्वासू ▁वंशाचे ▁एक ▁प्रकार ▁आहे . ▁या ▁दुर चित्र धी वर ▁वर्ल्ड ▁व ेन ▁व ▁ग िंग ▁या ▁दोन ▁अ विचार ी ▁सहकार्याने ▁श ॅग मधील ▁सुट्टी चा ▁उच्चांक ▁चालू ▁झाला . ▁ई थ िक\n"
     ]
    }
   ],
   "source": [
    "print(\"\\n\".join(learn.predict(TEXT, N_WORDS, temperature=0.9) for _ in range(N_SENTENCES)))"
   ]
  },
  {
   "cell_type": "code",
   "execution_count": 31,
   "metadata": {},
   "outputs": [
    {
     "data": {
      "text/plain": [
       "17.42045342368867"
      ]
     },
     "execution_count": 31,
     "metadata": {},
     "output_type": "execute_result"
    }
   ],
   "source": [
    "np.exp(2.857645)"
   ]
  },
  {
   "cell_type": "code",
   "execution_count": 32,
   "metadata": {},
   "outputs": [],
   "source": [
    "defaults.device = torch.device('cpu')\n",
    "learn.model.eval()\n",
    "learn.export()"
   ]
  },
  {
   "cell_type": "code",
   "execution_count": 33,
   "metadata": {},
   "outputs": [],
   "source": [
    "# Generating embedding vectors for visualization"
   ]
  },
  {
   "cell_type": "code",
   "execution_count": 34,
   "metadata": {},
   "outputs": [
    {
     "data": {
      "text/plain": [
       "PosixPath('/home/gaurav/PycharmProjects/nlp-for-marathi/language-model')"
      ]
     },
     "execution_count": 34,
     "metadata": {},
     "output_type": "execute_result"
    }
   ],
   "source": [
    "path"
   ]
  },
  {
   "cell_type": "code",
   "execution_count": 15,
   "metadata": {},
   "outputs": [],
   "source": [
    "# defaults.device = torch.device('cpu')"
   ]
  },
  {
   "cell_type": "code",
   "execution_count": 16,
   "metadata": {},
   "outputs": [],
   "source": [
    "# learn = load_learner(path / 'MarathiDataset/')"
   ]
  },
  {
   "cell_type": "code",
   "execution_count": 35,
   "metadata": {},
   "outputs": [],
   "source": [
    "encoder = get_model(learn.model)[0]"
   ]
  },
  {
   "cell_type": "code",
   "execution_count": 36,
   "metadata": {},
   "outputs": [
    {
     "data": {
      "text/plain": [
       "torch.Size([30000, 410])"
      ]
     },
     "execution_count": 36,
     "metadata": {},
     "output_type": "execute_result"
    }
   ],
   "source": [
    "encoder.state_dict()['encoder.weight'].shape"
   ]
  },
  {
   "cell_type": "code",
   "execution_count": 37,
   "metadata": {},
   "outputs": [],
   "source": [
    "embeddings = encoder.state_dict()['encoder.weight']"
   ]
  },
  {
   "cell_type": "code",
   "execution_count": 38,
   "metadata": {},
   "outputs": [],
   "source": [
    "embeddings = np.array(embeddings)"
   ]
  },
  {
   "cell_type": "code",
   "execution_count": 39,
   "metadata": {},
   "outputs": [
    {
     "data": {
      "text/plain": [
       "(410,)"
      ]
     },
     "execution_count": 39,
     "metadata": {},
     "output_type": "execute_result"
    }
   ],
   "source": [
    "embeddings[0].shape"
   ]
  },
  {
   "cell_type": "code",
   "execution_count": 40,
   "metadata": {},
   "outputs": [],
   "source": [
    "df = pd.DataFrame(embeddings)"
   ]
  },
  {
   "cell_type": "code",
   "execution_count": 41,
   "metadata": {},
   "outputs": [
    {
     "data": {
      "text/plain": [
       "(30000, 410)"
      ]
     },
     "execution_count": 41,
     "metadata": {},
     "output_type": "execute_result"
    }
   ],
   "source": [
    "df.shape"
   ]
  },
  {
   "cell_type": "code",
   "execution_count": 42,
   "metadata": {},
   "outputs": [],
   "source": [
    "df.to_csv('embeddings_transformer.tsv', sep='\\t', index=False, header=False)"
   ]
  },
  {
   "cell_type": "code",
   "execution_count": 43,
   "metadata": {},
   "outputs": [
    {
     "data": {
      "text/html": [
       "<div>\n",
       "<style scoped>\n",
       "    .dataframe tbody tr th:only-of-type {\n",
       "        vertical-align: middle;\n",
       "    }\n",
       "\n",
       "    .dataframe tbody tr th {\n",
       "        vertical-align: top;\n",
       "    }\n",
       "\n",
       "    .dataframe thead th {\n",
       "        text-align: right;\n",
       "    }\n",
       "</style>\n",
       "<table border=\"1\" class=\"dataframe\">\n",
       "  <thead>\n",
       "    <tr style=\"text-align: right;\">\n",
       "      <th></th>\n",
       "      <th>0</th>\n",
       "      <th>1</th>\n",
       "      <th>2</th>\n",
       "      <th>3</th>\n",
       "      <th>4</th>\n",
       "      <th>5</th>\n",
       "      <th>6</th>\n",
       "      <th>7</th>\n",
       "      <th>8</th>\n",
       "      <th>9</th>\n",
       "      <th>...</th>\n",
       "      <th>400</th>\n",
       "      <th>401</th>\n",
       "      <th>402</th>\n",
       "      <th>403</th>\n",
       "      <th>404</th>\n",
       "      <th>405</th>\n",
       "      <th>406</th>\n",
       "      <th>407</th>\n",
       "      <th>408</th>\n",
       "      <th>409</th>\n",
       "    </tr>\n",
       "  </thead>\n",
       "  <tbody>\n",
       "    <tr>\n",
       "      <td>0</td>\n",
       "      <td>-0.010937</td>\n",
       "      <td>0.113969</td>\n",
       "      <td>0.147530</td>\n",
       "      <td>-0.121011</td>\n",
       "      <td>-0.278890</td>\n",
       "      <td>-0.229895</td>\n",
       "      <td>0.030712</td>\n",
       "      <td>-0.257502</td>\n",
       "      <td>0.031346</td>\n",
       "      <td>0.064200</td>\n",
       "      <td>...</td>\n",
       "      <td>-0.134024</td>\n",
       "      <td>0.036281</td>\n",
       "      <td>0.020691</td>\n",
       "      <td>-0.273533</td>\n",
       "      <td>0.060012</td>\n",
       "      <td>0.151923</td>\n",
       "      <td>-0.245915</td>\n",
       "      <td>0.319201</td>\n",
       "      <td>0.240032</td>\n",
       "      <td>0.149429</td>\n",
       "    </tr>\n",
       "    <tr>\n",
       "      <td>1</td>\n",
       "      <td>0.295039</td>\n",
       "      <td>-0.018878</td>\n",
       "      <td>0.072087</td>\n",
       "      <td>0.047736</td>\n",
       "      <td>-0.206541</td>\n",
       "      <td>0.199635</td>\n",
       "      <td>-0.135650</td>\n",
       "      <td>-0.045816</td>\n",
       "      <td>-0.195255</td>\n",
       "      <td>-0.088934</td>\n",
       "      <td>...</td>\n",
       "      <td>0.003693</td>\n",
       "      <td>0.101281</td>\n",
       "      <td>0.030086</td>\n",
       "      <td>0.114028</td>\n",
       "      <td>0.121945</td>\n",
       "      <td>-0.025101</td>\n",
       "      <td>0.056296</td>\n",
       "      <td>-0.104296</td>\n",
       "      <td>0.199662</td>\n",
       "      <td>0.024636</td>\n",
       "    </tr>\n",
       "    <tr>\n",
       "      <td>2</td>\n",
       "      <td>0.300438</td>\n",
       "      <td>-0.021809</td>\n",
       "      <td>0.069141</td>\n",
       "      <td>0.050555</td>\n",
       "      <td>-0.206079</td>\n",
       "      <td>0.194410</td>\n",
       "      <td>-0.131522</td>\n",
       "      <td>-0.045516</td>\n",
       "      <td>-0.199033</td>\n",
       "      <td>-0.078396</td>\n",
       "      <td>...</td>\n",
       "      <td>0.006615</td>\n",
       "      <td>0.102489</td>\n",
       "      <td>0.030537</td>\n",
       "      <td>0.116891</td>\n",
       "      <td>0.122554</td>\n",
       "      <td>-0.025217</td>\n",
       "      <td>0.065190</td>\n",
       "      <td>-0.098409</td>\n",
       "      <td>0.209584</td>\n",
       "      <td>0.019984</td>\n",
       "    </tr>\n",
       "    <tr>\n",
       "      <td>3</td>\n",
       "      <td>0.309477</td>\n",
       "      <td>0.084436</td>\n",
       "      <td>0.105854</td>\n",
       "      <td>0.014735</td>\n",
       "      <td>-0.212537</td>\n",
       "      <td>-0.559150</td>\n",
       "      <td>-0.508897</td>\n",
       "      <td>0.101343</td>\n",
       "      <td>0.247154</td>\n",
       "      <td>0.137923</td>\n",
       "      <td>...</td>\n",
       "      <td>0.141037</td>\n",
       "      <td>-0.247002</td>\n",
       "      <td>0.350776</td>\n",
       "      <td>0.132599</td>\n",
       "      <td>0.144243</td>\n",
       "      <td>-0.103490</td>\n",
       "      <td>-0.531618</td>\n",
       "      <td>-1.074541</td>\n",
       "      <td>0.289434</td>\n",
       "      <td>0.028357</td>\n",
       "    </tr>\n",
       "    <tr>\n",
       "      <td>4</td>\n",
       "      <td>-0.205207</td>\n",
       "      <td>0.317478</td>\n",
       "      <td>0.022261</td>\n",
       "      <td>-0.071201</td>\n",
       "      <td>-0.112540</td>\n",
       "      <td>-0.089981</td>\n",
       "      <td>-0.029354</td>\n",
       "      <td>0.013353</td>\n",
       "      <td>-0.082606</td>\n",
       "      <td>-0.297414</td>\n",
       "      <td>...</td>\n",
       "      <td>-0.095006</td>\n",
       "      <td>-0.032324</td>\n",
       "      <td>0.174386</td>\n",
       "      <td>-0.102697</td>\n",
       "      <td>0.104492</td>\n",
       "      <td>0.034446</td>\n",
       "      <td>-0.277193</td>\n",
       "      <td>-0.300818</td>\n",
       "      <td>-0.232282</td>\n",
       "      <td>0.034038</td>\n",
       "    </tr>\n",
       "  </tbody>\n",
       "</table>\n",
       "<p>5 rows × 410 columns</p>\n",
       "</div>"
      ],
      "text/plain": [
       "        0         1         2         3         4         5         6    \\\n",
       "0 -0.010937  0.113969  0.147530 -0.121011 -0.278890 -0.229895  0.030712   \n",
       "1  0.295039 -0.018878  0.072087  0.047736 -0.206541  0.199635 -0.135650   \n",
       "2  0.300438 -0.021809  0.069141  0.050555 -0.206079  0.194410 -0.131522   \n",
       "3  0.309477  0.084436  0.105854  0.014735 -0.212537 -0.559150 -0.508897   \n",
       "4 -0.205207  0.317478  0.022261 -0.071201 -0.112540 -0.089981 -0.029354   \n",
       "\n",
       "        7         8         9    ...       400       401       402       403  \\\n",
       "0 -0.257502  0.031346  0.064200  ... -0.134024  0.036281  0.020691 -0.273533   \n",
       "1 -0.045816 -0.195255 -0.088934  ...  0.003693  0.101281  0.030086  0.114028   \n",
       "2 -0.045516 -0.199033 -0.078396  ...  0.006615  0.102489  0.030537  0.116891   \n",
       "3  0.101343  0.247154  0.137923  ...  0.141037 -0.247002  0.350776  0.132599   \n",
       "4  0.013353 -0.082606 -0.297414  ... -0.095006 -0.032324  0.174386 -0.102697   \n",
       "\n",
       "        404       405       406       407       408       409  \n",
       "0  0.060012  0.151923 -0.245915  0.319201  0.240032  0.149429  \n",
       "1  0.121945 -0.025101  0.056296 -0.104296  0.199662  0.024636  \n",
       "2  0.122554 -0.025217  0.065190 -0.098409  0.209584  0.019984  \n",
       "3  0.144243 -0.103490 -0.531618 -1.074541  0.289434  0.028357  \n",
       "4  0.104492  0.034446 -0.277193 -0.300818 -0.232282  0.034038  \n",
       "\n",
       "[5 rows x 410 columns]"
      ]
     },
     "execution_count": 43,
     "metadata": {},
     "output_type": "execute_result"
    }
   ],
   "source": [
    "df.head()"
   ]
  },
  {
   "cell_type": "code",
   "execution_count": 44,
   "metadata": {},
   "outputs": [],
   "source": [
    "df2 = pd.DataFrame(itos)"
   ]
  },
  {
   "cell_type": "code",
   "execution_count": 45,
   "metadata": {},
   "outputs": [
    {
     "data": {
      "text/html": [
       "<div>\n",
       "<style scoped>\n",
       "    .dataframe tbody tr th:only-of-type {\n",
       "        vertical-align: middle;\n",
       "    }\n",
       "\n",
       "    .dataframe tbody tr th {\n",
       "        vertical-align: top;\n",
       "    }\n",
       "\n",
       "    .dataframe thead th {\n",
       "        text-align: right;\n",
       "    }\n",
       "</style>\n",
       "<table border=\"1\" class=\"dataframe\">\n",
       "  <thead>\n",
       "    <tr style=\"text-align: right;\">\n",
       "      <th></th>\n",
       "      <th>0</th>\n",
       "    </tr>\n",
       "  </thead>\n",
       "  <tbody>\n",
       "    <tr>\n",
       "      <td>0</td>\n",
       "      <td>&lt;unk&gt;</td>\n",
       "    </tr>\n",
       "    <tr>\n",
       "      <td>1</td>\n",
       "      <td>&lt;s&gt;</td>\n",
       "    </tr>\n",
       "    <tr>\n",
       "      <td>2</td>\n",
       "      <td>&lt;/s&gt;</td>\n",
       "    </tr>\n",
       "    <tr>\n",
       "      <td>3</td>\n",
       "      <td>.</td>\n",
       "    </tr>\n",
       "    <tr>\n",
       "      <td>4</td>\n",
       "      <td>▁</td>\n",
       "    </tr>\n",
       "  </tbody>\n",
       "</table>\n",
       "</div>"
      ],
      "text/plain": [
       "       0\n",
       "0  <unk>\n",
       "1    <s>\n",
       "2   </s>\n",
       "3      .\n",
       "4      ▁"
      ]
     },
     "execution_count": 45,
     "metadata": {},
     "output_type": "execute_result"
    }
   ],
   "source": [
    "df2.head()"
   ]
  },
  {
   "cell_type": "code",
   "execution_count": 46,
   "metadata": {},
   "outputs": [
    {
     "data": {
      "text/plain": [
       "(30000, 1)"
      ]
     },
     "execution_count": 46,
     "metadata": {},
     "output_type": "execute_result"
    }
   ],
   "source": [
    "df2.shape"
   ]
  },
  {
   "cell_type": "code",
   "execution_count": 47,
   "metadata": {},
   "outputs": [],
   "source": [
    "df2.to_csv('embeddings_transformer_metadata.tsv', sep='\\t', index=False, header=False)"
   ]
  },
  {
   "cell_type": "code",
   "execution_count": 48,
   "metadata": {
    "scrolled": true
   },
   "outputs": [
    {
     "data": {
      "text/plain": [
       "tensor([ 0.2950, -0.0189,  0.0721,  0.0477, -0.2065,  0.1996, -0.1357, -0.0458,\n",
       "        -0.1953, -0.0889,  0.0342,  0.0526,  0.0017, -0.2536,  0.1059, -0.1432,\n",
       "        -0.2187,  0.0756, -0.0183,  0.0765,  0.0174,  0.0833, -0.0759,  0.2628,\n",
       "        -0.1734, -0.0598, -0.1775,  0.0486,  0.1361, -0.2029, -0.1878, -0.1599,\n",
       "        -0.1213,  0.0983, -0.0728,  0.1632,  0.0142,  0.0435,  0.0396, -0.1823,\n",
       "        -0.0212,  0.0931,  0.2087, -0.0341, -0.3015,  0.2613,  0.0362, -0.1587,\n",
       "         0.0619,  0.0293,  0.1595,  0.2002,  0.1558,  0.0987, -0.1003,  0.1076,\n",
       "        -0.1100,  0.0070,  0.0303, -0.2286, -0.2683,  0.0429, -0.1596,  0.3389,\n",
       "         0.1505, -0.1421, -0.0898,  0.0534, -0.0639, -0.4874,  0.2601, -0.1792,\n",
       "        -0.1144, -0.1197,  0.1806,  0.0877,  0.2033,  0.1452,  0.0564,  0.3800,\n",
       "        -0.1298, -0.1060, -0.1858,  0.0663,  0.0331,  0.2009, -0.0947,  0.0275,\n",
       "        -0.0091,  0.0473, -0.0577, -0.2623,  0.0455, -0.1023,  0.0337,  0.0830,\n",
       "        -0.1576, -0.0552,  0.1055, -0.0453,  0.1472,  0.1947, -0.1932,  0.1416,\n",
       "         0.2219, -0.0765,  0.1756,  0.0570,  0.1119,  0.2020,  0.1107, -0.0624,\n",
       "        -0.1053, -0.0380,  0.1294,  0.1296, -0.1464,  0.2594, -0.1986, -0.1348,\n",
       "        -0.1170, -0.1502,  0.1049, -0.0332,  0.1237,  0.4600,  0.1405, -0.2790,\n",
       "        -0.1664, -0.1507,  0.1250,  0.2437, -0.1357, -0.2354,  0.0618, -0.0280,\n",
       "         0.0337,  0.0507,  0.0681, -0.0813,  0.1823,  0.0692, -0.0718,  0.0133,\n",
       "        -0.0236,  0.1473, -0.1090, -0.0321, -0.0332,  0.1253, -0.3146, -0.0488,\n",
       "         0.0357, -0.0458, -0.0246,  0.0725, -0.0665,  0.1751, -0.2468, -0.0091,\n",
       "         0.0133, -0.0308,  0.0057,  0.1410,  0.1566,  0.1456,  0.0880,  0.0110,\n",
       "         0.1098,  0.0159,  0.1911,  0.1807,  0.1233, -0.0041,  0.1223,  0.2050,\n",
       "        -0.0051, -0.1680,  0.0971,  0.0740,  0.0831,  0.0073,  0.0317,  0.0390,\n",
       "         0.0439, -0.2318,  0.0808, -0.1134, -0.0065, -0.2096,  0.1244, -0.2723,\n",
       "         0.1324,  0.0208, -0.0019, -0.1176,  0.1313,  0.1126,  0.0301,  0.1170,\n",
       "         0.0298,  0.1159,  0.0740,  0.0478, -0.3161,  0.0736,  0.1303,  0.2721,\n",
       "        -0.2719, -0.0549,  0.0188, -0.1210, -0.1024,  0.0433,  0.1516, -0.0132,\n",
       "        -0.1896, -0.0322,  0.0699, -0.1009,  0.1460,  0.2084, -0.0600,  0.1513,\n",
       "        -0.0416, -0.0338, -0.1067, -0.1465,  0.0635,  0.2286,  0.2506,  0.1481,\n",
       "        -0.0740, -0.1322, -0.1210,  0.3079, -0.0709, -0.0090,  0.0753,  0.1038,\n",
       "         0.4381, -0.0453,  0.2700, -0.1578,  0.0611,  0.0041,  0.0647, -0.1909,\n",
       "         0.0381, -0.4611, -0.1986,  0.0271,  0.2308, -0.2556,  0.1069,  0.1481,\n",
       "         0.0097,  0.1016, -0.0828, -0.0724,  0.0553, -0.0324, -0.0197,  0.2902,\n",
       "        -0.0353,  0.0069, -0.0044,  0.0307, -0.0696, -0.3078,  0.0932, -0.0066,\n",
       "        -0.0824, -0.1095,  0.0818,  0.1038, -0.0317, -0.0043,  0.1249,  0.0462,\n",
       "        -0.0361,  0.0510,  0.0950, -0.1197,  0.1784,  0.2363, -0.0646,  0.1816,\n",
       "         0.1614, -0.0356,  0.0641,  0.0066,  0.3930,  0.0738,  0.0147,  0.0476,\n",
       "        -0.0607,  0.0051, -0.0507, -0.0648, -0.0728,  0.2617, -0.2326,  0.1689,\n",
       "         0.2299,  0.1389,  0.1126,  0.0116,  0.0645, -0.0608, -0.2252,  0.0928,\n",
       "         0.1027,  0.3943,  0.0384, -0.0920,  0.3108, -0.0914,  0.1360,  0.0175,\n",
       "         0.3760,  0.2048, -0.0445, -0.3131,  0.0485,  0.0949, -0.1361, -0.0611,\n",
       "         0.0024,  0.1845,  0.0201, -0.1664, -0.1156,  0.3418,  0.1131,  0.0821,\n",
       "         0.1391, -0.0719, -0.0931,  0.2262, -0.0661, -0.0373, -0.0899,  0.0722,\n",
       "         0.2239,  0.0483,  0.2297, -0.1701,  0.0069,  0.0567,  0.0742,  0.0039,\n",
       "        -0.2042,  0.0614,  0.1258, -0.0705,  0.0521,  0.0160,  0.3129, -0.0469,\n",
       "        -0.0528,  0.1462,  0.0272, -0.0024, -0.1117,  0.1272, -0.1439,  0.0230,\n",
       "         0.0855,  0.0972, -0.1689, -0.2738,  0.1728, -0.1168, -0.0473, -0.0598,\n",
       "         0.0815,  0.1708, -0.0473,  0.0596, -0.1715,  0.0157,  0.1400,  0.0282,\n",
       "         0.1759,  0.0696,  0.0708,  0.1900,  0.1730,  0.0083,  0.1599,  0.0861,\n",
       "         0.0715,  0.1762, -0.0185,  0.0482,  0.0355, -0.0338,  0.0164,  0.0744,\n",
       "         0.0037,  0.1013,  0.0301,  0.1140,  0.1219, -0.0251,  0.0563, -0.1043,\n",
       "         0.1997,  0.0246], device='cuda:0')"
      ]
     },
     "execution_count": 48,
     "metadata": {},
     "output_type": "execute_result"
    }
   ],
   "source": [
    "encoder.state_dict()['encoder.weight'][1]"
   ]
  },
  {
   "cell_type": "code",
   "execution_count": null,
   "metadata": {},
   "outputs": [],
   "source": []
  }
 ],
 "metadata": {
  "kernelspec": {
   "display_name": "Python 3",
   "language": "python",
   "name": "python3"
  },
  "language_info": {
   "codemirror_mode": {
    "name": "ipython",
    "version": 3
   },
   "file_extension": ".py",
   "mimetype": "text/x-python",
   "name": "python",
   "nbconvert_exporter": "python",
   "pygments_lexer": "ipython3",
   "version": "3.7.4"
  }
 },
 "nbformat": 4,
 "nbformat_minor": 2
}
