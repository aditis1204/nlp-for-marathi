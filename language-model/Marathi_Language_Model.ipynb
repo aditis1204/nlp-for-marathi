{
 "cells": [
  {
   "cell_type": "code",
   "execution_count": 1,
   "metadata": {},
   "outputs": [],
   "source": [
    "%reload_ext autoreload\n",
    "%autoreload 2\n",
    "%matplotlib inline"
   ]
  },
  {
   "cell_type": "code",
   "execution_count": 2,
   "metadata": {},
   "outputs": [],
   "source": [
    "from fastai.text import *\n",
    "import numpy as np\n",
    "from sklearn.model_selection import train_test_split\n",
    "import pickle\n",
    "import sentencepiece as spm"
   ]
  },
  {
   "cell_type": "code",
   "execution_count": 3,
   "metadata": {},
   "outputs": [
    {
     "data": {
      "text/plain": [
       "('1.0.40', '1.0.0')"
      ]
     },
     "execution_count": 3,
     "metadata": {},
     "output_type": "execute_result"
    }
   ],
   "source": [
    "import fastai, torch\n",
    "fastai.__version__ , torch.__version__"
   ]
  },
  {
   "cell_type": "code",
   "execution_count": 4,
   "metadata": {},
   "outputs": [],
   "source": [
    "torch.cuda.set_device(0)"
   ]
  },
  {
   "cell_type": "code",
   "execution_count": 5,
   "metadata": {},
   "outputs": [],
   "source": [
    "path = Path('/home/gaurav/PycharmProjects/nlp-for-marathi/language-model')"
   ]
  },
  {
   "cell_type": "code",
   "execution_count": 6,
   "metadata": {},
   "outputs": [],
   "source": [
    "p = path.glob('MarathiWikipediaArticles/*')\n",
    "files = [x for x in p if x.is_file()]"
   ]
  },
  {
   "cell_type": "code",
   "execution_count": 7,
   "metadata": {},
   "outputs": [
    {
     "data": {
      "text/plain": [
       "85537"
      ]
     },
     "execution_count": 7,
     "metadata": {},
     "output_type": "execute_result"
    }
   ],
   "source": [
    "len(files)"
   ]
  },
  {
   "cell_type": "code",
   "execution_count": 8,
   "metadata": {},
   "outputs": [],
   "source": [
    "train_files, test_files = train_test_split(files, test_size=0.3)"
   ]
  },
  {
   "cell_type": "code",
   "execution_count": 9,
   "metadata": {},
   "outputs": [
    {
     "data": {
      "text/plain": [
       "(59875, 25662)"
      ]
     },
     "execution_count": 9,
     "metadata": {},
     "output_type": "execute_result"
    }
   ],
   "source": [
    "len(train_files), len(test_files)"
   ]
  },
  {
   "cell_type": "code",
   "execution_count": 10,
   "metadata": {},
   "outputs": [
    {
     "data": {
      "text/plain": [
       "PosixPath('/home/gaurav/PycharmProjects/nlp-for-marathi/language-model/MarathiWikipediaArticles/24822.pkl')"
      ]
     },
     "execution_count": 10,
     "metadata": {},
     "output_type": "execute_result"
    }
   ],
   "source": [
    "train_files[0]"
   ]
  },
  {
   "cell_type": "code",
   "execution_count": 11,
   "metadata": {},
   "outputs": [
    {
     "data": {
      "text/plain": [
       "'24822'"
      ]
     },
     "execution_count": 11,
     "metadata": {},
     "output_type": "execute_result"
    }
   ],
   "source": [
    "str(train_files[0]).split('/')[-1][:-4]"
   ]
  },
  {
   "cell_type": "code",
   "execution_count": 12,
   "metadata": {},
   "outputs": [],
   "source": [
    "# Preparing dataset for fastai\n",
    "for file in train_files:\n",
    "    with open(file, 'rb') as f:\n",
    "        text = pickle.load(f)\n",
    "    with open(path/'MarathiDataset'/'train'/(str(file).split('/')[-1][:-4]+'.txt'), \"w\") as text_file:\n",
    "        text_file.write(text)"
   ]
  },
  {
   "cell_type": "code",
   "execution_count": 13,
   "metadata": {},
   "outputs": [],
   "source": [
    "for file in test_files:\n",
    "    with open(file, 'rb') as f:\n",
    "        text = pickle.load(f)\n",
    "    with open(path/'MarathiDataset'/'valid'/(str(file).split('/')[-1][:-4]+'.txt'), \"w\") as text_file:\n",
    "        text_file.write(text)"
   ]
  },
  {
   "cell_type": "code",
   "execution_count": 14,
   "metadata": {},
   "outputs": [],
   "source": [
    "class MarathiTokenizer(BaseTokenizer):\n",
    "    def __init__(self, lang:str):\n",
    "        self.lang = lang\n",
    "        self.sp = spm.SentencePieceProcessor()\n",
    "        self.sp.Load(str(path/\"../tokenizer/marathi_lm.model\"))\n",
    "        \n",
    "    def tokenizer(self, t:str) -> List[str]:\n",
    "        return self.sp.EncodeAsPieces(t)"
   ]
  },
  {
   "cell_type": "code",
   "execution_count": 15,
   "metadata": {},
   "outputs": [],
   "source": [
    "sp = spm.SentencePieceProcessor()\n",
    "sp.Load(str(path/\"../tokenizer/marathi_lm.model\"))\n",
    "itos = [sp.IdToPiece(int(i)) for i in range(30000)]"
   ]
  },
  {
   "cell_type": "code",
   "execution_count": 16,
   "metadata": {},
   "outputs": [],
   "source": [
    "# 30,000 is the vocab size that we chose in sentencepiece\n",
    "marathi_vocab = Vocab(itos)"
   ]
  },
  {
   "cell_type": "code",
   "execution_count": 17,
   "metadata": {},
   "outputs": [],
   "source": [
    "tokenizer = Tokenizer(tok_func=MarathiTokenizer, lang='mr')"
   ]
  },
  {
   "cell_type": "code",
   "execution_count": 18,
   "metadata": {},
   "outputs": [
    {
     "data": {
      "text/plain": [
       "['xxunk', 'xxpad', 'xxbos', 'xxfld', 'xxmaj', 'xxup', 'xxrep', 'xxwrep']"
      ]
     },
     "execution_count": 18,
     "metadata": {},
     "output_type": "execute_result"
    }
   ],
   "source": [
    "tokenizer.special_cases"
   ]
  },
  {
   "cell_type": "code",
   "execution_count": 19,
   "metadata": {},
   "outputs": [],
   "source": [
    "data_lm = TextLMDataBunch.from_folder(path=path/'MarathiDataset', tokenizer=tokenizer, vocab=marathi_vocab)"
   ]
  },
  {
   "cell_type": "code",
   "execution_count": 20,
   "metadata": {},
   "outputs": [
    {
     "data": {
      "text/plain": [
       "64"
      ]
     },
     "execution_count": 20,
     "metadata": {},
     "output_type": "execute_result"
    }
   ],
   "source": [
    "data_lm.batch_size"
   ]
  },
  {
   "cell_type": "code",
   "execution_count": 21,
   "metadata": {},
   "outputs": [],
   "source": [
    "data_lm.save()"
   ]
  },
  {
   "cell_type": "code",
   "execution_count": 23,
   "metadata": {},
   "outputs": [
    {
     "data": {
      "text/html": [
       "<table>  <col width='5%'>  <col width='95%'>  <tr>\n",
       "    <th>idx</th>\n",
       "    <th>text</th>\n",
       "  </tr>\n",
       "  <tr>\n",
       "    <th>0</th>\n",
       "    <th>▁x x bo s ▁घनमीटर ▁हे ▁आकारमान ▁मोजण्या चे ▁एक ▁एकक ▁आहे . ▁१ ▁मी ▁ x ▁१ ▁मी ▁ x ▁१ ▁मी ▁एवढ्या ▁क्षेत्राचे ▁आकारमान ▁१ ▁घनमीटर ▁असते . ▁x x bo s ▁अल्माटी ▁हा ▁मध्य ▁आशियातील ▁कझाकस्तान ▁देशाचा ▁एक ▁प्रांत ▁आहे . ▁अल्माटी ▁ह्याच ▁नावाचे ▁मोठे ▁शहर ▁ह ्य ▁प्रांत ाच्या ▁अंतर्गत ▁असले ▁तरी ▁ते ▁राजकीय ▁दृष्ट्या ▁अल्माटी ▁प्रांत ाचा ▁भाग ▁नसून ▁एक ▁स्वायत्त ▁शहर ▁आहे . ▁गुणक</th>\n",
       "  </tr>\n",
       "  <tr>\n",
       "    <th>1</th>\n",
       "    <th>. ▁तसेच ▁टायगर ▁कॅपिटल ▁ऑफ ▁इंडिया ▁पण ▁सं भो तात . ▁नागपुर ास ▁संत ्रा नगरी ▁असे ही ▁संबोधतात ▁कारण ▁शहरातील ▁संत ्री ▁प्रसिद्ध ▁आहेत . ▁मोठ्या ▁प्रमाणावर ▁संत्र्या चे ▁पिके ▁येथे ▁होतात . ▁संत्र्या च्या ▁बागा ▁मोठ्या ▁प्रमाणावर ▁आढळून ▁येतात . ▁त्यामुळे ▁संत्र्या ची ▁मोठी ▁बाजारपेठ ▁येथे ▁आहे . ▁ नुकताच ▁2002 ▁मध्ये ▁शहराचा ▁३०० वा ▁वर्धा पन दिन ▁साजरा ▁करण्यात ▁आला . ▁नजिकच्या ▁आ थि र्क ▁गुंतवणूक ीमुळे</th>\n",
       "  </tr>\n",
       "  <tr>\n",
       "    <th>2</th>\n",
       "    <th>▁या ▁विभागात ▁समावेश ▁होतो . ▁कोत े ▁पाटील ांच्या ▁नावावरून ▁कोथरूड ▁असे ▁नाव ▁पडले ▁असा ▁एक ▁प्र वाद ▁आहे . . ▁पुरेसे ▁ऐतिहासिक ▁पुरावे ▁उपलब्ध ▁नसले ▁तरीही ▁थोरले ▁बाजीराव ांच्या ▁काळात ▁त्यांच्या ▁द्वितीय ▁भार ्या ▁मस्तानी ▁यांचा ▁महाल ही ▁कोथरूड ▁बाग ▁परिसरात ▁असावा ▁असे ▁मानले ▁जात ▁असे . ▁कोथरूड ▁गावठाण ▁येथे ▁नाना ▁फडणवीस ▁यांची ▁पेरू ची ▁बाग ▁होती . त्यांच्या ▁पश्चात ▁ब्रिटिश ▁काळातील ▁कलेक्टर ▁मॉर्गन ▁यांनी ▁काढलेल्या ▁लिलाव ात ▁हि</th>\n",
       "  </tr>\n",
       "  <tr>\n",
       "    <th>3</th>\n",
       "    <th>ur se . ▁it ▁cr os s es ▁ ri ver <unk> ava ri ▁near <unk> ▁k op ar ga on , ▁the <unk> ava ra ▁near <unk> ▁k ol har , ▁the <unk> la ▁near <unk> hu ri ▁and ▁the <unk> ▁b hi ma ▁near ▁the ▁ district ▁b order ▁where ▁there ▁are ▁ br id ge s . ▁it ▁cr os s es ▁a ▁major ▁na ll ah</th>\n",
       "  </tr>\n",
       "  <tr>\n",
       "    <th>4</th>\n",
       "    <th>▁my ▁place . ▁he ▁who ▁so ▁ ack n ow led ge s ▁it ▁will ▁ o b ta in ▁his ▁re ward . ▁the <unk> ▁will ▁ res cu e ▁him . <unk> ▁k n ow ▁this ▁as ▁the ▁truth \" . <unk> <unk> ▁g obind <unk> ▁thus ▁pass ed ▁on ▁the ▁success ion ▁with ▁du e ▁ceremony ▁to ▁the <unk> ly <unk> o k , ▁the <unk> <unk></th>\n",
       "  </tr>\n",
       "</table>\n"
      ],
      "text/plain": [
       "<IPython.core.display.HTML object>"
      ]
     },
     "metadata": {},
     "output_type": "display_data"
    }
   ],
   "source": [
    "data_lm.show_batch()"
   ]
  },
  {
   "cell_type": "code",
   "execution_count": 24,
   "metadata": {},
   "outputs": [
    {
     "data": {
      "text/plain": [
       "30000"
      ]
     },
     "execution_count": 24,
     "metadata": {},
     "output_type": "execute_result"
    }
   ],
   "source": [
    "len(data_lm.vocab.itos)"
   ]
  },
  {
   "cell_type": "code",
   "execution_count": 25,
   "metadata": {},
   "outputs": [],
   "source": [
    "learn = language_model_learner(data_lm, drop_mult=0.3)"
   ]
  },
  {
   "cell_type": "code",
   "execution_count": 26,
   "metadata": {},
   "outputs": [
    {
     "data": {
      "text/plain": [
       "0"
      ]
     },
     "execution_count": 26,
     "metadata": {},
     "output_type": "execute_result"
    }
   ],
   "source": [
    "gc.collect()"
   ]
  },
  {
   "cell_type": "code",
   "execution_count": 27,
   "metadata": {},
   "outputs": [
    {
     "name": "stdout",
     "output_type": "stream",
     "text": [
      "LR Finder is complete, type {learner_name}.recorder.plot() to see the graph.\n"
     ]
    }
   ],
   "source": [
    "learn.lr_find()"
   ]
  },
  {
   "cell_type": "code",
   "execution_count": 28,
   "metadata": {},
   "outputs": [
    {
     "data": {
      "image/png": "[encoded data removed]",
      "text/plain": [
       "<Figure size 432x288 with 1 Axes>"
      ]
     },
     "metadata": {
      "needs_background": "light"
     },
     "output_type": "display_data"
    }
   ],
   "source": [
    "learn.recorder.plot()"
   ]
  },
  {
   "cell_type": "code",
   "execution_count": 29,
   "metadata": {},
   "outputs": [
    {
     "data": {
      "text/html": [
       "Total time: 08:16 <p><table style='width:300px; margin-bottom:10px'>\n",
       "  <tr>\n",
       "    <th>epoch</th>\n",
       "    <th>train_loss</th>\n",
       "    <th>valid_loss</th>\n",
       "    <th>accuracy</th>\n",
       "  </tr>\n",
       "  <tr>\n",
       "    <th>1</th>\n",
       "    <th>4.510442</th>\n",
       "    <th>4.438874</th>\n",
       "    <th>0.315410</th>\n",
       "  </tr>\n",
       "</table>\n"
      ],
      "text/plain": [
       "<IPython.core.display.HTML object>"
      ]
     },
     "metadata": {},
     "output_type": "display_data"
    }
   ],
   "source": [
    "learn.fit_one_cycle(1, 1e-2, moms=(0.8,0.7))"
   ]
  },
  {
   "cell_type": "code",
   "execution_count": 30,
   "metadata": {},
   "outputs": [],
   "source": [
    "learn.save('first', with_opt=True)"
   ]
  },
  {
   "cell_type": "code",
   "execution_count": 31,
   "metadata": {},
   "outputs": [],
   "source": [
    "learn.load('first', with_opt=True);"
   ]
  },
  {
   "cell_type": "code",
   "execution_count": 32,
   "metadata": {},
   "outputs": [],
   "source": [
    "learn.unfreeze()"
   ]
  },
  {
   "cell_type": "code",
   "execution_count": 33,
   "metadata": {},
   "outputs": [
    {
     "data": {
      "text/html": [
       "Total time: 41:34 <p><table style='width:300px; margin-bottom:10px'>\n",
       "  <tr>\n",
       "    <th>epoch</th>\n",
       "    <th>train_loss</th>\n",
       "    <th>valid_loss</th>\n",
       "    <th>accuracy</th>\n",
       "  </tr>\n",
       "  <tr>\n",
       "    <th>1</th>\n",
       "    <th>4.382417</th>\n",
       "    <th>4.451831</th>\n",
       "    <th>0.310669</th>\n",
       "  </tr>\n",
       "  <tr>\n",
       "    <th>2</th>\n",
       "    <th>4.379301</th>\n",
       "    <th>4.400976</th>\n",
       "    <th>0.312358</th>\n",
       "  </tr>\n",
       "  <tr>\n",
       "    <th>3</th>\n",
       "    <th>4.051602</th>\n",
       "    <th>4.094686</th>\n",
       "    <th>0.342677</th>\n",
       "  </tr>\n",
       "  <tr>\n",
       "    <th>4</th>\n",
       "    <th>3.679856</th>\n",
       "    <th>3.718292</th>\n",
       "    <th>0.392597</th>\n",
       "  </tr>\n",
       "  <tr>\n",
       "    <th>5</th>\n",
       "    <th>3.327582</th>\n",
       "    <th>3.598108</th>\n",
       "    <th>0.410449</th>\n",
       "  </tr>\n",
       "</table>\n"
      ],
      "text/plain": [
       "<IPython.core.display.HTML object>"
      ]
     },
     "metadata": {},
     "output_type": "display_data"
    }
   ],
   "source": [
    "learn.fit_one_cycle(5, 1e-2, moms=(0.8,0.7))"
   ]
  },
  {
   "cell_type": "code",
   "execution_count": 34,
   "metadata": {},
   "outputs": [],
   "source": [
    "learn.save('second_gu_lm', with_opt=True)"
   ]
  },
  {
   "cell_type": "code",
   "execution_count": 35,
   "metadata": {},
   "outputs": [],
   "source": [
    "learn.load('second_gu_lm', with_opt=True);"
   ]
  },
  {
   "cell_type": "code",
   "execution_count": 36,
   "metadata": {},
   "outputs": [
    {
     "data": {
      "text/html": [
       "Total time: 5:35:19 <p><table style='width:300px; margin-bottom:10px'>\n",
       "  <tr>\n",
       "    <th>epoch</th>\n",
       "    <th>train_loss</th>\n",
       "    <th>valid_loss</th>\n",
       "    <th>accuracy</th>\n",
       "  </tr>\n",
       "  <tr>\n",
       "    <th>1</th>\n",
       "    <th>3.421837</th>\n",
       "    <th>3.589710</th>\n",
       "    <th>0.411864</th>\n",
       "  </tr>\n",
       "  <tr>\n",
       "    <th>2</th>\n",
       "    <th>3.283107</th>\n",
       "    <th>3.579655</th>\n",
       "    <th>0.413513</th>\n",
       "  </tr>\n",
       "  <tr>\n",
       "    <th>3</th>\n",
       "    <th>3.311975</th>\n",
       "    <th>3.565250</th>\n",
       "    <th>0.415898</th>\n",
       "  </tr>\n",
       "  <tr>\n",
       "    <th>4</th>\n",
       "    <th>3.144865</th>\n",
       "    <th>3.546464</th>\n",
       "    <th>0.419021</th>\n",
       "  </tr>\n",
       "  <tr>\n",
       "    <th>5</th>\n",
       "    <th>3.390587</th>\n",
       "    <th>3.524449</th>\n",
       "    <th>0.422398</th>\n",
       "  </tr>\n",
       "  <tr>\n",
       "    <th>6</th>\n",
       "    <th>3.243941</th>\n",
       "    <th>3.498798</th>\n",
       "    <th>0.426690</th>\n",
       "  </tr>\n",
       "  <tr>\n",
       "    <th>7</th>\n",
       "    <th>3.236669</th>\n",
       "    <th>3.473009</th>\n",
       "    <th>0.431035</th>\n",
       "  </tr>\n",
       "  <tr>\n",
       "    <th>8</th>\n",
       "    <th>3.384805</th>\n",
       "    <th>3.440805</th>\n",
       "    <th>0.436178</th>\n",
       "  </tr>\n",
       "  <tr>\n",
       "    <th>9</th>\n",
       "    <th>3.314674</th>\n",
       "    <th>3.411994</th>\n",
       "    <th>0.441093</th>\n",
       "  </tr>\n",
       "  <tr>\n",
       "    <th>10</th>\n",
       "    <th>3.268296</th>\n",
       "    <th>3.384046</th>\n",
       "    <th>0.445948</th>\n",
       "  </tr>\n",
       "  <tr>\n",
       "    <th>11</th>\n",
       "    <th>3.058648</th>\n",
       "    <th>3.352601</th>\n",
       "    <th>0.450934</th>\n",
       "  </tr>\n",
       "  <tr>\n",
       "    <th>12</th>\n",
       "    <th>3.120933</th>\n",
       "    <th>3.317791</th>\n",
       "    <th>0.456288</th>\n",
       "  </tr>\n",
       "  <tr>\n",
       "    <th>13</th>\n",
       "    <th>2.972065</th>\n",
       "    <th>3.284875</th>\n",
       "    <th>0.462265</th>\n",
       "  </tr>\n",
       "  <tr>\n",
       "    <th>14</th>\n",
       "    <th>3.036960</th>\n",
       "    <th>3.256404</th>\n",
       "    <th>0.467089</th>\n",
       "  </tr>\n",
       "  <tr>\n",
       "    <th>15</th>\n",
       "    <th>2.926775</th>\n",
       "    <th>3.226274</th>\n",
       "    <th>0.471976</th>\n",
       "  </tr>\n",
       "  <tr>\n",
       "    <th>16</th>\n",
       "    <th>2.830875</th>\n",
       "    <th>3.202568</th>\n",
       "    <th>0.476231</th>\n",
       "  </tr>\n",
       "  <tr>\n",
       "    <th>17</th>\n",
       "    <th>2.813881</th>\n",
       "    <th>3.178650</th>\n",
       "    <th>0.480499</th>\n",
       "  </tr>\n",
       "  <tr>\n",
       "    <th>18</th>\n",
       "    <th>2.961416</th>\n",
       "    <th>3.151366</th>\n",
       "    <th>0.485210</th>\n",
       "  </tr>\n",
       "  <tr>\n",
       "    <th>19</th>\n",
       "    <th>2.960573</th>\n",
       "    <th>3.131014</th>\n",
       "    <th>0.488860</th>\n",
       "  </tr>\n",
       "  <tr>\n",
       "    <th>20</th>\n",
       "    <th>2.750251</th>\n",
       "    <th>3.108709</th>\n",
       "    <th>0.492735</th>\n",
       "  </tr>\n",
       "  <tr>\n",
       "    <th>21</th>\n",
       "    <th>2.908144</th>\n",
       "    <th>3.087978</th>\n",
       "    <th>0.496405</th>\n",
       "  </tr>\n",
       "  <tr>\n",
       "    <th>22</th>\n",
       "    <th>2.608000</th>\n",
       "    <th>3.068672</th>\n",
       "    <th>0.500336</th>\n",
       "  </tr>\n",
       "  <tr>\n",
       "    <th>23</th>\n",
       "    <th>2.857589</th>\n",
       "    <th>3.047534</th>\n",
       "    <th>0.503986</th>\n",
       "  </tr>\n",
       "  <tr>\n",
       "    <th>24</th>\n",
       "    <th>2.796424</th>\n",
       "    <th>3.030549</th>\n",
       "    <th>0.506975</th>\n",
       "  </tr>\n",
       "  <tr>\n",
       "    <th>25</th>\n",
       "    <th>2.766686</th>\n",
       "    <th>3.013546</th>\n",
       "    <th>0.510173</th>\n",
       "  </tr>\n",
       "  <tr>\n",
       "    <th>26</th>\n",
       "    <th>2.807563</th>\n",
       "    <th>3.003804</th>\n",
       "    <th>0.511959</th>\n",
       "  </tr>\n",
       "  <tr>\n",
       "    <th>27</th>\n",
       "    <th>2.641225</th>\n",
       "    <th>2.986030</th>\n",
       "    <th>0.515017</th>\n",
       "  </tr>\n",
       "  <tr>\n",
       "    <th>28</th>\n",
       "    <th>2.633995</th>\n",
       "    <th>2.972959</th>\n",
       "    <th>0.517546</th>\n",
       "  </tr>\n",
       "  <tr>\n",
       "    <th>29</th>\n",
       "    <th>2.570682</th>\n",
       "    <th>2.960335</th>\n",
       "    <th>0.519986</th>\n",
       "  </tr>\n",
       "  <tr>\n",
       "    <th>30</th>\n",
       "    <th>2.445463</th>\n",
       "    <th>2.951992</th>\n",
       "    <th>0.521632</th>\n",
       "  </tr>\n",
       "  <tr>\n",
       "    <th>31</th>\n",
       "    <th>2.456338</th>\n",
       "    <th>2.943235</th>\n",
       "    <th>0.523361</th>\n",
       "  </tr>\n",
       "  <tr>\n",
       "    <th>32</th>\n",
       "    <th>2.574265</th>\n",
       "    <th>2.936018</th>\n",
       "    <th>0.524617</th>\n",
       "  </tr>\n",
       "  <tr>\n",
       "    <th>33</th>\n",
       "    <th>2.527658</th>\n",
       "    <th>2.928265</th>\n",
       "    <th>0.525987</th>\n",
       "  </tr>\n",
       "  <tr>\n",
       "    <th>34</th>\n",
       "    <th>2.476962</th>\n",
       "    <th>2.923983</th>\n",
       "    <th>0.527036</th>\n",
       "  </tr>\n",
       "  <tr>\n",
       "    <th>35</th>\n",
       "    <th>2.675267</th>\n",
       "    <th>2.920536</th>\n",
       "    <th>0.527688</th>\n",
       "  </tr>\n",
       "  <tr>\n",
       "    <th>36</th>\n",
       "    <th>2.496131</th>\n",
       "    <th>2.917620</th>\n",
       "    <th>0.528315</th>\n",
       "  </tr>\n",
       "  <tr>\n",
       "    <th>37</th>\n",
       "    <th>2.532193</th>\n",
       "    <th>2.915344</th>\n",
       "    <th>0.528483</th>\n",
       "  </tr>\n",
       "  <tr>\n",
       "    <th>38</th>\n",
       "    <th>2.530434</th>\n",
       "    <th>2.915036</th>\n",
       "    <th>0.528662</th>\n",
       "  </tr>\n",
       "  <tr>\n",
       "    <th>39</th>\n",
       "    <th>2.530707</th>\n",
       "    <th>2.914322</th>\n",
       "    <th>0.528856</th>\n",
       "  </tr>\n",
       "  <tr>\n",
       "    <th>40</th>\n",
       "    <th>2.498433</th>\n",
       "    <th>2.914295</th>\n",
       "    <th>0.528806</th>\n",
       "  </tr>\n",
       "</table>\n"
      ],
      "text/plain": [
       "<IPython.core.display.HTML object>"
      ]
     },
     "metadata": {},
     "output_type": "display_data"
    }
   ],
   "source": [
    "learn.fit_one_cycle(40, 1e-3, moms=(0.8,0.7))"
   ]
  },
  {
   "cell_type": "code",
   "execution_count": 37,
   "metadata": {},
   "outputs": [],
   "source": [
    "learn.save('third_mr_lm', with_opt=True)"
   ]
  },
  {
   "cell_type": "code",
   "execution_count": 38,
   "metadata": {},
   "outputs": [],
   "source": [
    "learn.load('third_mr_lm', with_opt=True);"
   ]
  },
  {
   "cell_type": "code",
   "execution_count": 39,
   "metadata": {},
   "outputs": [
    {
     "data": {
      "text/html": [
       "Total time: 2:44:48 <p><table style='width:300px; margin-bottom:10px'>\n",
       "  <tr>\n",
       "    <th>epoch</th>\n",
       "    <th>train_loss</th>\n",
       "    <th>valid_loss</th>\n",
       "    <th>accuracy</th>\n",
       "  </tr>\n",
       "  <tr>\n",
       "    <th>1</th>\n",
       "    <th>2.439824</th>\n",
       "    <th>2.914547</th>\n",
       "    <th>0.528714</th>\n",
       "  </tr>\n",
       "  <tr>\n",
       "    <th>2</th>\n",
       "    <th>2.477008</th>\n",
       "    <th>2.914123</th>\n",
       "    <th>0.528784</th>\n",
       "  </tr>\n",
       "  <tr>\n",
       "    <th>3</th>\n",
       "    <th>2.462474</th>\n",
       "    <th>2.913254</th>\n",
       "    <th>0.528912</th>\n",
       "  </tr>\n",
       "  <tr>\n",
       "    <th>4</th>\n",
       "    <th>2.525224</th>\n",
       "    <th>2.912550</th>\n",
       "    <th>0.529204</th>\n",
       "  </tr>\n",
       "  <tr>\n",
       "    <th>5</th>\n",
       "    <th>2.542871</th>\n",
       "    <th>2.911019</th>\n",
       "    <th>0.529602</th>\n",
       "  </tr>\n",
       "  <tr>\n",
       "    <th>6</th>\n",
       "    <th>2.473117</th>\n",
       "    <th>2.909723</th>\n",
       "    <th>0.529762</th>\n",
       "  </tr>\n",
       "  <tr>\n",
       "    <th>7</th>\n",
       "    <th>2.483403</th>\n",
       "    <th>2.906476</th>\n",
       "    <th>0.530446</th>\n",
       "  </tr>\n",
       "  <tr>\n",
       "    <th>8</th>\n",
       "    <th>2.543327</th>\n",
       "    <th>2.904446</th>\n",
       "    <th>0.530686</th>\n",
       "  </tr>\n",
       "  <tr>\n",
       "    <th>9</th>\n",
       "    <th>2.528812</th>\n",
       "    <th>2.902434</th>\n",
       "    <th>0.531177</th>\n",
       "  </tr>\n",
       "  <tr>\n",
       "    <th>10</th>\n",
       "    <th>2.589246</th>\n",
       "    <th>2.900583</th>\n",
       "    <th>0.531355</th>\n",
       "  </tr>\n",
       "  <tr>\n",
       "    <th>11</th>\n",
       "    <th>2.431465</th>\n",
       "    <th>2.898490</th>\n",
       "    <th>0.532064</th>\n",
       "  </tr>\n",
       "  <tr>\n",
       "    <th>12</th>\n",
       "    <th>2.540967</th>\n",
       "    <th>2.896095</th>\n",
       "    <th>0.532379</th>\n",
       "  </tr>\n",
       "  <tr>\n",
       "    <th>13</th>\n",
       "    <th>2.477973</th>\n",
       "    <th>2.895323</th>\n",
       "    <th>0.532404</th>\n",
       "  </tr>\n",
       "  <tr>\n",
       "    <th>14</th>\n",
       "    <th>2.520166</th>\n",
       "    <th>2.893645</th>\n",
       "    <th>0.532920</th>\n",
       "  </tr>\n",
       "  <tr>\n",
       "    <th>15</th>\n",
       "    <th>2.406833</th>\n",
       "    <th>2.892660</th>\n",
       "    <th>0.533157</th>\n",
       "  </tr>\n",
       "  <tr>\n",
       "    <th>16</th>\n",
       "    <th>2.547854</th>\n",
       "    <th>2.891772</th>\n",
       "    <th>0.533195</th>\n",
       "  </tr>\n",
       "  <tr>\n",
       "    <th>17</th>\n",
       "    <th>2.421067</th>\n",
       "    <th>2.890992</th>\n",
       "    <th>0.533416</th>\n",
       "  </tr>\n",
       "  <tr>\n",
       "    <th>18</th>\n",
       "    <th>2.369478</th>\n",
       "    <th>2.891139</th>\n",
       "    <th>0.533347</th>\n",
       "  </tr>\n",
       "  <tr>\n",
       "    <th>19</th>\n",
       "    <th>2.597193</th>\n",
       "    <th>2.890745</th>\n",
       "    <th>0.533389</th>\n",
       "  </tr>\n",
       "  <tr>\n",
       "    <th>20</th>\n",
       "    <th>2.344411</th>\n",
       "    <th>2.890346</th>\n",
       "    <th>0.533439</th>\n",
       "  </tr>\n",
       "</table>\n"
      ],
      "text/plain": [
       "<IPython.core.display.HTML object>"
      ]
     },
     "metadata": {},
     "output_type": "display_data"
    }
   ],
   "source": [
    "learn.fit_one_cycle(20, 1e-4, moms=(0.8,0.7))"
   ]
  },
  {
   "cell_type": "code",
   "execution_count": 46,
   "metadata": {},
   "outputs": [],
   "source": [
    "learn.save('fourth_mr_lm', with_opt=True)"
   ]
  },
  {
   "cell_type": "code",
   "execution_count": 40,
   "metadata": {},
   "outputs": [],
   "source": [
    "TEXT = \"तसेच टायगर कॅपिटल\"\n",
    "N_WORDS = 40\n",
    "N_SENTENCES = 2"
   ]
  },
  {
   "cell_type": "code",
   "execution_count": 44,
   "metadata": {},
   "outputs": [
    {
     "name": "stdout",
     "output_type": "stream",
     "text": [
      "तसेच टायगर कॅपिटल मध्ये ▁लोकवस्ती ▁होती . त्यात ▁केवळ ▁संरक्षण ▁आणि ▁नेतृत्व ▁सर्वदूर ▁पसरले ▁हॉटेल ची ▁सुरुवात ▁करण्यात ▁आली ▁आणि ▁विविध ▁प्रकारचे ▁संशोधन ▁खर्च ▁वाढले . ▁6 ▁सप्टेंबर ▁2002 ▁रोजी ▁ ▁भारत ▁आणि ▁इंग्लंड ▁जवळील ▁व्यापार ▁अत्यंत ▁गंभीर ▁होता ▁परंतु ▁विनिमय ▁प्रकल्प ावर\n",
      "तसेच टायगर कॅपिटल ▁ऑफ ▁इंडिया , स्ट ॉर ण्ड ि रिआ ▁व ▁शे न ॅप ् रिफ , ▁इंडियन ▁राय , ▁दक्षिण म ्या ळ , , ▁ ▁वा ▁लोकप्रिय ▁फ़ िंग ▁तसेच ▁शिक्षण ▁व्यवसाय , आणि ▁वे ंग रूम , आणि ▁\n"
     ]
    }
   ],
   "source": [
    "print(\"\\n\".join(learn.predict(TEXT, N_WORDS, temperature=0.9) for _ in range(N_SENTENCES)))"
   ]
  },
  {
   "cell_type": "code",
   "execution_count": 45,
   "metadata": {},
   "outputs": [
    {
     "data": {
      "text/plain": [
       "17.99330960155032"
      ]
     },
     "execution_count": 45,
     "metadata": {},
     "output_type": "execute_result"
    }
   ],
   "source": [
    "np.exp(2.89)"
   ]
  },
  {
   "cell_type": "code",
   "execution_count": null,
   "metadata": {},
   "outputs": [],
   "source": []
  }
 ],
 "metadata": {
  "kernelspec": {
   "display_name": "Python 3",
   "language": "python",
   "name": "python3"
  },
  "language_info": {
   "codemirror_mode": {
    "name": "ipython",
    "version": 3
   },
   "file_extension": ".py",
   "mimetype": "text/x-python",
   "name": "python",
   "nbconvert_exporter": "python",
   "pygments_lexer": "ipython3",
   "version": "3.6.7"
  }
 },
 "nbformat": 4,
 "nbformat_minor": 2
}
