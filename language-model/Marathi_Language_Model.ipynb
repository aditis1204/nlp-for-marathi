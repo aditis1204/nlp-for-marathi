{
 "cells": [
  {
   "cell_type": "code",
   "execution_count": 1,
   "metadata": {},
   "outputs": [],
   "source": [
    "%reload_ext autoreload\n",
    "%autoreload 2\n",
    "%matplotlib inline"
   ]
  },
  {
   "cell_type": "code",
   "execution_count": 2,
   "metadata": {},
   "outputs": [],
   "source": [
    "from fastai.text import *\n",
    "import numpy as np\n",
    "from sklearn.model_selection import train_test_split\n",
    "import pickle\n",
    "import sentencepiece as spm"
   ]
  },
  {
   "cell_type": "code",
   "execution_count": 3,
   "metadata": {},
   "outputs": [
    {
     "data": {
      "text/plain": [
       "('1.0.50.post1', '1.0.1.post2')"
      ]
     },
     "execution_count": 3,
     "metadata": {},
     "output_type": "execute_result"
    }
   ],
   "source": [
    "import fastai, torch\n",
    "fastai.__version__ , torch.__version__"
   ]
  },
  {
   "cell_type": "code",
   "execution_count": 4,
   "metadata": {},
   "outputs": [],
   "source": [
    "torch.cuda.set_device(0)"
   ]
  },
  {
   "cell_type": "code",
   "execution_count": 5,
   "metadata": {},
   "outputs": [],
   "source": [
    "path = Path('/home/gaurav/PycharmProjects/nlp-for-marathi/language-model')"
   ]
  },
  {
   "cell_type": "code",
   "execution_count": 6,
   "metadata": {},
   "outputs": [],
   "source": [
    "p = path.glob('MarathiWikipediaArticles/*')\n",
    "files = [x for x in p if x.is_file()]"
   ]
  },
  {
   "cell_type": "code",
   "execution_count": 7,
   "metadata": {},
   "outputs": [
    {
     "data": {
      "text/plain": [
       "85537"
      ]
     },
     "execution_count": 7,
     "metadata": {},
     "output_type": "execute_result"
    }
   ],
   "source": [
    "len(files)"
   ]
  },
  {
   "cell_type": "code",
   "execution_count": 8,
   "metadata": {},
   "outputs": [],
   "source": [
    "train_files, test_files = train_test_split(files, test_size=0.3)"
   ]
  },
  {
   "cell_type": "code",
   "execution_count": 9,
   "metadata": {},
   "outputs": [
    {
     "data": {
      "text/plain": [
       "(59875, 25662)"
      ]
     },
     "execution_count": 9,
     "metadata": {},
     "output_type": "execute_result"
    }
   ],
   "source": [
    "len(train_files), len(test_files)"
   ]
  },
  {
   "cell_type": "code",
   "execution_count": 10,
   "metadata": {},
   "outputs": [
    {
     "data": {
      "text/plain": [
       "PosixPath('/home/gaurav/PycharmProjects/nlp-for-marathi/language-model/MarathiWikipediaArticles/24822.pkl')"
      ]
     },
     "execution_count": 10,
     "metadata": {},
     "output_type": "execute_result"
    }
   ],
   "source": [
    "train_files[0]"
   ]
  },
  {
   "cell_type": "code",
   "execution_count": 11,
   "metadata": {},
   "outputs": [
    {
     "data": {
      "text/plain": [
       "'24822'"
      ]
     },
     "execution_count": 11,
     "metadata": {},
     "output_type": "execute_result"
    }
   ],
   "source": [
    "str(train_files[0]).split('/')[-1][:-4]"
   ]
  },
  {
   "cell_type": "code",
   "execution_count": 12,
   "metadata": {},
   "outputs": [],
   "source": [
    "# Preparing dataset for fastai\n",
    "for file in train_files:\n",
    "    with open(file, 'rb') as f:\n",
    "        text = pickle.load(f)\n",
    "    with open(path/'MarathiDataset'/'train'/(str(file).split('/')[-1][:-4]+'.txt'), \"w\") as text_file:\n",
    "        text_file.write(text)"
   ]
  },
  {
   "cell_type": "code",
   "execution_count": 13,
   "metadata": {},
   "outputs": [],
   "source": [
    "for file in test_files:\n",
    "    with open(file, 'rb') as f:\n",
    "        text = pickle.load(f)\n",
    "    with open(path/'MarathiDataset'/'valid'/(str(file).split('/')[-1][:-4]+'.txt'), \"w\") as text_file:\n",
    "        text_file.write(text)"
   ]
  },
  {
   "cell_type": "code",
   "execution_count": 6,
   "metadata": {},
   "outputs": [],
   "source": [
    "from inltk.tokenizer import MarathiTokenizer"
   ]
  },
  {
   "cell_type": "code",
   "execution_count": 7,
   "metadata": {},
   "outputs": [
    {
     "data": {
      "text/plain": [
       "inltk.tokenizer.MarathiTokenizer"
      ]
     },
     "execution_count": 7,
     "metadata": {},
     "output_type": "execute_result"
    }
   ],
   "source": [
    "MarathiTokenizer"
   ]
  },
  {
   "cell_type": "code",
   "execution_count": 8,
   "metadata": {},
   "outputs": [],
   "source": [
    "# class MarathiTokenizer(BaseTokenizer):\n",
    "#     def __init__(self, lang:str):\n",
    "#         self.lang = lang\n",
    "#         self.sp = spm.SentencePieceProcessor()\n",
    "#         self.sp.Load(str(path/\"../tokenizer/marathi_lm.model\"))\n",
    "        \n",
    "#     def tokenizer(self, t:str) -> List[str]:\n",
    "#         return self.sp.EncodeAsPieces(t)"
   ]
  },
  {
   "cell_type": "code",
   "execution_count": 9,
   "metadata": {},
   "outputs": [],
   "source": [
    "sp = spm.SentencePieceProcessor()\n",
    "sp.Load(str(path/\"../tokenizer/marathi_lm.model\"))\n",
    "itos = [sp.IdToPiece(int(i)) for i in range(30000)]"
   ]
  },
  {
   "cell_type": "code",
   "execution_count": 10,
   "metadata": {},
   "outputs": [],
   "source": [
    "# 30,000 is the vocab size that we chose in sentencepiece\n",
    "marathi_vocab = Vocab(itos)"
   ]
  },
  {
   "cell_type": "code",
   "execution_count": 11,
   "metadata": {},
   "outputs": [],
   "source": [
    "tokenizer = Tokenizer(tok_func=MarathiTokenizer, lang='mr')"
   ]
  },
  {
   "cell_type": "code",
   "execution_count": 12,
   "metadata": {},
   "outputs": [
    {
     "data": {
      "text/plain": [
       "['xxunk',\n",
       " 'xxpad',\n",
       " 'xxbos',\n",
       " 'xxeos',\n",
       " 'xxfld',\n",
       " 'xxmaj',\n",
       " 'xxup',\n",
       " 'xxrep',\n",
       " 'xxwrep']"
      ]
     },
     "execution_count": 12,
     "metadata": {},
     "output_type": "execute_result"
    }
   ],
   "source": [
    "tokenizer.special_cases"
   ]
  },
  {
   "cell_type": "code",
   "execution_count": 14,
   "metadata": {},
   "outputs": [],
   "source": [
    "data_lm = TextLMDataBunch.from_folder(path=path/'MarathiDataset', tokenizer=tokenizer, vocab=marathi_vocab)"
   ]
  },
  {
   "cell_type": "code",
   "execution_count": 15,
   "metadata": {},
   "outputs": [
    {
     "data": {
      "text/plain": [
       "64"
      ]
     },
     "execution_count": 15,
     "metadata": {},
     "output_type": "execute_result"
    }
   ],
   "source": [
    "data_lm.batch_size"
   ]
  },
  {
   "cell_type": "code",
   "execution_count": 16,
   "metadata": {},
   "outputs": [],
   "source": [
    "data_lm.save()"
   ]
  },
  {
   "cell_type": "code",
   "execution_count": 23,
   "metadata": {},
   "outputs": [
    {
     "data": {
      "text/html": [
       "<table>  <col width='5%'>  <col width='95%'>  <tr>\n",
       "    <th>idx</th>\n",
       "    <th>text</th>\n",
       "  </tr>\n",
       "  <tr>\n",
       "    <th>0</th>\n",
       "    <th>▁x x bo s ▁घनमीटर ▁हे ▁आकारमान ▁मोजण्या चे ▁एक ▁एकक ▁आहे . ▁१ ▁मी ▁ x ▁१ ▁मी ▁ x ▁१ ▁मी ▁एवढ्या ▁क्षेत्राचे ▁आकारमान ▁१ ▁घनमीटर ▁असते . ▁x x bo s ▁अल्माटी ▁हा ▁मध्य ▁आशियातील ▁कझाकस्तान ▁देशाचा ▁एक ▁प्रांत ▁आहे . ▁अल्माटी ▁ह्याच ▁नावाचे ▁मोठे ▁शहर ▁ह ्य ▁प्रांत ाच्या ▁अंतर्गत ▁असले ▁तरी ▁ते ▁राजकीय ▁दृष्ट्या ▁अल्माटी ▁प्रांत ाचा ▁भाग ▁नसून ▁एक ▁स्वायत्त ▁शहर ▁आहे . ▁गुणक</th>\n",
       "  </tr>\n",
       "  <tr>\n",
       "    <th>1</th>\n",
       "    <th>. ▁तसेच ▁टायगर ▁कॅपिटल ▁ऑफ ▁इंडिया ▁पण ▁सं भो तात . ▁नागपुर ास ▁संत ्रा नगरी ▁असे ही ▁संबोधतात ▁कारण ▁शहरातील ▁संत ्री ▁प्रसिद्ध ▁आहेत . ▁मोठ्या ▁प्रमाणावर ▁संत्र्या चे ▁पिके ▁येथे ▁होतात . ▁संत्र्या च्या ▁बागा ▁मोठ्या ▁प्रमाणावर ▁आढळून ▁येतात . ▁त्यामुळे ▁संत्र्या ची ▁मोठी ▁बाजारपेठ ▁येथे ▁आहे . ▁ नुकताच ▁2002 ▁मध्ये ▁शहराचा ▁३०० वा ▁वर्धा पन दिन ▁साजरा ▁करण्यात ▁आला . ▁नजिकच्या ▁आ थि र्क ▁गुंतवणूक ीमुळे</th>\n",
       "  </tr>\n",
       "  <tr>\n",
       "    <th>2</th>\n",
       "    <th>▁या ▁विभागात ▁समावेश ▁होतो . ▁कोत े ▁पाटील ांच्या ▁नावावरून ▁कोथरूड ▁असे ▁नाव ▁पडले ▁असा ▁एक ▁प्र वाद ▁आहे . . ▁पुरेसे ▁ऐतिहासिक ▁पुरावे ▁उपलब्ध ▁नसले ▁तरीही ▁थोरले ▁बाजीराव ांच्या ▁काळात ▁त्यांच्या ▁द्वितीय ▁भार ्या ▁मस्तानी ▁यांचा ▁महाल ही ▁कोथरूड ▁बाग ▁परिसरात ▁असावा ▁असे ▁मानले ▁जात ▁असे . ▁कोथरूड ▁गावठाण ▁येथे ▁नाना ▁फडणवीस ▁यांची ▁पेरू ची ▁बाग ▁होती . त्यांच्या ▁पश्चात ▁ब्रिटिश ▁काळातील ▁कलेक्टर ▁मॉर्गन ▁यांनी ▁काढलेल्या ▁लिलाव ात ▁हि</th>\n",
       "  </tr>\n",
       "  <tr>\n",
       "    <th>3</th>\n",
       "    <th>ur se . ▁it ▁cr os s es ▁ ri ver <unk> ava ri ▁near <unk> ▁k op ar ga on , ▁the <unk> ava ra ▁near <unk> ▁k ol har , ▁the <unk> la ▁near <unk> hu ri ▁and ▁the <unk> ▁b hi ma ▁near ▁the ▁ district ▁b order ▁where ▁there ▁are ▁ br id ge s . ▁it ▁cr os s es ▁a ▁major ▁na ll ah</th>\n",
       "  </tr>\n",
       "  <tr>\n",
       "    <th>4</th>\n",
       "    <th>▁my ▁place . ▁he ▁who ▁so ▁ ack n ow led ge s ▁it ▁will ▁ o b ta in ▁his ▁re ward . ▁the <unk> ▁will ▁ res cu e ▁him . <unk> ▁k n ow ▁this ▁as ▁the ▁truth \" . <unk> <unk> ▁g obind <unk> ▁thus ▁pass ed ▁on ▁the ▁success ion ▁with ▁du e ▁ceremony ▁to ▁the <unk> ly <unk> o k , ▁the <unk> <unk></th>\n",
       "  </tr>\n",
       "</table>\n"
      ],
      "text/plain": [
       "<IPython.core.display.HTML object>"
      ]
     },
     "metadata": {},
     "output_type": "display_data"
    }
   ],
   "source": [
    "data_lm.show_batch()"
   ]
  },
  {
   "cell_type": "code",
   "execution_count": 17,
   "metadata": {},
   "outputs": [
    {
     "data": {
      "text/plain": [
       "30000"
      ]
     },
     "execution_count": 17,
     "metadata": {},
     "output_type": "execute_result"
    }
   ],
   "source": [
    "len(data_lm.vocab.itos)"
   ]
  },
  {
   "cell_type": "code",
   "execution_count": 18,
   "metadata": {},
   "outputs": [
    {
     "name": "stderr",
     "output_type": "stream",
     "text": [
      "/home/gaurav/anaconda3/envs/fastai-bleed/lib/python3.6/site-packages/fastai/datasets.py:164: YAMLLoadWarning: calling yaml.load() without Loader=... is deprecated, as the default Loader is unsafe. Please read https://msg.pyyaml.org/load for full details.\n",
      "  with open(fpath, 'r') as yaml_file: return yaml.load(yaml_file)\n"
     ]
    }
   ],
   "source": [
    "learn = language_model_learner(data_lm, AWD_LSTM, drop_mult=0.3)"
   ]
  },
  {
   "cell_type": "code",
   "execution_count": 19,
   "metadata": {},
   "outputs": [
    {
     "data": {
      "text/plain": [
       "49"
      ]
     },
     "execution_count": 19,
     "metadata": {},
     "output_type": "execute_result"
    }
   ],
   "source": [
    "gc.collect()"
   ]
  },
  {
   "cell_type": "code",
   "execution_count": 27,
   "metadata": {},
   "outputs": [
    {
     "name": "stdout",
     "output_type": "stream",
     "text": [
      "LR Finder is complete, type {learner_name}.recorder.plot() to see the graph.\n"
     ]
    }
   ],
   "source": [
    "learn.lr_find()"
   ]
  },
  {
   "cell_type": "code",
   "execution_count": 28,
   "metadata": {},
   "outputs": [
    {
     "data": {
      "image/png": "[encoded data removed]",
      "text/plain": [
       "<Figure size 432x288 with 1 Axes>"
      ]
     },
     "metadata": {
      "needs_background": "light"
     },
     "output_type": "display_data"
    }
   ],
   "source": [
    "learn.recorder.plot()"
   ]
  },
  {
   "cell_type": "code",
   "execution_count": 29,
   "metadata": {},
   "outputs": [
    {
     "data": {
      "text/html": [
       "Total time: 08:16 <p><table style='width:300px; margin-bottom:10px'>\n",
       "  <tr>\n",
       "    <th>epoch</th>\n",
       "    <th>train_loss</th>\n",
       "    <th>valid_loss</th>\n",
       "    <th>accuracy</th>\n",
       "  </tr>\n",
       "  <tr>\n",
       "    <th>1</th>\n",
       "    <th>4.510442</th>\n",
       "    <th>4.438874</th>\n",
       "    <th>0.315410</th>\n",
       "  </tr>\n",
       "</table>\n"
      ],
      "text/plain": [
       "<IPython.core.display.HTML object>"
      ]
     },
     "metadata": {},
     "output_type": "display_data"
    }
   ],
   "source": [
    "learn.fit_one_cycle(1, 1e-2, moms=(0.8,0.7))"
   ]
  },
  {
   "cell_type": "code",
   "execution_count": 30,
   "metadata": {},
   "outputs": [],
   "source": [
    "learn.save('first', with_opt=True)"
   ]
  },
  {
   "cell_type": "code",
   "execution_count": 31,
   "metadata": {},
   "outputs": [],
   "source": [
    "learn.load('first', with_opt=True);"
   ]
  },
  {
   "cell_type": "code",
   "execution_count": 32,
   "metadata": {},
   "outputs": [],
   "source": [
    "learn.unfreeze()"
   ]
  },
  {
   "cell_type": "code",
   "execution_count": 33,
   "metadata": {},
   "outputs": [
    {
     "data": {
      "text/html": [
       "Total time: 41:34 <p><table style='width:300px; margin-bottom:10px'>\n",
       "  <tr>\n",
       "    <th>epoch</th>\n",
       "    <th>train_loss</th>\n",
       "    <th>valid_loss</th>\n",
       "    <th>accuracy</th>\n",
       "  </tr>\n",
       "  <tr>\n",
       "    <th>1</th>\n",
       "    <th>4.382417</th>\n",
       "    <th>4.451831</th>\n",
       "    <th>0.310669</th>\n",
       "  </tr>\n",
       "  <tr>\n",
       "    <th>2</th>\n",
       "    <th>4.379301</th>\n",
       "    <th>4.400976</th>\n",
       "    <th>0.312358</th>\n",
       "  </tr>\n",
       "  <tr>\n",
       "    <th>3</th>\n",
       "    <th>4.051602</th>\n",
       "    <th>4.094686</th>\n",
       "    <th>0.342677</th>\n",
       "  </tr>\n",
       "  <tr>\n",
       "    <th>4</th>\n",
       "    <th>3.679856</th>\n",
       "    <th>3.718292</th>\n",
       "    <th>0.392597</th>\n",
       "  </tr>\n",
       "  <tr>\n",
       "    <th>5</th>\n",
       "    <th>3.327582</th>\n",
       "    <th>3.598108</th>\n",
       "    <th>0.410449</th>\n",
       "  </tr>\n",
       "</table>\n"
      ],
      "text/plain": [
       "<IPython.core.display.HTML object>"
      ]
     },
     "metadata": {},
     "output_type": "display_data"
    }
   ],
   "source": [
    "learn.fit_one_cycle(5, 1e-2, moms=(0.8,0.7))"
   ]
  },
  {
   "cell_type": "code",
   "execution_count": 34,
   "metadata": {},
   "outputs": [],
   "source": [
    "learn.save('second_gu_lm', with_opt=True)"
   ]
  },
  {
   "cell_type": "code",
   "execution_count": 35,
   "metadata": {},
   "outputs": [],
   "source": [
    "learn.load('second_gu_lm', with_opt=True);"
   ]
  },
  {
   "cell_type": "code",
   "execution_count": 36,
   "metadata": {},
   "outputs": [
    {
     "data": {
      "text/html": [
       "Total time: 5:35:19 <p><table style='width:300px; margin-bottom:10px'>\n",
       "  <tr>\n",
       "    <th>epoch</th>\n",
       "    <th>train_loss</th>\n",
       "    <th>valid_loss</th>\n",
       "    <th>accuracy</th>\n",
       "  </tr>\n",
       "  <tr>\n",
       "    <th>1</th>\n",
       "    <th>3.421837</th>\n",
       "    <th>3.589710</th>\n",
       "    <th>0.411864</th>\n",
       "  </tr>\n",
       "  <tr>\n",
       "    <th>2</th>\n",
       "    <th>3.283107</th>\n",
       "    <th>3.579655</th>\n",
       "    <th>0.413513</th>\n",
       "  </tr>\n",
       "  <tr>\n",
       "    <th>3</th>\n",
       "    <th>3.311975</th>\n",
       "    <th>3.565250</th>\n",
       "    <th>0.415898</th>\n",
       "  </tr>\n",
       "  <tr>\n",
       "    <th>4</th>\n",
       "    <th>3.144865</th>\n",
       "    <th>3.546464</th>\n",
       "    <th>0.419021</th>\n",
       "  </tr>\n",
       "  <tr>\n",
       "    <th>5</th>\n",
       "    <th>3.390587</th>\n",
       "    <th>3.524449</th>\n",
       "    <th>0.422398</th>\n",
       "  </tr>\n",
       "  <tr>\n",
       "    <th>6</th>\n",
       "    <th>3.243941</th>\n",
       "    <th>3.498798</th>\n",
       "    <th>0.426690</th>\n",
       "  </tr>\n",
       "  <tr>\n",
       "    <th>7</th>\n",
       "    <th>3.236669</th>\n",
       "    <th>3.473009</th>\n",
       "    <th>0.431035</th>\n",
       "  </tr>\n",
       "  <tr>\n",
       "    <th>8</th>\n",
       "    <th>3.384805</th>\n",
       "    <th>3.440805</th>\n",
       "    <th>0.436178</th>\n",
       "  </tr>\n",
       "  <tr>\n",
       "    <th>9</th>\n",
       "    <th>3.314674</th>\n",
       "    <th>3.411994</th>\n",
       "    <th>0.441093</th>\n",
       "  </tr>\n",
       "  <tr>\n",
       "    <th>10</th>\n",
       "    <th>3.268296</th>\n",
       "    <th>3.384046</th>\n",
       "    <th>0.445948</th>\n",
       "  </tr>\n",
       "  <tr>\n",
       "    <th>11</th>\n",
       "    <th>3.058648</th>\n",
       "    <th>3.352601</th>\n",
       "    <th>0.450934</th>\n",
       "  </tr>\n",
       "  <tr>\n",
       "    <th>12</th>\n",
       "    <th>3.120933</th>\n",
       "    <th>3.317791</th>\n",
       "    <th>0.456288</th>\n",
       "  </tr>\n",
       "  <tr>\n",
       "    <th>13</th>\n",
       "    <th>2.972065</th>\n",
       "    <th>3.284875</th>\n",
       "    <th>0.462265</th>\n",
       "  </tr>\n",
       "  <tr>\n",
       "    <th>14</th>\n",
       "    <th>3.036960</th>\n",
       "    <th>3.256404</th>\n",
       "    <th>0.467089</th>\n",
       "  </tr>\n",
       "  <tr>\n",
       "    <th>15</th>\n",
       "    <th>2.926775</th>\n",
       "    <th>3.226274</th>\n",
       "    <th>0.471976</th>\n",
       "  </tr>\n",
       "  <tr>\n",
       "    <th>16</th>\n",
       "    <th>2.830875</th>\n",
       "    <th>3.202568</th>\n",
       "    <th>0.476231</th>\n",
       "  </tr>\n",
       "  <tr>\n",
       "    <th>17</th>\n",
       "    <th>2.813881</th>\n",
       "    <th>3.178650</th>\n",
       "    <th>0.480499</th>\n",
       "  </tr>\n",
       "  <tr>\n",
       "    <th>18</th>\n",
       "    <th>2.961416</th>\n",
       "    <th>3.151366</th>\n",
       "    <th>0.485210</th>\n",
       "  </tr>\n",
       "  <tr>\n",
       "    <th>19</th>\n",
       "    <th>2.960573</th>\n",
       "    <th>3.131014</th>\n",
       "    <th>0.488860</th>\n",
       "  </tr>\n",
       "  <tr>\n",
       "    <th>20</th>\n",
       "    <th>2.750251</th>\n",
       "    <th>3.108709</th>\n",
       "    <th>0.492735</th>\n",
       "  </tr>\n",
       "  <tr>\n",
       "    <th>21</th>\n",
       "    <th>2.908144</th>\n",
       "    <th>3.087978</th>\n",
       "    <th>0.496405</th>\n",
       "  </tr>\n",
       "  <tr>\n",
       "    <th>22</th>\n",
       "    <th>2.608000</th>\n",
       "    <th>3.068672</th>\n",
       "    <th>0.500336</th>\n",
       "  </tr>\n",
       "  <tr>\n",
       "    <th>23</th>\n",
       "    <th>2.857589</th>\n",
       "    <th>3.047534</th>\n",
       "    <th>0.503986</th>\n",
       "  </tr>\n",
       "  <tr>\n",
       "    <th>24</th>\n",
       "    <th>2.796424</th>\n",
       "    <th>3.030549</th>\n",
       "    <th>0.506975</th>\n",
       "  </tr>\n",
       "  <tr>\n",
       "    <th>25</th>\n",
       "    <th>2.766686</th>\n",
       "    <th>3.013546</th>\n",
       "    <th>0.510173</th>\n",
       "  </tr>\n",
       "  <tr>\n",
       "    <th>26</th>\n",
       "    <th>2.807563</th>\n",
       "    <th>3.003804</th>\n",
       "    <th>0.511959</th>\n",
       "  </tr>\n",
       "  <tr>\n",
       "    <th>27</th>\n",
       "    <th>2.641225</th>\n",
       "    <th>2.986030</th>\n",
       "    <th>0.515017</th>\n",
       "  </tr>\n",
       "  <tr>\n",
       "    <th>28</th>\n",
       "    <th>2.633995</th>\n",
       "    <th>2.972959</th>\n",
       "    <th>0.517546</th>\n",
       "  </tr>\n",
       "  <tr>\n",
       "    <th>29</th>\n",
       "    <th>2.570682</th>\n",
       "    <th>2.960335</th>\n",
       "    <th>0.519986</th>\n",
       "  </tr>\n",
       "  <tr>\n",
       "    <th>30</th>\n",
       "    <th>2.445463</th>\n",
       "    <th>2.951992</th>\n",
       "    <th>0.521632</th>\n",
       "  </tr>\n",
       "  <tr>\n",
       "    <th>31</th>\n",
       "    <th>2.456338</th>\n",
       "    <th>2.943235</th>\n",
       "    <th>0.523361</th>\n",
       "  </tr>\n",
       "  <tr>\n",
       "    <th>32</th>\n",
       "    <th>2.574265</th>\n",
       "    <th>2.936018</th>\n",
       "    <th>0.524617</th>\n",
       "  </tr>\n",
       "  <tr>\n",
       "    <th>33</th>\n",
       "    <th>2.527658</th>\n",
       "    <th>2.928265</th>\n",
       "    <th>0.525987</th>\n",
       "  </tr>\n",
       "  <tr>\n",
       "    <th>34</th>\n",
       "    <th>2.476962</th>\n",
       "    <th>2.923983</th>\n",
       "    <th>0.527036</th>\n",
       "  </tr>\n",
       "  <tr>\n",
       "    <th>35</th>\n",
       "    <th>2.675267</th>\n",
       "    <th>2.920536</th>\n",
       "    <th>0.527688</th>\n",
       "  </tr>\n",
       "  <tr>\n",
       "    <th>36</th>\n",
       "    <th>2.496131</th>\n",
       "    <th>2.917620</th>\n",
       "    <th>0.528315</th>\n",
       "  </tr>\n",
       "  <tr>\n",
       "    <th>37</th>\n",
       "    <th>2.532193</th>\n",
       "    <th>2.915344</th>\n",
       "    <th>0.528483</th>\n",
       "  </tr>\n",
       "  <tr>\n",
       "    <th>38</th>\n",
       "    <th>2.530434</th>\n",
       "    <th>2.915036</th>\n",
       "    <th>0.528662</th>\n",
       "  </tr>\n",
       "  <tr>\n",
       "    <th>39</th>\n",
       "    <th>2.530707</th>\n",
       "    <th>2.914322</th>\n",
       "    <th>0.528856</th>\n",
       "  </tr>\n",
       "  <tr>\n",
       "    <th>40</th>\n",
       "    <th>2.498433</th>\n",
       "    <th>2.914295</th>\n",
       "    <th>0.528806</th>\n",
       "  </tr>\n",
       "</table>\n"
      ],
      "text/plain": [
       "<IPython.core.display.HTML object>"
      ]
     },
     "metadata": {},
     "output_type": "display_data"
    }
   ],
   "source": [
    "learn.fit_one_cycle(40, 1e-3, moms=(0.8,0.7))"
   ]
  },
  {
   "cell_type": "code",
   "execution_count": 37,
   "metadata": {},
   "outputs": [],
   "source": [
    "learn.save('third_mr_lm', with_opt=True)"
   ]
  },
  {
   "cell_type": "code",
   "execution_count": 38,
   "metadata": {},
   "outputs": [],
   "source": [
    "learn.load('third_mr_lm', with_opt=True);"
   ]
  },
  {
   "cell_type": "code",
   "execution_count": 39,
   "metadata": {},
   "outputs": [
    {
     "data": {
      "text/html": [
       "Total time: 2:44:48 <p><table style='width:300px; margin-bottom:10px'>\n",
       "  <tr>\n",
       "    <th>epoch</th>\n",
       "    <th>train_loss</th>\n",
       "    <th>valid_loss</th>\n",
       "    <th>accuracy</th>\n",
       "  </tr>\n",
       "  <tr>\n",
       "    <th>1</th>\n",
       "    <th>2.439824</th>\n",
       "    <th>2.914547</th>\n",
       "    <th>0.528714</th>\n",
       "  </tr>\n",
       "  <tr>\n",
       "    <th>2</th>\n",
       "    <th>2.477008</th>\n",
       "    <th>2.914123</th>\n",
       "    <th>0.528784</th>\n",
       "  </tr>\n",
       "  <tr>\n",
       "    <th>3</th>\n",
       "    <th>2.462474</th>\n",
       "    <th>2.913254</th>\n",
       "    <th>0.528912</th>\n",
       "  </tr>\n",
       "  <tr>\n",
       "    <th>4</th>\n",
       "    <th>2.525224</th>\n",
       "    <th>2.912550</th>\n",
       "    <th>0.529204</th>\n",
       "  </tr>\n",
       "  <tr>\n",
       "    <th>5</th>\n",
       "    <th>2.542871</th>\n",
       "    <th>2.911019</th>\n",
       "    <th>0.529602</th>\n",
       "  </tr>\n",
       "  <tr>\n",
       "    <th>6</th>\n",
       "    <th>2.473117</th>\n",
       "    <th>2.909723</th>\n",
       "    <th>0.529762</th>\n",
       "  </tr>\n",
       "  <tr>\n",
       "    <th>7</th>\n",
       "    <th>2.483403</th>\n",
       "    <th>2.906476</th>\n",
       "    <th>0.530446</th>\n",
       "  </tr>\n",
       "  <tr>\n",
       "    <th>8</th>\n",
       "    <th>2.543327</th>\n",
       "    <th>2.904446</th>\n",
       "    <th>0.530686</th>\n",
       "  </tr>\n",
       "  <tr>\n",
       "    <th>9</th>\n",
       "    <th>2.528812</th>\n",
       "    <th>2.902434</th>\n",
       "    <th>0.531177</th>\n",
       "  </tr>\n",
       "  <tr>\n",
       "    <th>10</th>\n",
       "    <th>2.589246</th>\n",
       "    <th>2.900583</th>\n",
       "    <th>0.531355</th>\n",
       "  </tr>\n",
       "  <tr>\n",
       "    <th>11</th>\n",
       "    <th>2.431465</th>\n",
       "    <th>2.898490</th>\n",
       "    <th>0.532064</th>\n",
       "  </tr>\n",
       "  <tr>\n",
       "    <th>12</th>\n",
       "    <th>2.540967</th>\n",
       "    <th>2.896095</th>\n",
       "    <th>0.532379</th>\n",
       "  </tr>\n",
       "  <tr>\n",
       "    <th>13</th>\n",
       "    <th>2.477973</th>\n",
       "    <th>2.895323</th>\n",
       "    <th>0.532404</th>\n",
       "  </tr>\n",
       "  <tr>\n",
       "    <th>14</th>\n",
       "    <th>2.520166</th>\n",
       "    <th>2.893645</th>\n",
       "    <th>0.532920</th>\n",
       "  </tr>\n",
       "  <tr>\n",
       "    <th>15</th>\n",
       "    <th>2.406833</th>\n",
       "    <th>2.892660</th>\n",
       "    <th>0.533157</th>\n",
       "  </tr>\n",
       "  <tr>\n",
       "    <th>16</th>\n",
       "    <th>2.547854</th>\n",
       "    <th>2.891772</th>\n",
       "    <th>0.533195</th>\n",
       "  </tr>\n",
       "  <tr>\n",
       "    <th>17</th>\n",
       "    <th>2.421067</th>\n",
       "    <th>2.890992</th>\n",
       "    <th>0.533416</th>\n",
       "  </tr>\n",
       "  <tr>\n",
       "    <th>18</th>\n",
       "    <th>2.369478</th>\n",
       "    <th>2.891139</th>\n",
       "    <th>0.533347</th>\n",
       "  </tr>\n",
       "  <tr>\n",
       "    <th>19</th>\n",
       "    <th>2.597193</th>\n",
       "    <th>2.890745</th>\n",
       "    <th>0.533389</th>\n",
       "  </tr>\n",
       "  <tr>\n",
       "    <th>20</th>\n",
       "    <th>2.344411</th>\n",
       "    <th>2.890346</th>\n",
       "    <th>0.533439</th>\n",
       "  </tr>\n",
       "</table>\n"
      ],
      "text/plain": [
       "<IPython.core.display.HTML object>"
      ]
     },
     "metadata": {},
     "output_type": "display_data"
    }
   ],
   "source": [
    "learn.fit_one_cycle(20, 1e-4, moms=(0.8,0.7))"
   ]
  },
  {
   "cell_type": "code",
   "execution_count": 46,
   "metadata": {},
   "outputs": [],
   "source": [
    "learn.save('fourth_mr_lm', with_opt=True)"
   ]
  },
  {
   "cell_type": "code",
   "execution_count": 20,
   "metadata": {},
   "outputs": [],
   "source": [
    "learn.load('fourth_mr_lm', with_opt=True);"
   ]
  },
  {
   "cell_type": "code",
   "execution_count": 21,
   "metadata": {},
   "outputs": [],
   "source": [
    "TEXT = \"तसेच टायगर कॅपिटल\"\n",
    "N_WORDS = 40\n",
    "N_SENTENCES = 2"
   ]
  },
  {
   "cell_type": "code",
   "execution_count": 22,
   "metadata": {},
   "outputs": [
    {
     "name": "stdout",
     "output_type": "stream",
     "text": [
      "तसेच टायगर कॅपिटल ▁अँड ▁कंपनी ▁ऑफ ▁इंडिया ▁जी सं कल न ▁या ▁नावाने ▁ओळखले ▁जाते . ▁भारत ▁देशाची ▁अर्थव्यवस्था ▁१२ . ५ ▁दशलक्ष ▁२५ ▁लाख ▁' २०११ ▁बनली ▁आहे . ▁या ▁उद्योग ांपासून ▁बहु सांस्कृतिक ▁आणि ▁औद्योगिक ▁उत्पादन ांची ▁गुंतवणूक ▁केली ▁आहे .\n",
      "तसेच टायगर कॅपिटल ▁अँड ▁लुकास ▁क्लब ▁तथा ▁पी ▁पार्क ▁हे ▁भारतातील ▁सर्वात ▁जास्त ▁परिपूर्ण ▁मैदान ▁आहे . ▁दक्षिण ▁विभाग , ▁चेन्नई ▁आणि ▁साखळी ▁स्पर्धेत ून 2-1 1 ▁सी के चा ▁मँचेस्टर ▁हा ▁जगातील ▁सर्वाधिक ▁लोकप्रिय ▁मीडिया ▁म्हणून ▁ओळखला ▁जातो . ▁लॉर्ड ▁ए ण्ड\n"
     ]
    }
   ],
   "source": [
    "print(\"\\n\".join(learn.predict(TEXT, N_WORDS, temperature=0.9) for _ in range(N_SENTENCES)))"
   ]
  },
  {
   "cell_type": "code",
   "execution_count": 45,
   "metadata": {},
   "outputs": [
    {
     "data": {
      "text/plain": [
       "17.99330960155032"
      ]
     },
     "execution_count": 45,
     "metadata": {},
     "output_type": "execute_result"
    }
   ],
   "source": [
    "np.exp(2.89)"
   ]
  },
  {
   "cell_type": "code",
   "execution_count": 23,
   "metadata": {},
   "outputs": [],
   "source": [
    "defaults.device = torch.device('cpu')\n",
    "learn.model.eval()\n",
    "learn.export()"
   ]
  },
  {
   "cell_type": "code",
   "execution_count": 13,
   "metadata": {},
   "outputs": [],
   "source": [
    "# Generating embedding vectors for visualization"
   ]
  },
  {
   "cell_type": "code",
   "execution_count": 14,
   "metadata": {},
   "outputs": [
    {
     "data": {
      "text/plain": [
       "PosixPath('/home/gaurav/PycharmProjects/nlp-for-marathi/language-model')"
      ]
     },
     "execution_count": 14,
     "metadata": {},
     "output_type": "execute_result"
    }
   ],
   "source": [
    "path"
   ]
  },
  {
   "cell_type": "code",
   "execution_count": 15,
   "metadata": {},
   "outputs": [],
   "source": [
    "defaults.device = torch.device('cpu')"
   ]
  },
  {
   "cell_type": "code",
   "execution_count": 16,
   "metadata": {},
   "outputs": [],
   "source": [
    "learn = load_learner(path / 'MarathiDataset/')"
   ]
  },
  {
   "cell_type": "code",
   "execution_count": 17,
   "metadata": {},
   "outputs": [],
   "source": [
    "encoder = get_model(learn.model)[0]"
   ]
  },
  {
   "cell_type": "code",
   "execution_count": 18,
   "metadata": {},
   "outputs": [
    {
     "data": {
      "text/plain": [
       "torch.Size([30000, 400])"
      ]
     },
     "execution_count": 18,
     "metadata": {},
     "output_type": "execute_result"
    }
   ],
   "source": [
    "encoder.state_dict()['encoder.weight'].shape"
   ]
  },
  {
   "cell_type": "code",
   "execution_count": 19,
   "metadata": {},
   "outputs": [],
   "source": [
    "embeddings = encoder.state_dict()['encoder.weight']"
   ]
  },
  {
   "cell_type": "code",
   "execution_count": 20,
   "metadata": {},
   "outputs": [],
   "source": [
    "embeddings = np.array(embeddings)"
   ]
  },
  {
   "cell_type": "code",
   "execution_count": 21,
   "metadata": {},
   "outputs": [
    {
     "data": {
      "text/plain": [
       "(400,)"
      ]
     },
     "execution_count": 21,
     "metadata": {},
     "output_type": "execute_result"
    }
   ],
   "source": [
    "embeddings[0].shape"
   ]
  },
  {
   "cell_type": "code",
   "execution_count": 22,
   "metadata": {},
   "outputs": [],
   "source": [
    "df = pd.DataFrame(embeddings)"
   ]
  },
  {
   "cell_type": "code",
   "execution_count": 23,
   "metadata": {},
   "outputs": [
    {
     "data": {
      "text/plain": [
       "(30000, 400)"
      ]
     },
     "execution_count": 23,
     "metadata": {},
     "output_type": "execute_result"
    }
   ],
   "source": [
    "df.shape"
   ]
  },
  {
   "cell_type": "code",
   "execution_count": 25,
   "metadata": {},
   "outputs": [],
   "source": [
    "df.to_csv('embeddings.tsv', sep='\\t', index=False, header=False)"
   ]
  },
  {
   "cell_type": "code",
   "execution_count": 24,
   "metadata": {},
   "outputs": [
    {
     "data": {
      "text/html": [
       "<div>\n",
       "<style scoped>\n",
       "    .dataframe tbody tr th:only-of-type {\n",
       "        vertical-align: middle;\n",
       "    }\n",
       "\n",
       "    .dataframe tbody tr th {\n",
       "        vertical-align: top;\n",
       "    }\n",
       "\n",
       "    .dataframe thead th {\n",
       "        text-align: right;\n",
       "    }\n",
       "</style>\n",
       "<table border=\"1\" class=\"dataframe\">\n",
       "  <thead>\n",
       "    <tr style=\"text-align: right;\">\n",
       "      <th></th>\n",
       "      <th>0</th>\n",
       "      <th>1</th>\n",
       "      <th>2</th>\n",
       "      <th>3</th>\n",
       "      <th>4</th>\n",
       "      <th>5</th>\n",
       "      <th>6</th>\n",
       "      <th>7</th>\n",
       "      <th>8</th>\n",
       "      <th>9</th>\n",
       "      <th>...</th>\n",
       "      <th>390</th>\n",
       "      <th>391</th>\n",
       "      <th>392</th>\n",
       "      <th>393</th>\n",
       "      <th>394</th>\n",
       "      <th>395</th>\n",
       "      <th>396</th>\n",
       "      <th>397</th>\n",
       "      <th>398</th>\n",
       "      <th>399</th>\n",
       "    </tr>\n",
       "  </thead>\n",
       "  <tbody>\n",
       "    <tr>\n",
       "      <th>0</th>\n",
       "      <td>-0.312169</td>\n",
       "      <td>-0.032875</td>\n",
       "      <td>0.062798</td>\n",
       "      <td>-0.632392</td>\n",
       "      <td>-0.282446</td>\n",
       "      <td>0.538549</td>\n",
       "      <td>-1.447100</td>\n",
       "      <td>0.490964</td>\n",
       "      <td>0.769537</td>\n",
       "      <td>0.550511</td>\n",
       "      <td>...</td>\n",
       "      <td>0.302092</td>\n",
       "      <td>0.409125</td>\n",
       "      <td>-1.094941</td>\n",
       "      <td>0.156421</td>\n",
       "      <td>-0.025080</td>\n",
       "      <td>0.170279</td>\n",
       "      <td>-0.216644</td>\n",
       "      <td>-0.061538</td>\n",
       "      <td>0.431516</td>\n",
       "      <td>-0.158912</td>\n",
       "    </tr>\n",
       "    <tr>\n",
       "      <th>1</th>\n",
       "      <td>0.303554</td>\n",
       "      <td>0.202227</td>\n",
       "      <td>-0.052628</td>\n",
       "      <td>0.084942</td>\n",
       "      <td>-0.103308</td>\n",
       "      <td>0.609034</td>\n",
       "      <td>-0.546176</td>\n",
       "      <td>0.252460</td>\n",
       "      <td>-0.135614</td>\n",
       "      <td>-0.086010</td>\n",
       "      <td>...</td>\n",
       "      <td>0.568707</td>\n",
       "      <td>0.134960</td>\n",
       "      <td>-0.834310</td>\n",
       "      <td>-0.154317</td>\n",
       "      <td>-0.046771</td>\n",
       "      <td>-0.107694</td>\n",
       "      <td>0.074592</td>\n",
       "      <td>0.018604</td>\n",
       "      <td>-0.032157</td>\n",
       "      <td>-0.026727</td>\n",
       "    </tr>\n",
       "    <tr>\n",
       "      <th>2</th>\n",
       "      <td>0.326993</td>\n",
       "      <td>0.179803</td>\n",
       "      <td>-0.055509</td>\n",
       "      <td>0.088163</td>\n",
       "      <td>-0.086686</td>\n",
       "      <td>0.623170</td>\n",
       "      <td>-0.558620</td>\n",
       "      <td>0.250124</td>\n",
       "      <td>-0.125111</td>\n",
       "      <td>-0.087374</td>\n",
       "      <td>...</td>\n",
       "      <td>0.548643</td>\n",
       "      <td>0.141399</td>\n",
       "      <td>-0.840439</td>\n",
       "      <td>-0.142019</td>\n",
       "      <td>-0.054021</td>\n",
       "      <td>-0.117791</td>\n",
       "      <td>0.054455</td>\n",
       "      <td>0.020440</td>\n",
       "      <td>-0.046853</td>\n",
       "      <td>-0.026599</td>\n",
       "    </tr>\n",
       "    <tr>\n",
       "      <th>3</th>\n",
       "      <td>-0.375358</td>\n",
       "      <td>-0.455526</td>\n",
       "      <td>0.359641</td>\n",
       "      <td>-0.349043</td>\n",
       "      <td>0.177527</td>\n",
       "      <td>-0.047528</td>\n",
       "      <td>0.322523</td>\n",
       "      <td>0.285699</td>\n",
       "      <td>0.093311</td>\n",
       "      <td>0.463164</td>\n",
       "      <td>...</td>\n",
       "      <td>0.123783</td>\n",
       "      <td>-0.187585</td>\n",
       "      <td>-1.186277</td>\n",
       "      <td>-1.102160</td>\n",
       "      <td>-0.782112</td>\n",
       "      <td>-0.492201</td>\n",
       "      <td>-0.771446</td>\n",
       "      <td>-0.039537</td>\n",
       "      <td>-1.166200</td>\n",
       "      <td>0.092839</td>\n",
       "    </tr>\n",
       "    <tr>\n",
       "      <th>4</th>\n",
       "      <td>-0.203419</td>\n",
       "      <td>-0.222257</td>\n",
       "      <td>-0.027218</td>\n",
       "      <td>0.062073</td>\n",
       "      <td>-0.004343</td>\n",
       "      <td>0.679432</td>\n",
       "      <td>0.140100</td>\n",
       "      <td>-0.051899</td>\n",
       "      <td>0.104761</td>\n",
       "      <td>-0.040783</td>\n",
       "      <td>...</td>\n",
       "      <td>-0.113843</td>\n",
       "      <td>0.179509</td>\n",
       "      <td>-0.929239</td>\n",
       "      <td>0.022596</td>\n",
       "      <td>0.370759</td>\n",
       "      <td>-0.237825</td>\n",
       "      <td>-0.010258</td>\n",
       "      <td>0.073941</td>\n",
       "      <td>-0.712990</td>\n",
       "      <td>0.189085</td>\n",
       "    </tr>\n",
       "  </tbody>\n",
       "</table>\n",
       "<p>5 rows × 400 columns</p>\n",
       "</div>"
      ],
      "text/plain": [
       "        0         1         2         3         4         5         6    \\\n",
       "0 -0.312169 -0.032875  0.062798 -0.632392 -0.282446  0.538549 -1.447100   \n",
       "1  0.303554  0.202227 -0.052628  0.084942 -0.103308  0.609034 -0.546176   \n",
       "2  0.326993  0.179803 -0.055509  0.088163 -0.086686  0.623170 -0.558620   \n",
       "3 -0.375358 -0.455526  0.359641 -0.349043  0.177527 -0.047528  0.322523   \n",
       "4 -0.203419 -0.222257 -0.027218  0.062073 -0.004343  0.679432  0.140100   \n",
       "\n",
       "        7         8         9    ...       390       391       392       393  \\\n",
       "0  0.490964  0.769537  0.550511  ...  0.302092  0.409125 -1.094941  0.156421   \n",
       "1  0.252460 -0.135614 -0.086010  ...  0.568707  0.134960 -0.834310 -0.154317   \n",
       "2  0.250124 -0.125111 -0.087374  ...  0.548643  0.141399 -0.840439 -0.142019   \n",
       "3  0.285699  0.093311  0.463164  ...  0.123783 -0.187585 -1.186277 -1.102160   \n",
       "4 -0.051899  0.104761 -0.040783  ... -0.113843  0.179509 -0.929239  0.022596   \n",
       "\n",
       "        394       395       396       397       398       399  \n",
       "0 -0.025080  0.170279 -0.216644 -0.061538  0.431516 -0.158912  \n",
       "1 -0.046771 -0.107694  0.074592  0.018604 -0.032157 -0.026727  \n",
       "2 -0.054021 -0.117791  0.054455  0.020440 -0.046853 -0.026599  \n",
       "3 -0.782112 -0.492201 -0.771446 -0.039537 -1.166200  0.092839  \n",
       "4  0.370759 -0.237825 -0.010258  0.073941 -0.712990  0.189085  \n",
       "\n",
       "[5 rows x 400 columns]"
      ]
     },
     "execution_count": 24,
     "metadata": {},
     "output_type": "execute_result"
    }
   ],
   "source": [
    "df.head()"
   ]
  },
  {
   "cell_type": "code",
   "execution_count": 26,
   "metadata": {},
   "outputs": [],
   "source": [
    "df2 = pd.DataFrame(itos)"
   ]
  },
  {
   "cell_type": "code",
   "execution_count": 27,
   "metadata": {},
   "outputs": [
    {
     "data": {
      "text/html": [
       "<div>\n",
       "<style scoped>\n",
       "    .dataframe tbody tr th:only-of-type {\n",
       "        vertical-align: middle;\n",
       "    }\n",
       "\n",
       "    .dataframe tbody tr th {\n",
       "        vertical-align: top;\n",
       "    }\n",
       "\n",
       "    .dataframe thead th {\n",
       "        text-align: right;\n",
       "    }\n",
       "</style>\n",
       "<table border=\"1\" class=\"dataframe\">\n",
       "  <thead>\n",
       "    <tr style=\"text-align: right;\">\n",
       "      <th></th>\n",
       "      <th>0</th>\n",
       "    </tr>\n",
       "  </thead>\n",
       "  <tbody>\n",
       "    <tr>\n",
       "      <th>0</th>\n",
       "      <td>&lt;unk&gt;</td>\n",
       "    </tr>\n",
       "    <tr>\n",
       "      <th>1</th>\n",
       "      <td>&lt;s&gt;</td>\n",
       "    </tr>\n",
       "    <tr>\n",
       "      <th>2</th>\n",
       "      <td>&lt;/s&gt;</td>\n",
       "    </tr>\n",
       "    <tr>\n",
       "      <th>3</th>\n",
       "      <td>.</td>\n",
       "    </tr>\n",
       "    <tr>\n",
       "      <th>4</th>\n",
       "      <td>▁</td>\n",
       "    </tr>\n",
       "  </tbody>\n",
       "</table>\n",
       "</div>"
      ],
      "text/plain": [
       "       0\n",
       "0  <unk>\n",
       "1    <s>\n",
       "2   </s>\n",
       "3      .\n",
       "4      ▁"
      ]
     },
     "execution_count": 27,
     "metadata": {},
     "output_type": "execute_result"
    }
   ],
   "source": [
    "df2.head()"
   ]
  },
  {
   "cell_type": "code",
   "execution_count": 28,
   "metadata": {},
   "outputs": [
    {
     "data": {
      "text/plain": [
       "(30000, 1)"
      ]
     },
     "execution_count": 28,
     "metadata": {},
     "output_type": "execute_result"
    }
   ],
   "source": [
    "df2.shape"
   ]
  },
  {
   "cell_type": "code",
   "execution_count": 29,
   "metadata": {},
   "outputs": [],
   "source": [
    "df2.to_csv('embeddings_metadata.tsv', sep='\\t', index=False, header=False)"
   ]
  },
  {
   "cell_type": "code",
   "execution_count": 30,
   "metadata": {},
   "outputs": [
    {
     "data": {
      "text/plain": [
       "tensor([ 3.0355e-01,  2.0223e-01, -5.2628e-02,  8.4942e-02, -1.0331e-01,\n",
       "         6.0903e-01, -5.4618e-01,  2.5246e-01, -1.3561e-01, -8.6010e-02,\n",
       "        -1.5868e-01,  3.3899e-01, -4.0738e-02, -2.4026e-01,  2.0038e-01,\n",
       "         7.2730e-02, -3.0973e-01, -7.2570e-01,  3.7218e-02,  6.1657e-02,\n",
       "        -2.3423e-02, -1.7355e-01, -6.0471e-02,  2.8801e-01, -4.2690e-01,\n",
       "        -5.5867e-01,  1.1975e-01,  2.8651e-01, -1.1228e-02, -1.9044e-01,\n",
       "         1.0093e-02,  1.2312e-01,  1.4157e-02, -2.5520e-01, -5.5532e-02,\n",
       "        -8.3337e-02, -2.9266e-01, -4.4704e-02, -3.3126e-01,  1.4800e-01,\n",
       "         7.8194e-02,  3.5224e-01,  1.7638e-01, -3.3904e-01, -1.5751e-01,\n",
       "         1.3568e-02, -1.1143e-01,  2.4866e-01, -1.3968e-01, -2.0744e-01,\n",
       "        -1.1968e-01, -1.4435e-01,  1.2408e-01, -3.6505e-01, -1.2983e-03,\n",
       "        -2.9173e-01,  1.9681e-01, -5.3077e-01,  8.7970e-03,  4.7541e-02,\n",
       "        -2.3006e-01,  3.0428e-01, -5.2922e-02,  2.8186e-01,  2.2882e-02,\n",
       "        -2.3753e-01, -9.2308e-02,  4.6068e-01,  2.1176e-01,  5.6106e-02,\n",
       "         8.0510e-02,  1.8074e-01,  7.6057e-02,  8.7681e-02,  2.8036e-02,\n",
       "         2.8422e-01, -4.1851e-02, -8.0801e-02, -1.0435e-01,  1.6049e-01,\n",
       "         3.7779e-01,  5.4392e-02,  1.4564e-01, -1.1878e-01, -1.8499e-02,\n",
       "         3.6590e-01,  4.3865e-01, -1.5642e-01,  2.9485e-01, -1.0273e-01,\n",
       "        -1.1865e-02,  2.5028e-01, -5.0706e-02,  7.0407e-02,  1.9367e-02,\n",
       "         2.5962e-02, -4.8903e-01, -1.0807e-01, -1.3854e-01, -2.1447e-01,\n",
       "        -3.0439e-01,  4.1842e-02, -4.7772e-02, -4.0734e-01,  6.2540e-02,\n",
       "        -1.0521e-01, -6.4420e-03,  6.7050e-02, -4.2522e-01,  3.2244e-02,\n",
       "         2.4562e-01, -2.5932e-01, -8.2283e-02, -2.0274e-02,  1.6627e-01,\n",
       "        -7.5823e-02,  2.5137e-01,  5.4490e-02,  4.2337e-01,  6.3627e-02,\n",
       "        -1.2705e-01,  1.0666e-01, -8.9814e-02,  6.4786e-02,  9.0855e-02,\n",
       "        -3.5241e-01, -1.7130e-01, -6.5676e-02, -4.4031e-02,  1.3765e-01,\n",
       "         9.1677e-02,  7.2174e-02,  5.5431e-02, -4.0695e-03,  6.8075e-02,\n",
       "         1.4890e-02, -1.7966e-01,  1.2501e-01, -2.8625e-01, -4.2734e-01,\n",
       "        -4.2793e-01, -6.8345e-02,  4.0303e-02,  2.6066e-02,  1.4410e-01,\n",
       "        -2.1791e-01,  2.6697e-02,  2.5228e-01,  6.0116e-02, -2.2764e-01,\n",
       "         6.5667e-02,  1.7359e-02,  1.8921e-03,  5.9591e-01, -3.7656e-01,\n",
       "        -1.1465e-01, -2.6535e-01,  1.0250e-02, -2.3724e-02, -1.0398e+00,\n",
       "        -1.9093e-02, -8.0635e-02, -5.0020e-02,  3.7005e-02, -3.8041e-03,\n",
       "         2.0309e-01, -1.3827e-01,  2.7576e-01,  9.1685e-02, -3.6139e-02,\n",
       "        -4.9827e-02, -1.9248e-01,  1.7083e-01, -3.2969e-01, -3.6920e-03,\n",
       "         1.3334e-01, -2.1512e-02,  1.2843e-01, -1.4177e-01,  1.4742e-01,\n",
       "        -2.5947e-01, -3.4448e-01,  3.5421e-01, -6.0086e-01, -4.2447e-01,\n",
       "        -2.0161e-02, -1.0857e-03, -5.0742e-01,  1.8047e-01, -5.1925e-02,\n",
       "         2.5386e-01,  2.8064e-01, -2.5472e-01, -1.6579e-01,  2.4273e-02,\n",
       "        -2.3411e-01, -9.2053e-02, -1.5341e-01, -1.7650e-01, -2.3250e-01,\n",
       "         3.1090e-02,  6.2192e-01,  1.5599e-02,  1.3294e-01, -1.0232e-01,\n",
       "        -4.3666e-01,  7.5334e-03,  2.6039e-01,  2.7723e-01, -1.1043e-01,\n",
       "        -1.7114e-01, -3.0950e-02, -1.5543e-01,  1.8142e-01,  4.0631e-02,\n",
       "        -1.9184e-01, -2.2020e-02, -5.9835e-01, -3.4066e-02,  2.1663e-01,\n",
       "        -4.2773e-02,  8.8576e-02,  6.6517e-02,  3.5341e-01, -1.9290e-01,\n",
       "         6.0007e-02,  3.8725e-02, -6.8693e-01, -9.0640e-02,  1.7547e-01,\n",
       "        -2.6863e-01, -2.0487e-03, -3.9871e-01, -1.1147e-01,  3.0683e-01,\n",
       "        -1.6200e-01,  8.5960e-02,  3.4808e-01, -1.0310e-02,  5.0643e-02,\n",
       "        -1.5854e-01, -1.1834e-01, -1.5628e-01,  3.0771e-01, -9.7748e-02,\n",
       "         1.3873e-01, -8.7951e-02,  5.5045e-02,  3.8212e-02,  1.3546e-02,\n",
       "         1.0802e-01, -1.0506e-01,  3.0366e-02, -5.4039e-02, -4.4535e-01,\n",
       "         2.1074e-01,  4.4885e-02, -7.5017e-02, -7.4584e-02,  7.2878e-02,\n",
       "        -5.3694e-02,  8.5460e-02,  2.6171e-01,  1.9433e-01,  9.3744e-03,\n",
       "        -1.7420e-01, -1.8796e-02,  1.9087e-01,  6.0929e-02,  4.4190e-01,\n",
       "        -2.2146e-02,  3.7181e-01, -1.6497e-01,  2.4435e-01, -2.4503e-01,\n",
       "         5.2425e-01,  4.5405e-02, -4.8215e-02,  1.0619e-01, -2.5730e-01,\n",
       "         1.3592e-01, -9.3928e-02,  2.7103e-01,  8.0508e-01, -6.5998e-02,\n",
       "         1.2821e-01, -2.7715e-02, -1.6673e-02, -8.5443e-02,  2.0208e-01,\n",
       "         5.2035e-02,  2.4699e-02,  8.6005e-03, -3.0963e-02, -1.1599e-01,\n",
       "        -2.6559e-01,  5.2668e-02,  1.9859e-02, -1.2814e-01,  4.4943e-01,\n",
       "         2.9566e-02, -8.1747e-02, -5.1240e-02, -1.3884e-01, -3.6995e-02,\n",
       "         1.2066e-01,  2.0150e-01, -1.6292e-01, -3.7612e-01, -9.7880e-02,\n",
       "        -6.7057e-01, -4.6547e-02,  2.0095e-02,  3.4938e-01, -2.0455e-01,\n",
       "        -4.2269e-02, -1.9377e-01, -3.4146e-01, -5.5827e-02,  1.2200e-01,\n",
       "        -3.9267e-01,  4.5724e-03,  3.8178e-01,  1.9360e-01, -4.5447e-01,\n",
       "         1.8687e-01, -5.3447e-02, -2.5819e-01,  5.2143e-01, -3.5484e-01,\n",
       "         6.0229e-01,  4.1133e-01, -2.2809e-01, -1.0826e-01, -5.7699e-01,\n",
       "        -6.6044e-02, -1.7216e-02, -1.4782e-01, -8.2695e-02, -4.3801e-02,\n",
       "         8.2656e-02, -1.8000e-02, -3.9066e-01, -1.7258e-01, -3.5672e-01,\n",
       "        -5.7670e-02, -1.5005e-01, -1.0326e-01,  3.0797e-02,  5.0041e-01,\n",
       "         9.4754e-01, -1.9829e-03,  5.4421e-02,  3.6385e-01, -4.2633e-03,\n",
       "        -2.6127e-01, -1.2004e-01, -1.3415e+00,  3.8548e-02,  5.4655e-02,\n",
       "         6.4920e-02, -8.9643e-02, -8.7072e-02,  3.9083e-02,  2.9564e-01,\n",
       "        -4.9321e-02, -2.8289e-02, -9.8822e-02, -9.4260e-02, -3.1612e-01,\n",
       "         1.5063e-01, -4.3749e-01, -5.3294e-02, -1.5950e-01, -1.8731e-01,\n",
       "         4.7311e-01,  3.1674e-01,  2.7199e-02, -5.5358e-02,  1.7262e-01,\n",
       "         7.6548e-02,  7.7948e-01,  3.3756e-01,  7.0340e-02,  1.6039e-01,\n",
       "        -3.4330e-01, -5.6678e-01, -2.1316e-01,  2.1915e-01,  2.2421e-01,\n",
       "         5.6871e-01,  1.3496e-01, -8.3431e-01, -1.5432e-01, -4.6771e-02,\n",
       "        -1.0769e-01,  7.4592e-02,  1.8604e-02, -3.2157e-02, -2.6727e-02])"
      ]
     },
     "execution_count": 30,
     "metadata": {},
     "output_type": "execute_result"
    }
   ],
   "source": [
    "encoder.state_dict()['encoder.weight'][1]"
   ]
  },
  {
   "cell_type": "code",
   "execution_count": null,
   "metadata": {},
   "outputs": [],
   "source": []
  }
 ],
 "metadata": {
  "kernelspec": {
   "display_name": "Python 3",
   "language": "python",
   "name": "python3"
  },
  "language_info": {
   "codemirror_mode": {
    "name": "ipython",
    "version": 3
   },
   "file_extension": ".py",
   "mimetype": "text/x-python",
   "name": "python",
   "nbconvert_exporter": "python",
   "pygments_lexer": "ipython3",
   "version": "3.6.8"
  }
 },
 "nbformat": 4,
 "nbformat_minor": 2
}
