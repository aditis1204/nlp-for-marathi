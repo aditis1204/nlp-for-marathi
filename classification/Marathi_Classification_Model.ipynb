{
 "cells": [
  {
   "cell_type": "code",
   "execution_count": 1,
   "metadata": {},
   "outputs": [],
   "source": [
    "from fastai.text import *\n",
    "import numpy as np\n",
    "from sklearn.model_selection import train_test_split\n",
    "import pickle\n",
    "import sentencepiece as spm\n",
    "import re\n",
    "import pdb"
   ]
  },
  {
   "cell_type": "code",
   "execution_count": 2,
   "metadata": {},
   "outputs": [
    {
     "data": {
      "text/plain": [
       "('1.0.40', '1.0.0')"
      ]
     },
     "execution_count": 2,
     "metadata": {},
     "output_type": "execute_result"
    }
   ],
   "source": [
    "import fastai, torch\n",
    "fastai.__version__ , torch.__version__"
   ]
  },
  {
   "cell_type": "code",
   "execution_count": 3,
   "metadata": {},
   "outputs": [],
   "source": [
    "torch.cuda.set_device(0)"
   ]
  },
  {
   "cell_type": "code",
   "execution_count": 4,
   "metadata": {},
   "outputs": [
    {
     "name": "stdout",
     "output_type": "stream",
     "text": [
      "/home/gaurav/PycharmProjects/nlp-for-marathi/classification\r\n"
     ]
    }
   ],
   "source": [
    "!pwd"
   ]
  },
  {
   "cell_type": "code",
   "execution_count": 5,
   "metadata": {},
   "outputs": [],
   "source": [
    "path = Path('/home/gaurav/PycharmProjects/nlp-for-marathi/classification')"
   ]
  },
  {
   "cell_type": "code",
   "execution_count": 6,
   "metadata": {},
   "outputs": [
    {
     "name": "stdout",
     "output_type": "stream",
     "text": [
      "Marathi_Classification_Data_News_Headlines.csv\r\n",
      "Marathi_Classification_Model.ipynb\r\n"
     ]
    }
   ],
   "source": [
    "!ls"
   ]
  },
  {
   "cell_type": "code",
   "execution_count": 7,
   "metadata": {},
   "outputs": [
    {
     "data": {
      "text/html": [
       "<div>\n",
       "<style scoped>\n",
       "    .dataframe tbody tr th:only-of-type {\n",
       "        vertical-align: middle;\n",
       "    }\n",
       "\n",
       "    .dataframe tbody tr th {\n",
       "        vertical-align: top;\n",
       "    }\n",
       "\n",
       "    .dataframe thead th {\n",
       "        text-align: right;\n",
       "    }\n",
       "</style>\n",
       "<table border=\"1\" class=\"dataframe\">\n",
       "  <thead>\n",
       "    <tr style=\"text-align: right;\">\n",
       "      <th></th>\n",
       "      <th>headline</th>\n",
       "      <th>label</th>\n",
       "    </tr>\n",
       "  </thead>\n",
       "  <tbody>\n",
       "    <tr>\n",
       "      <th>12087</th>\n",
       "      <td>धक्कादायक! एक्स्प्रेसमध्ये महिला कोचच्या पायऱ्...</td>\n",
       "      <td>state</td>\n",
       "    </tr>\n",
       "    <tr>\n",
       "      <th>12088</th>\n",
       "      <td>चर्चा करून तोडगा काढण्यास अण्णा सकारात्मक -गिर...</td>\n",
       "      <td>state</td>\n",
       "    </tr>\n",
       "    <tr>\n",
       "      <th>12089</th>\n",
       "      <td>जिल्हा बँकांमधील जुन्या नोटा अखेर RBI स्विकारण...</td>\n",
       "      <td>state</td>\n",
       "    </tr>\n",
       "    <tr>\n",
       "      <th>12090</th>\n",
       "      <td>ज्यांनी आपल्याला मोठं केलं त्यांना विसरू नका, ...</td>\n",
       "      <td>state</td>\n",
       "    </tr>\n",
       "    <tr>\n",
       "      <th>12091</th>\n",
       "      <td>दाभोलकर कुटुंबीयांनी घेतली पोलीस आयुक्तींची भेट</td>\n",
       "      <td>state</td>\n",
       "    </tr>\n",
       "  </tbody>\n",
       "</table>\n",
       "</div>"
      ],
      "text/plain": [
       "                                                headline  label\n",
       "12087  धक्कादायक! एक्स्प्रेसमध्ये महिला कोचच्या पायऱ्...  state\n",
       "12088  चर्चा करून तोडगा काढण्यास अण्णा सकारात्मक -गिर...  state\n",
       "12089  जिल्हा बँकांमधील जुन्या नोटा अखेर RBI स्विकारण...  state\n",
       "12090  ज्यांनी आपल्याला मोठं केलं त्यांना विसरू नका, ...  state\n",
       "12091    दाभोलकर कुटुंबीयांनी घेतली पोलीस आयुक्तींची भेट  state"
      ]
     },
     "execution_count": 7,
     "metadata": {},
     "output_type": "execute_result"
    }
   ],
   "source": [
    "df = pd.read_csv(path/'Marathi_Classification_Data_News_Headlines.csv')\n",
    "df.tail()"
   ]
  },
  {
   "cell_type": "code",
   "execution_count": 8,
   "metadata": {},
   "outputs": [
    {
     "data": {
      "text/plain": [
       "array(['entertainment', 'sports', 'state'], dtype=object)"
      ]
     },
     "execution_count": 8,
     "metadata": {},
     "output_type": "execute_result"
    }
   ],
   "source": [
    "df['label'].unique()"
   ]
  },
  {
   "cell_type": "code",
   "execution_count": 9,
   "metadata": {},
   "outputs": [
    {
     "name": "stdout",
     "output_type": "stream",
     "text": [
      "Entertainment 3323\n",
      "Sports 1222\n",
      "State 7547\n"
     ]
    }
   ],
   "source": [
    "print('Entertainment', (df['label'] == 'entertainment').sum())\n",
    "print('Sports', (df['label'] == 'sports').sum())\n",
    "print('State', (df['label'] == 'state').sum())"
   ]
  },
  {
   "cell_type": "code",
   "execution_count": 10,
   "metadata": {},
   "outputs": [
    {
     "data": {
      "text/plain": [
       "'दीपिकाचं आयुष्यात असणंच माझ्यासाठी सर्व काही - रणवीर'"
      ]
     },
     "execution_count": 10,
     "metadata": {},
     "output_type": "execute_result"
    }
   ],
   "source": [
    "df['headline'][0]"
   ]
  },
  {
   "cell_type": "code",
   "execution_count": 11,
   "metadata": {},
   "outputs": [
    {
     "data": {
      "text/plain": [
       "(12092, 2)"
      ]
     },
     "execution_count": 11,
     "metadata": {},
     "output_type": "execute_result"
    }
   ],
   "source": [
    "df.shape"
   ]
  },
  {
   "cell_type": "code",
   "execution_count": 12,
   "metadata": {},
   "outputs": [
    {
     "data": {
      "text/plain": [
       "(0, 2)"
      ]
     },
     "execution_count": 12,
     "metadata": {},
     "output_type": "execute_result"
    }
   ],
   "source": [
    "df[df['headline'].isnull()].shape"
   ]
  },
  {
   "cell_type": "code",
   "execution_count": 13,
   "metadata": {},
   "outputs": [],
   "source": [
    "label_cols = list(range(1,df.shape[1]))"
   ]
  },
  {
   "cell_type": "code",
   "execution_count": 14,
   "metadata": {},
   "outputs": [
    {
     "name": "stdout",
     "output_type": "stream",
     "text": [
      "[1]\n"
     ]
    }
   ],
   "source": [
    "print(label_cols)"
   ]
  },
  {
   "cell_type": "code",
   "execution_count": 15,
   "metadata": {},
   "outputs": [],
   "source": [
    "id_to_col = list(df.columns)"
   ]
  },
  {
   "cell_type": "code",
   "execution_count": 16,
   "metadata": {},
   "outputs": [],
   "source": [
    "col_to_id = {}\n",
    "for i, col in enumerate(id_to_col):\n",
    "    col_to_id[col] = i"
   ]
  },
  {
   "cell_type": "code",
   "execution_count": 18,
   "metadata": {},
   "outputs": [],
   "source": [
    "class MarathiTokenizer(BaseTokenizer):\n",
    "    def __init__(self, lang:str):\n",
    "        self.lang = lang\n",
    "        self.sp = spm.SentencePieceProcessor()\n",
    "        self.sp.Load(str(path/\"../tokenizer/marathi_lm.model\"))\n",
    "        \n",
    "    def tokenizer(self, t:str) -> List[str]:\n",
    "        return self.sp.EncodeAsPieces(t)"
   ]
  },
  {
   "cell_type": "code",
   "execution_count": 19,
   "metadata": {},
   "outputs": [],
   "source": [
    "sp = spm.SentencePieceProcessor()\n",
    "sp.Load(str(path/\"../tokenizer/marathi_lm.model\"))\n",
    "itos = [sp.IdToPiece(int(i)) for i in range(30000)]"
   ]
  },
  {
   "cell_type": "code",
   "execution_count": 20,
   "metadata": {},
   "outputs": [],
   "source": [
    "# 30,000 is the vocab size that we chose in sentencepiece\n",
    "marathi_vocab = Vocab(itos)"
   ]
  },
  {
   "cell_type": "code",
   "execution_count": 21,
   "metadata": {},
   "outputs": [],
   "source": [
    "tokenizer = Tokenizer(tok_func=MarathiTokenizer, lang='mr')"
   ]
  },
  {
   "cell_type": "code",
   "execution_count": 22,
   "metadata": {},
   "outputs": [
    {
     "data": {
      "text/plain": [
       "['xxunk', 'xxpad', 'xxbos', 'xxfld', 'xxmaj', 'xxup', 'xxrep', 'xxwrep']"
      ]
     },
     "execution_count": 22,
     "metadata": {},
     "output_type": "execute_result"
    }
   ],
   "source": [
    "tokenizer.special_cases"
   ]
  },
  {
   "cell_type": "code",
   "execution_count": 23,
   "metadata": {},
   "outputs": [],
   "source": [
    "data_lm = TextDataBunch.from_csv(path=path, csv_name='Marathi_Classification_Data_News_Headlines.csv', text_cols=[0], label_cols=label_cols, tokenizer=tokenizer, vocab=marathi_vocab)"
   ]
  },
  {
   "cell_type": "code",
   "execution_count": 24,
   "metadata": {},
   "outputs": [],
   "source": [
    "data_lm.save()"
   ]
  },
  {
   "cell_type": "code",
   "execution_count": 25,
   "metadata": {},
   "outputs": [],
   "source": [
    "bs=48"
   ]
  },
  {
   "cell_type": "code",
   "execution_count": 26,
   "metadata": {},
   "outputs": [],
   "source": [
    "data_lm = TextLMDataBunch.load(path, 'tmp', bs=bs)"
   ]
  },
  {
   "cell_type": "code",
   "execution_count": 27,
   "metadata": {},
   "outputs": [
    {
     "data": {
      "text/html": [
       "<table>  <col width='5%'>  <col width='95%'>  <tr>\n",
       "    <th>idx</th>\n",
       "    <th>text</th>\n",
       "  </tr>\n",
       "  <tr>\n",
       "    <th>0</th>\n",
       "    <th>▁x x bo s ▁सीमा ▁भागातील ▁मराठी ▁भाषिक ांना ▁महाराष्ट्र ानं ▁वा - यावर ▁सोड लं य ▁का ? <unk> ▁भाग - ▁2) ▁x x bo s ▁बालभारती च्या ▁पुस्तक ांसाठी ▁कागद ▁खरेदी त ▁गौड बंगाल ▁x x bo s ▁मुक्त ाचा ▁' रंग ▁नवा ' ▁x x bo s ▁रहाणे , ▁पंत ची ▁शतक ाकडे ▁वाटचाल , ▁सामन्या वर ▁भारताची ▁मजबूत ▁पकड ▁x x bo s ▁शाहिद ▁आ फ्र</th>\n",
       "  </tr>\n",
       "  <tr>\n",
       "    <th>1</th>\n",
       "    <th>▁समाजाचा ▁मोर्चा ▁x x bo s ▁राज्य भर ात ▁गुढीपाडव्या चा ▁उत्साह ; ▁नववर्ष ाचं ▁जल्लोष ात ▁स्वागत ▁x x bo s ▁विराट - अ नुष्का चं ▁' च ोरी ▁चोरी ▁चु प के ▁चु प के ' ▁सुरूच ▁x x bo s ▁श्री देवी ▁यांच्या ▁ट्विटर वरून ▁बो नी ▁कपूर ▁यांनी ▁केलं ▁ट् वि ट ; ▁पहिल्यांदाच ▁झाले ▁व्यक्त ! ▁x x bo s ▁सोलापुरात ▁सहकार मंत्र ्यांची ▁गाडी</th>\n",
       "  </tr>\n",
       "  <tr>\n",
       "    <th>2</th>\n",
       "    <th>s ▁' बह रुप िया ' ▁रण बीर ▁आणि ▁अ नुष्का ▁x x bo s ▁या ▁आहेत ▁राज्याच्या ▁प्रभू ंकडून ▁अपेक्षा ▁x x bo s ▁बिग ▁बी ंनी ▁जागव ल्या ▁' शो ले ' च्या ▁आठवणी ▁x x bo s ▁अवतर ली ▁' लाल बाग ची ▁राणी ' ▁x x bo s ▁अवधूत चे ▁सूर ▁x x bo s ▁अरे च्या ! , प ोलिस ांनी ▁आरोपी ला ▁घातली ▁पिशवी</th>\n",
       "  </tr>\n",
       "  <tr>\n",
       "    <th>3</th>\n",
       "    <th>की ▁व र्दी ला ▁ठोकला ▁राम राम ▁x x bo s ▁मुख्यमंत्र्या ंनी ▁थांब वला ▁आठवले ंचा ▁कोपर् डी ▁दा ैर ा , ▁विमानतळ ावरुन ▁आठवले ▁माघार ी ▁x x bo s ▁फिल्म ▁रि व्ह ्यु ▁: ▁' हंस ी ▁तो ▁फ ं सी ' ▁x x bo s ▁साखर ▁कामगारांना ▁पाच वं ▁वेतन ▁देणार ▁- मुख्य मंत्री ▁x x bo s ▁मुलगा ▁पसंत ▁आहे , ▁आ लिया च्या ▁आई</th>\n",
       "  </tr>\n",
       "  <tr>\n",
       "    <th>4</th>\n",
       "    <th>bo s ▁बॅक फुट वर ▁दादा , ▁सचिन साठी ▁द्या वं ▁लागलं ▁स्पष्टीकरण ▁x x bo s ▁' गो ष्ट ▁चिर े बंदी ▁वाड्या ची ' ▁x x bo s ▁' उ च ल्या ' ▁कादंबरी ▁ते ▁सिनेमा ▁x x bo s ▁चपाती ▁वीस ▁सेंटीमीटर च ▁असावी , ▁पती च्या ▁ज ाचा मुळे ▁पत्नी ने ▁मागितला ▁घटस्फोट ▁x x bo s ▁चुकीच ं ▁वाग णाऱ्या ंना ▁स्वातंत्र्य ▁नाही , ▁तनु</th>\n",
       "  </tr>\n",
       "</table>\n"
      ],
      "text/plain": [
       "<IPython.core.display.HTML object>"
      ]
     },
     "metadata": {},
     "output_type": "display_data"
    }
   ],
   "source": [
    "data_lm.show_batch()"
   ]
  },
  {
   "cell_type": "code",
   "execution_count": 28,
   "metadata": {},
   "outputs": [],
   "source": [
    "learn = language_model_learner(data_lm, drop_mult=0.3)"
   ]
  },
  {
   "cell_type": "code",
   "execution_count": 29,
   "metadata": {},
   "outputs": [
    {
     "data": {
      "text/plain": [
       "LanguageLearner(data=TextLMDataBunch;\n",
       "\n",
       "Train: LabelList\n",
       "y: LMLabel (9673 items)\n",
       "[Category 0, Category 0, Category 0, Category 0, Category 0]...\n",
       "Path: /home/gaurav/PycharmProjects/nlp-for-marathi/classification\n",
       "x: LMTextList (9673 items)\n",
       "[Text ▁x x bo s ▁गडचिरोली त ▁माओ वाद्य ांच्या ▁भू सुर ुंग ▁स्फोट ात ▁12 ▁जवान ▁जखमी, Text ▁x x bo s <unk> ▁l ive ▁cricket ▁score , <unk> ▁v s <unk> , ▁1 st <unk> <unk> : ▁रो ' हि ट ' ची ▁खेळी ▁व ्यर्थ , ▁ऑस्ट्रेलियाचा ▁३४ ▁धाव ांनी ▁विजय, Text ▁x x bo s ▁भुजबळ ांचा ▁पाय ▁आणखी ▁खोल ात , ▁मुंबई - नाशिक मध्ये ▁घर - कार्य ालय ांवर ▁छाप े, Text ▁x x bo s ▁' ठ ग् स ▁आॅफ ▁हिंद ो स्तान ' वर च्या ▁टीके ला ▁आमिर नं ▁दिलं ▁' अ सं ' ▁उत्तर, Text ▁x x bo s ▁दिग्दर्शक ▁संदीप ▁सावंत शी ▁दिल खु ला स ▁गप्पा]...\n",
       "Path: /home/gaurav/PycharmProjects/nlp-for-marathi/classification;\n",
       "\n",
       "Valid: LabelList\n",
       "y: LMLabel (2419 items)\n",
       "[Category 0, Category 0, Category 0, Category 0, Category 0]...\n",
       "Path: /home/gaurav/PycharmProjects/nlp-for-marathi/classification\n",
       "x: LMTextList (2419 items)\n",
       "[Text ▁x x bo s ▁विधान ▁परिषदे साठी ▁अखेर ▁सेना - भाजप ची ▁युती, Text ▁x x bo s ▁दुष्काळ ामुळे ▁महान ोर ांनी ▁जो ह न्स बर्ग ▁संमेलन वारी ▁केली ▁रद्द, Text ▁x x bo s ▁तै मूर ला ▁लवकरच ▁मिळणार ▁भावंड !, Text ▁x x bo s ▁पाकिस्तान समोर ▁24 6 ▁धाव ांचे ▁आव्हान, Text ▁x x bo s ▁कॉपी ▁ बहाद्दर ांचा ▁सु ळ सु ळा ट , ▁कॉपी ▁पुरवण्या साठी ▁भरली ▁जत्रा]...\n",
       "Path: /home/gaurav/PycharmProjects/nlp-for-marathi/classification;\n",
       "\n",
       "Test: None, model=SequentialRNN(\n",
       "  (0): RNNCore(\n",
       "    (encoder): Embedding(30000, 400, padding_idx=1)\n",
       "    (encoder_dp): EmbeddingDropout(\n",
       "      (emb): Embedding(30000, 400, padding_idx=1)\n",
       "    )\n",
       "    (rnns): ModuleList(\n",
       "      (0): WeightDropout(\n",
       "        (module): LSTM(400, 1150, batch_first=True)\n",
       "      )\n",
       "      (1): WeightDropout(\n",
       "        (module): LSTM(1150, 1150, batch_first=True)\n",
       "      )\n",
       "      (2): WeightDropout(\n",
       "        (module): LSTM(1150, 400, batch_first=True)\n",
       "      )\n",
       "    )\n",
       "    (input_dp): RNNDropout()\n",
       "    (hidden_dps): ModuleList(\n",
       "      (0): RNNDropout()\n",
       "      (1): RNNDropout()\n",
       "      (2): RNNDropout()\n",
       "    )\n",
       "  )\n",
       "  (1): LinearDecoder(\n",
       "    (decoder): Linear(in_features=400, out_features=30000, bias=True)\n",
       "    (output_dp): RNNDropout()\n",
       "  )\n",
       "), opt_func=functools.partial(<class 'torch.optim.adam.Adam'>, betas=(0.9, 0.99)), loss_func=<fastai.layers.FlattenedLoss object at 0x7feab95b3748>, metrics=[<function accuracy at 0x7feab2d3a7b8>], true_wd=True, bn_wd=True, wd=0.01, train_bn=True, path=PosixPath('/home/gaurav/PycharmProjects/nlp-for-marathi/classification'), model_dir='models', callback_fns=[<class 'fastai.basic_train.Recorder'>], callbacks=[RNNTrainer\n",
       "learn: LanguageLearner(data=TextLMDataBunch;\n",
       "\n",
       "Train: LabelList\n",
       "y: LMLabel (9673 items)\n",
       "[Category 0, Category 0, Category 0, Category 0, Category 0]...\n",
       "Path: /home/gaurav/PycharmProjects/nlp-for-marathi/classification\n",
       "x: LMTextList (9673 items)\n",
       "[Text ▁x x bo s ▁गडचिरोली त ▁माओ वाद्य ांच्या ▁भू सुर ुंग ▁स्फोट ात ▁12 ▁जवान ▁जखमी, Text ▁x x bo s <unk> ▁l ive ▁cricket ▁score , <unk> ▁v s <unk> , ▁1 st <unk> <unk> : ▁रो ' हि ट ' ची ▁खेळी ▁व ्यर्थ , ▁ऑस्ट्रेलियाचा ▁३४ ▁धाव ांनी ▁विजय, Text ▁x x bo s ▁भुजबळ ांचा ▁पाय ▁आणखी ▁खोल ात , ▁मुंबई - नाशिक मध्ये ▁घर - कार्य ालय ांवर ▁छाप े, Text ▁x x bo s ▁' ठ ग् स ▁आॅफ ▁हिंद ो स्तान ' वर च्या ▁टीके ला ▁आमिर नं ▁दिलं ▁' अ सं ' ▁उत्तर, Text ▁x x bo s ▁दिग्दर्शक ▁संदीप ▁सावंत शी ▁दिल खु ला स ▁गप्पा]...\n",
       "Path: /home/gaurav/PycharmProjects/nlp-for-marathi/classification;\n",
       "\n",
       "Valid: LabelList\n",
       "y: LMLabel (2419 items)\n",
       "[Category 0, Category 0, Category 0, Category 0, Category 0]...\n",
       "Path: /home/gaurav/PycharmProjects/nlp-for-marathi/classification\n",
       "x: LMTextList (2419 items)\n",
       "[Text ▁x x bo s ▁विधान ▁परिषदे साठी ▁अखेर ▁सेना - भाजप ची ▁युती, Text ▁x x bo s ▁दुष्काळ ामुळे ▁महान ोर ांनी ▁जो ह न्स बर्ग ▁संमेलन वारी ▁केली ▁रद्द, Text ▁x x bo s ▁तै मूर ला ▁लवकरच ▁मिळणार ▁भावंड !, Text ▁x x bo s ▁पाकिस्तान समोर ▁24 6 ▁धाव ांचे ▁आव्हान, Text ▁x x bo s ▁कॉपी ▁ बहाद्दर ांचा ▁सु ळ सु ळा ट , ▁कॉपी ▁पुरवण्या साठी ▁भरली ▁जत्रा]...\n",
       "Path: /home/gaurav/PycharmProjects/nlp-for-marathi/classification;\n",
       "\n",
       "Test: None, model=SequentialRNN(\n",
       "  (0): RNNCore(\n",
       "    (encoder): Embedding(30000, 400, padding_idx=1)\n",
       "    (encoder_dp): EmbeddingDropout(\n",
       "      (emb): Embedding(30000, 400, padding_idx=1)\n",
       "    )\n",
       "    (rnns): ModuleList(\n",
       "      (0): WeightDropout(\n",
       "        (module): LSTM(400, 1150, batch_first=True)\n",
       "      )\n",
       "      (1): WeightDropout(\n",
       "        (module): LSTM(1150, 1150, batch_first=True)\n",
       "      )\n",
       "      (2): WeightDropout(\n",
       "        (module): LSTM(1150, 400, batch_first=True)\n",
       "      )\n",
       "    )\n",
       "    (input_dp): RNNDropout()\n",
       "    (hidden_dps): ModuleList(\n",
       "      (0): RNNDropout()\n",
       "      (1): RNNDropout()\n",
       "      (2): RNNDropout()\n",
       "    )\n",
       "  )\n",
       "  (1): LinearDecoder(\n",
       "    (decoder): Linear(in_features=400, out_features=30000, bias=True)\n",
       "    (output_dp): RNNDropout()\n",
       "  )\n",
       "), opt_func=functools.partial(<class 'torch.optim.adam.Adam'>, betas=(0.9, 0.99)), loss_func=<fastai.layers.FlattenedLoss object at 0x7feab95b3748>, metrics=[<function accuracy at 0x7feab2d3a7b8>], true_wd=True, bn_wd=True, wd=0.01, train_bn=True, path=PosixPath('/home/gaurav/PycharmProjects/nlp-for-marathi/classification'), model_dir='models', callback_fns=[<class 'fastai.basic_train.Recorder'>], callbacks=[...], layer_groups=[Sequential(\n",
       "  (0): WeightDropout(\n",
       "    (module): LSTM(400, 1150, batch_first=True)\n",
       "  )\n",
       "  (1): RNNDropout()\n",
       "), Sequential(\n",
       "  (0): WeightDropout(\n",
       "    (module): LSTM(1150, 1150, batch_first=True)\n",
       "  )\n",
       "  (1): RNNDropout()\n",
       "), Sequential(\n",
       "  (0): WeightDropout(\n",
       "    (module): LSTM(1150, 400, batch_first=True)\n",
       "  )\n",
       "  (1): RNNDropout()\n",
       "), Sequential(\n",
       "  (0): Embedding(30000, 400, padding_idx=1)\n",
       "  (1): EmbeddingDropout(\n",
       "    (emb): Embedding(30000, 400, padding_idx=1)\n",
       "  )\n",
       "  (2): LinearDecoder(\n",
       "    (decoder): Linear(in_features=400, out_features=30000, bias=True)\n",
       "    (output_dp): RNNDropout()\n",
       "  )\n",
       ")])\n",
       "bptt: 70\n",
       "alpha: 2.0\n",
       "beta: 1.0], layer_groups=[Sequential(\n",
       "  (0): WeightDropout(\n",
       "    (module): LSTM(400, 1150, batch_first=True)\n",
       "  )\n",
       "  (1): RNNDropout()\n",
       "), Sequential(\n",
       "  (0): WeightDropout(\n",
       "    (module): LSTM(1150, 1150, batch_first=True)\n",
       "  )\n",
       "  (1): RNNDropout()\n",
       "), Sequential(\n",
       "  (0): WeightDropout(\n",
       "    (module): LSTM(1150, 400, batch_first=True)\n",
       "  )\n",
       "  (1): RNNDropout()\n",
       "), Sequential(\n",
       "  (0): Embedding(30000, 400, padding_idx=1)\n",
       "  (1): EmbeddingDropout(\n",
       "    (emb): Embedding(30000, 400, padding_idx=1)\n",
       "  )\n",
       "  (2): LinearDecoder(\n",
       "    (decoder): Linear(in_features=400, out_features=30000, bias=True)\n",
       "    (output_dp): RNNDropout()\n",
       "  )\n",
       ")])"
      ]
     },
     "execution_count": 29,
     "metadata": {},
     "output_type": "execute_result"
    }
   ],
   "source": [
    "# Loading the pretrained language model on kannada wikipedia\n",
    "learn.load('/home/gaurav/PycharmProjects/nlp-for-marathi/language-model/MarathiDataset/models/fourth_mr_lm', with_opt=True)"
   ]
  },
  {
   "cell_type": "code",
   "execution_count": 30,
   "metadata": {},
   "outputs": [],
   "source": [
    "# Fine tuning the prtrained LM on current dataset"
   ]
  },
  {
   "cell_type": "code",
   "execution_count": 31,
   "metadata": {},
   "outputs": [
    {
     "name": "stdout",
     "output_type": "stream",
     "text": [
      "LR Finder is complete, type {learner_name}.recorder.plot() to see the graph.\n"
     ]
    }
   ],
   "source": [
    "learn.lr_find()"
   ]
  },
  {
   "cell_type": "code",
   "execution_count": 32,
   "metadata": {},
   "outputs": [
    {
     "data": {
      "image/png": "[encoded data removed]",
      "text/plain": [
       "<Figure size 432x288 with 1 Axes>"
      ]
     },
     "metadata": {
      "needs_background": "light"
     },
     "output_type": "display_data"
    }
   ],
   "source": [
    "learn.recorder.plot()"
   ]
  },
  {
   "cell_type": "code",
   "execution_count": 33,
   "metadata": {},
   "outputs": [],
   "source": [
    "learn.freeze()"
   ]
  },
  {
   "cell_type": "code",
   "execution_count": 34,
   "metadata": {},
   "outputs": [
    {
     "data": {
      "text/html": [
       "Total time: 00:06 <p><table style='width:300px; margin-bottom:10px'>\n",
       "  <tr>\n",
       "    <th>epoch</th>\n",
       "    <th>train_loss</th>\n",
       "    <th>valid_loss</th>\n",
       "    <th>accuracy</th>\n",
       "  </tr>\n",
       "  <tr>\n",
       "    <th>1</th>\n",
       "    <th>5.379014</th>\n",
       "    <th>4.866922</th>\n",
       "    <th>0.328144</th>\n",
       "  </tr>\n",
       "</table>\n"
      ],
      "text/plain": [
       "<IPython.core.display.HTML object>"
      ]
     },
     "metadata": {},
     "output_type": "display_data"
    }
   ],
   "source": [
    "learn.fit_one_cycle(1, 1e-2, moms=(0.8,0.7))"
   ]
  },
  {
   "cell_type": "code",
   "execution_count": 35,
   "metadata": {},
   "outputs": [],
   "source": [
    "learn.save('fit_head', with_opt=True)"
   ]
  },
  {
   "cell_type": "code",
   "execution_count": 36,
   "metadata": {},
   "outputs": [],
   "source": [
    "learn.load('fit_head', with_opt=True);"
   ]
  },
  {
   "cell_type": "code",
   "execution_count": 37,
   "metadata": {},
   "outputs": [],
   "source": [
    "learn.unfreeze()"
   ]
  },
  {
   "cell_type": "code",
   "execution_count": 38,
   "metadata": {},
   "outputs": [
    {
     "data": {
      "text/html": [
       "Total time: 01:13 <p><table style='width:300px; margin-bottom:10px'>\n",
       "  <tr>\n",
       "    <th>epoch</th>\n",
       "    <th>train_loss</th>\n",
       "    <th>valid_loss</th>\n",
       "    <th>accuracy</th>\n",
       "  </tr>\n",
       "  <tr>\n",
       "    <th>1</th>\n",
       "    <th>4.630424</th>\n",
       "    <th>4.662682</th>\n",
       "    <th>0.340917</th>\n",
       "  </tr>\n",
       "  <tr>\n",
       "    <th>2</th>\n",
       "    <th>4.472055</th>\n",
       "    <th>4.422144</th>\n",
       "    <th>0.361622</th>\n",
       "  </tr>\n",
       "  <tr>\n",
       "    <th>3</th>\n",
       "    <th>4.248912</th>\n",
       "    <th>4.255036</th>\n",
       "    <th>0.378132</th>\n",
       "  </tr>\n",
       "  <tr>\n",
       "    <th>4</th>\n",
       "    <th>4.008489</th>\n",
       "    <th>4.152535</th>\n",
       "    <th>0.391455</th>\n",
       "  </tr>\n",
       "  <tr>\n",
       "    <th>5</th>\n",
       "    <th>3.788465</th>\n",
       "    <th>4.106253</th>\n",
       "    <th>0.398555</th>\n",
       "  </tr>\n",
       "  <tr>\n",
       "    <th>6</th>\n",
       "    <th>3.576840</th>\n",
       "    <th>4.085821</th>\n",
       "    <th>0.402927</th>\n",
       "  </tr>\n",
       "  <tr>\n",
       "    <th>7</th>\n",
       "    <th>3.405467</th>\n",
       "    <th>4.083016</th>\n",
       "    <th>0.406242</th>\n",
       "  </tr>\n",
       "  <tr>\n",
       "    <th>8</th>\n",
       "    <th>3.273271</th>\n",
       "    <th>4.088724</th>\n",
       "    <th>0.407015</th>\n",
       "  </tr>\n",
       "  <tr>\n",
       "    <th>9</th>\n",
       "    <th>3.180604</th>\n",
       "    <th>4.096419</th>\n",
       "    <th>0.407426</th>\n",
       "  </tr>\n",
       "  <tr>\n",
       "    <th>10</th>\n",
       "    <th>3.133704</th>\n",
       "    <th>4.097309</th>\n",
       "    <th>0.407174</th>\n",
       "  </tr>\n",
       "</table>\n"
      ],
      "text/plain": [
       "<IPython.core.display.HTML object>"
      ]
     },
     "metadata": {},
     "output_type": "display_data"
    }
   ],
   "source": [
    "learn.fit_one_cycle(10, 1e-3, moms=(0.8,0.7))"
   ]
  },
  {
   "cell_type": "code",
   "execution_count": 39,
   "metadata": {},
   "outputs": [],
   "source": [
    "learn.save('fine_tuned', with_opt=True)"
   ]
  },
  {
   "cell_type": "code",
   "execution_count": 40,
   "metadata": {},
   "outputs": [],
   "source": [
    "learn.load('fine_tuned', with_opt=True);"
   ]
  },
  {
   "cell_type": "code",
   "execution_count": 42,
   "metadata": {},
   "outputs": [
    {
     "data": {
      "text/plain": [
       "'सीमा भागातील मराठी तून ▁पुन्हा ▁येते ip ▁लोकमत ▁संपवण्या ex नामे ▁x ▁द'"
      ]
     },
     "execution_count": 42,
     "metadata": {},
     "output_type": "execute_result"
    }
   ],
   "source": [
    "learn.predict('सीमा भागातील मराठी',n_words=10)"
   ]
  },
  {
   "cell_type": "code",
   "execution_count": 43,
   "metadata": {},
   "outputs": [],
   "source": [
    "learn.save_encoder('fine_tuned_enc')"
   ]
  },
  {
   "cell_type": "code",
   "execution_count": 44,
   "metadata": {},
   "outputs": [],
   "source": [
    "data_clas = TextClasDataBunch.from_csv(path=path, csv_name='Marathi_Classification_Data_News_Headlines.csv', tokenizer=tokenizer, vocab=marathi_vocab, text_cols=[0], label_cols=label_cols)"
   ]
  },
  {
   "cell_type": "code",
   "execution_count": 45,
   "metadata": {},
   "outputs": [
    {
     "data": {
      "text/html": [
       "<table>  <col width='90%'>  <col width='10%'>  <tr>\n",
       "    <th>text</th>\n",
       "    <th>target</th>\n",
       "  </tr>\n",
       "  <tr>\n",
       "    <th>▁x x bo s <unk> ▁l ive ▁cricket <unk> <unk> co re , <unk> ▁v s <unk> ▁2 nd ▁test , ▁4 th ▁ <unk> day - ▁ल ंच नंतर ▁ऑस्ट्रेलिया ला ▁दोन ▁धक्के , ▁शमी ने च ▁घेतल्या ▁दोन्ही ▁विकेट , ▁पेन - ▁फिंच ▁बाद</th>\n",
       "    <th>sports</th>\n",
       "  </tr>\n",
       "  <tr>\n",
       "    <th>▁x x bo s <unk> ▁b hi wan di , <unk> ve l , ▁ma le ga on <unk> ect ion ▁re s ul ts ▁2017 <unk> ▁l ive ▁: ▁पनवेल मध्ये ▁भाजप ▁तर ▁भिवंडी - माल ेगाव मध्ये ▁काँग्रेस ▁!</th>\n",
       "    <th>state</th>\n",
       "  </tr>\n",
       "  <tr>\n",
       "    <th>▁x x bo s <unk> ▁l o k ▁ <unk> sa b <unk> ha <unk> ▁e l e c t i o n s ▁20 19 <unk> ▁d <unk> at e : ▁बुल डा णा ▁मतदारसंघ ामध्ये ▁कधी ▁होणार ▁मतदान ?</th>\n",
       "    <th>state</th>\n",
       "  </tr>\n",
       "  <tr>\n",
       "    <th>▁x x bo s <unk> ▁l ive ▁cricket <unk> <unk> co re , <unk> ▁v s <unk> ▁3 rd ▁test , ▁3 rd ▁ <unk> day - ▁दुसऱ्या ▁डावात ▁टीम ▁इंडिया ▁को स ळ ली , ▁पाच ▁गडी ▁बाद</th>\n",
       "    <th>sports</th>\n",
       "  </tr>\n",
       "  <tr>\n",
       "    <th>▁x x bo s <unk> ▁v <unk> id e o <unk> ▁v i r <unk> al ▁: ▁मैदानात ▁घुस लेल्या ▁ फॅन ची ▁धो नी ने ▁घेतली ▁अशी ▁फिरकी ; ▁विराट ही ▁राहिला ▁बघत !</th>\n",
       "    <th>sports</th>\n",
       "  </tr>\n",
       "</table>\n"
      ],
      "text/plain": [
       "<IPython.core.display.HTML object>"
      ]
     },
     "metadata": {},
     "output_type": "display_data"
    }
   ],
   "source": [
    "data_clas.show_batch()"
   ]
  },
  {
   "cell_type": "code",
   "execution_count": 46,
   "metadata": {},
   "outputs": [],
   "source": [
    "data_clas.sanity_check()"
   ]
  },
  {
   "cell_type": "code",
   "execution_count": 47,
   "metadata": {},
   "outputs": [],
   "source": [
    "learn = text_classifier_learner(data_clas, drop_mult=0.5)"
   ]
  },
  {
   "cell_type": "code",
   "execution_count": 48,
   "metadata": {},
   "outputs": [],
   "source": [
    "learn.load_encoder('fine_tuned_enc')"
   ]
  },
  {
   "cell_type": "code",
   "execution_count": 49,
   "metadata": {},
   "outputs": [],
   "source": [
    "learn.freeze()"
   ]
  },
  {
   "cell_type": "code",
   "execution_count": 50,
   "metadata": {},
   "outputs": [
    {
     "name": "stdout",
     "output_type": "stream",
     "text": [
      "LR Finder is complete, type {learner_name}.recorder.plot() to see the graph.\n"
     ]
    }
   ],
   "source": [
    "learn.lr_find()"
   ]
  },
  {
   "cell_type": "code",
   "execution_count": 51,
   "metadata": {},
   "outputs": [
    {
     "data": {
      "image/png": "[encoded data removed]",
      "text/plain": [
       "<Figure size 432x288 with 1 Axes>"
      ]
     },
     "metadata": {
      "needs_background": "light"
     },
     "output_type": "display_data"
    }
   ],
   "source": [
    "learn.recorder.plot()"
   ]
  },
  {
   "cell_type": "code",
   "execution_count": 52,
   "metadata": {},
   "outputs": [
    {
     "data": {
      "text/plain": [
       "CrossEntropyLoss()"
      ]
     },
     "execution_count": 52,
     "metadata": {},
     "output_type": "execute_result"
    }
   ],
   "source": [
    "learn.loss_func.func"
   ]
  },
  {
   "cell_type": "code",
   "execution_count": 53,
   "metadata": {},
   "outputs": [],
   "source": [
    "kappa = KappaScore()"
   ]
  },
  {
   "cell_type": "code",
   "execution_count": 54,
   "metadata": {},
   "outputs": [],
   "source": [
    "learn.metrics = [kappa, accuracy]"
   ]
  },
  {
   "cell_type": "code",
   "execution_count": 55,
   "metadata": {},
   "outputs": [
    {
     "data": {
      "text/html": [
       "Total time: 00:03 <p><table style='width:375px; margin-bottom:10px'>\n",
       "  <tr>\n",
       "    <th>epoch</th>\n",
       "    <th>train_loss</th>\n",
       "    <th>valid_loss</th>\n",
       "    <th>kappa_score</th>\n",
       "    <th>accuracy</th>\n",
       "  </tr>\n",
       "  <tr>\n",
       "    <th>1</th>\n",
       "    <th>0.430313</th>\n",
       "    <th>0.325980</th>\n",
       "    <th>0.759054</th>\n",
       "    <th>0.876809</th>\n",
       "  </tr>\n",
       "</table>\n"
      ],
      "text/plain": [
       "<IPython.core.display.HTML object>"
      ]
     },
     "metadata": {},
     "output_type": "display_data"
    }
   ],
   "source": [
    "learn.fit_one_cycle(1, 1e-1, moms=(0.8,0.7))"
   ]
  },
  {
   "cell_type": "code",
   "execution_count": 56,
   "metadata": {},
   "outputs": [],
   "source": [
    "learn.save('first-full')"
   ]
  },
  {
   "cell_type": "code",
   "execution_count": 57,
   "metadata": {},
   "outputs": [],
   "source": [
    "learn.load('first-full');"
   ]
  },
  {
   "cell_type": "code",
   "execution_count": 58,
   "metadata": {},
   "outputs": [
    {
     "data": {
      "text/html": [
       "Total time: 00:21 <p><table style='width:375px; margin-bottom:10px'>\n",
       "  <tr>\n",
       "    <th>epoch</th>\n",
       "    <th>train_loss</th>\n",
       "    <th>valid_loss</th>\n",
       "    <th>kappa_score</th>\n",
       "    <th>accuracy</th>\n",
       "  </tr>\n",
       "  <tr>\n",
       "    <th>1</th>\n",
       "    <th>0.390041</th>\n",
       "    <th>0.285356</th>\n",
       "    <th>0.800648</th>\n",
       "    <th>0.901199</th>\n",
       "  </tr>\n",
       "  <tr>\n",
       "    <th>2</th>\n",
       "    <th>0.355504</th>\n",
       "    <th>0.255062</th>\n",
       "    <th>0.813784</th>\n",
       "    <th>0.904919</th>\n",
       "  </tr>\n",
       "  <tr>\n",
       "    <th>3</th>\n",
       "    <th>0.282071</th>\n",
       "    <th>0.243756</th>\n",
       "    <th>0.830394</th>\n",
       "    <th>0.913601</th>\n",
       "  </tr>\n",
       "  <tr>\n",
       "    <th>4</th>\n",
       "    <th>0.233013</th>\n",
       "    <th>0.244071</th>\n",
       "    <th>0.834999</th>\n",
       "    <th>0.917321</th>\n",
       "  </tr>\n",
       "  <tr>\n",
       "    <th>5</th>\n",
       "    <th>0.191804</th>\n",
       "    <th>0.249673</th>\n",
       "    <th>0.843211</th>\n",
       "    <th>0.919802</th>\n",
       "  </tr>\n",
       "</table>\n"
      ],
      "text/plain": [
       "<IPython.core.display.HTML object>"
      ]
     },
     "metadata": {},
     "output_type": "display_data"
    }
   ],
   "source": [
    "learn.freeze_to(-2)\n",
    "learn.fit_one_cycle(5, slice(1e-2/(2.6**4),1e-2), moms=(0.8,0.7))"
   ]
  },
  {
   "cell_type": "code",
   "execution_count": 59,
   "metadata": {},
   "outputs": [],
   "source": [
    "learn.save('final')"
   ]
  },
  {
   "cell_type": "code",
   "execution_count": 60,
   "metadata": {},
   "outputs": [
    {
     "data": {
      "text/plain": [
       "(Category state, tensor(2), tensor([0.0020, 0.0171, 0.9808]))"
      ]
     },
     "execution_count": 60,
     "metadata": {},
     "output_type": "execute_result"
    }
   ],
   "source": [
    "learn.predict('धक्कादायक! एक्स्प्रेसमध्ये महिला कोचच्या')"
   ]
  },
  {
   "cell_type": "code",
   "execution_count": 61,
   "metadata": {},
   "outputs": [
    {
     "data": {
      "text/plain": [
       "(Category state, tensor(2), tensor([0.0122, 0.0039, 0.9839]))"
      ]
     },
     "execution_count": 61,
     "metadata": {},
     "output_type": "execute_result"
    }
   ],
   "source": [
    "learn.predict(\"नरेंद्र मोदी गोव्याला रवाना, पर्रिकर यांच्या पार्थिवाचे अंत्यदर्शन घेणार\")"
   ]
  },
  {
   "cell_type": "code",
   "execution_count": 62,
   "metadata": {},
   "outputs": [
    {
     "data": {
      "text/plain": [
       "(Category entertainment,\n",
       " tensor(0),\n",
       " tensor([9.9969e-01, 2.5938e-04, 5.0702e-05]))"
      ]
     },
     "execution_count": 62,
     "metadata": {},
     "output_type": "execute_result"
    }
   ],
   "source": [
    "learn.predict(\"सलमान आणणार स्वत:चं चॅनेल?\")"
   ]
  },
  {
   "cell_type": "code",
   "execution_count": 63,
   "metadata": {},
   "outputs": [
    {
     "data": {
      "text/plain": [
       "(Category sports, tensor(1), tensor([4.1675e-03, 9.9582e-01, 1.3189e-05]))"
      ]
     },
     "execution_count": 63,
     "metadata": {},
     "output_type": "execute_result"
    }
   ],
   "source": [
    "learn.predict(\"धमा’केदार’! टीम इंडियासाठी केली ‘ही’ सर्वोत्तम कामगिरी\")"
   ]
  },
  {
   "cell_type": "code",
   "execution_count": null,
   "metadata": {},
   "outputs": [],
   "source": []
  }
 ],
 "metadata": {
  "kernelspec": {
   "display_name": "Python 3",
   "language": "python",
   "name": "python3"
  },
  "language_info": {
   "codemirror_mode": {
    "name": "ipython",
    "version": 3
   },
   "file_extension": ".py",
   "mimetype": "text/x-python",
   "name": "python",
   "nbconvert_exporter": "python",
   "pygments_lexer": "ipython3",
   "version": "3.6.7"
  }
 },
 "nbformat": 4,
 "nbformat_minor": 2
}
