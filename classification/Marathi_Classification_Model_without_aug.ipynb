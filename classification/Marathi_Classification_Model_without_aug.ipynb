{
 "cells": [
  {
   "cell_type": "code",
   "execution_count": 1,
   "metadata": {},
   "outputs": [],
   "source": [
    "from fastai.text import *\n",
    "import numpy as np\n",
    "from sklearn.model_selection import train_test_split\n",
    "import pickle\n",
    "import sentencepiece as spm\n",
    "import re\n",
    "import pdb"
   ]
  },
  {
   "cell_type": "code",
   "execution_count": 2,
   "metadata": {},
   "outputs": [
    {
     "data": {
      "text/plain": [
       "('1.0.57', '1.0.0')"
      ]
     },
     "execution_count": 2,
     "metadata": {},
     "output_type": "execute_result"
    }
   ],
   "source": [
    "import fastai, torch\n",
    "fastai.__version__ , torch.__version__"
   ]
  },
  {
   "cell_type": "code",
   "execution_count": 3,
   "metadata": {},
   "outputs": [],
   "source": [
    "torch.cuda.set_device(0)"
   ]
  },
  {
   "cell_type": "code",
   "execution_count": 4,
   "metadata": {},
   "outputs": [],
   "source": [
    "def random_seed(seed_value, use_cuda):\n",
    "    np.random.seed(seed_value)  \n",
    "    torch.manual_seed(seed_value)  \n",
    "    random.seed(seed_value)\n",
    "    if use_cuda:\n",
    "        torch.cuda.manual_seed(seed_value)\n",
    "        torch.cuda.manual_seed_all(seed_value)  \n",
    "        torch.backends.cudnn.deterministic = True\n",
    "        torch.backends.cudnn.benchmark = False"
   ]
  },
  {
   "cell_type": "code",
   "execution_count": 5,
   "metadata": {},
   "outputs": [],
   "source": [
    "random_seed(42, True)"
   ]
  },
  {
   "cell_type": "code",
   "execution_count": 6,
   "metadata": {},
   "outputs": [
    {
     "name": "stdout",
     "output_type": "stream",
     "text": [
      "/data/home/ubuntu/gaurav/in/nlp-for-marathi/classification\r\n"
     ]
    }
   ],
   "source": [
    "!pwd"
   ]
  },
  {
   "cell_type": "code",
   "execution_count": 7,
   "metadata": {},
   "outputs": [],
   "source": [
    "path = Path('./')"
   ]
  },
  {
   "cell_type": "code",
   "execution_count": 8,
   "metadata": {},
   "outputs": [
    {
     "data": {
      "text/html": [
       "<div>\n",
       "<style scoped>\n",
       "    .dataframe tbody tr th:only-of-type {\n",
       "        vertical-align: middle;\n",
       "    }\n",
       "\n",
       "    .dataframe tbody tr th {\n",
       "        vertical-align: top;\n",
       "    }\n",
       "\n",
       "    .dataframe thead th {\n",
       "        text-align: right;\n",
       "    }\n",
       "</style>\n",
       "<table border=\"1\" class=\"dataframe\">\n",
       "  <thead>\n",
       "    <tr style=\"text-align: right;\">\n",
       "      <th></th>\n",
       "      <th>0</th>\n",
       "      <th>1</th>\n",
       "    </tr>\n",
       "  </thead>\n",
       "  <tbody>\n",
       "    <tr>\n",
       "      <th>0</th>\n",
       "      <td>entertainment</td>\n",
       "      <td>…म्हणून सानिया मिर्झाची ड्यू डेट आहे खास</td>\n",
       "    </tr>\n",
       "    <tr>\n",
       "      <th>1</th>\n",
       "      <td>entertainment</td>\n",
       "      <td>Video : दीपिका-रणवीरच्या लग्नाचा मेन्यू झाला लीक!</td>\n",
       "    </tr>\n",
       "    <tr>\n",
       "      <th>2</th>\n",
       "      <td>sports</td>\n",
       "      <td>सचिनच्या रणजी कारकीर्दीचा शेवट गोड, मुंबईचा विजय</td>\n",
       "    </tr>\n",
       "    <tr>\n",
       "      <th>3</th>\n",
       "      <td>state</td>\n",
       "      <td>पुरंदरेंना महाराष्ट्र भूषण पुरस्काराविरोधात सं...</td>\n",
       "    </tr>\n",
       "    <tr>\n",
       "      <th>4</th>\n",
       "      <td>sports</td>\n",
       "      <td>जयपूर पोलिसांच्या जाहिरातीवर बुमराह संतापला, स...</td>\n",
       "    </tr>\n",
       "  </tbody>\n",
       "</table>\n",
       "</div>"
      ],
      "text/plain": [
       "               0                                                  1\n",
       "0  entertainment           …म्हणून सानिया मिर्झाची ड्यू डेट आहे खास\n",
       "1  entertainment  Video : दीपिका-रणवीरच्या लग्नाचा मेन्यू झाला लीक!\n",
       "2         sports   सचिनच्या रणजी कारकीर्दीचा शेवट गोड, मुंबईचा विजय\n",
       "3          state  पुरंदरेंना महाराष्ट्र भूषण पुरस्काराविरोधात सं...\n",
       "4         sports  जयपूर पोलिसांच्या जाहिरातीवर बुमराह संतापला, स..."
      ]
     },
     "execution_count": 8,
     "metadata": {},
     "output_type": "execute_result"
    }
   ],
   "source": [
    "df_train = pd.read_csv(path/'../../classification_public_datasets/inltk-headlines/mr/mr-train.csv', header=None)\n",
    "df_train.head()"
   ]
  },
  {
   "cell_type": "code",
   "execution_count": 9,
   "metadata": {},
   "outputs": [
    {
     "data": {
      "text/plain": [
       "Counter({'entertainment': 2660, 'sports': 984, 'state': 6028})"
      ]
     },
     "execution_count": 9,
     "metadata": {},
     "output_type": "execute_result"
    }
   ],
   "source": [
    "Counter(list(df_train[0]))"
   ]
  },
  {
   "cell_type": "code",
   "execution_count": 10,
   "metadata": {},
   "outputs": [
    {
     "data": {
      "text/html": [
       "<div>\n",
       "<style scoped>\n",
       "    .dataframe tbody tr th:only-of-type {\n",
       "        vertical-align: middle;\n",
       "    }\n",
       "\n",
       "    .dataframe tbody tr th {\n",
       "        vertical-align: top;\n",
       "    }\n",
       "\n",
       "    .dataframe thead th {\n",
       "        text-align: right;\n",
       "    }\n",
       "</style>\n",
       "<table border=\"1\" class=\"dataframe\">\n",
       "  <thead>\n",
       "    <tr style=\"text-align: right;\">\n",
       "      <th></th>\n",
       "      <th>0</th>\n",
       "      <th>1</th>\n",
       "    </tr>\n",
       "  </thead>\n",
       "  <tbody>\n",
       "    <tr>\n",
       "      <th>0</th>\n",
       "      <td>sports</td>\n",
       "      <td>CWG 2018 : संजिता चानूची सुवर्णभरारी, भारताच्य...</td>\n",
       "    </tr>\n",
       "    <tr>\n",
       "      <th>1</th>\n",
       "      <td>state</td>\n",
       "      <td>कर्मचार्‍यांच्या हलगर्जीपणामुळे होणार होते जिव...</td>\n",
       "    </tr>\n",
       "    <tr>\n",
       "      <th>2</th>\n",
       "      <td>sports</td>\n",
       "      <td>श्रीलंकेचा भारतावर 7 गडी राखून विजय</td>\n",
       "    </tr>\n",
       "    <tr>\n",
       "      <th>3</th>\n",
       "      <td>state</td>\n",
       "      <td>औरंगाबाद महापौरपदाचा तिढा अखेर सुटला</td>\n",
       "    </tr>\n",
       "    <tr>\n",
       "      <th>4</th>\n",
       "      <td>state</td>\n",
       "      <td>औरंगाबाद विद्यापीठाचा भोंगळ कारभार; गोदामात दि...</td>\n",
       "    </tr>\n",
       "  </tbody>\n",
       "</table>\n",
       "</div>"
      ],
      "text/plain": [
       "        0                                                  1\n",
       "0  sports  CWG 2018 : संजिता चानूची सुवर्णभरारी, भारताच्य...\n",
       "1   state  कर्मचार्‍यांच्या हलगर्जीपणामुळे होणार होते जिव...\n",
       "2  sports                श्रीलंकेचा भारतावर 7 गडी राखून विजय\n",
       "3   state               औरंगाबाद महापौरपदाचा तिढा अखेर सुटला\n",
       "4   state  औरंगाबाद विद्यापीठाचा भोंगळ कारभार; गोदामात दि..."
      ]
     },
     "execution_count": 10,
     "metadata": {},
     "output_type": "execute_result"
    }
   ],
   "source": [
    "df_valid = pd.read_csv(path/'../../classification_public_datasets/inltk-headlines/mr/mr-valid.csv', header=None)\n",
    "df_valid.head()"
   ]
  },
  {
   "cell_type": "code",
   "execution_count": 11,
   "metadata": {},
   "outputs": [
    {
     "data": {
      "text/html": [
       "<div>\n",
       "<style scoped>\n",
       "    .dataframe tbody tr th:only-of-type {\n",
       "        vertical-align: middle;\n",
       "    }\n",
       "\n",
       "    .dataframe tbody tr th {\n",
       "        vertical-align: top;\n",
       "    }\n",
       "\n",
       "    .dataframe thead th {\n",
       "        text-align: right;\n",
       "    }\n",
       "</style>\n",
       "<table border=\"1\" class=\"dataframe\">\n",
       "  <thead>\n",
       "    <tr style=\"text-align: right;\">\n",
       "      <th></th>\n",
       "      <th>0</th>\n",
       "      <th>1</th>\n",
       "    </tr>\n",
       "  </thead>\n",
       "  <tbody>\n",
       "    <tr>\n",
       "      <th>0</th>\n",
       "      <td>entertainment</td>\n",
       "      <td>काजोल पुन्हा माझ्या आयुष्यात येणार नाही - करण ...</td>\n",
       "    </tr>\n",
       "    <tr>\n",
       "      <th>1</th>\n",
       "      <td>entertainment</td>\n",
       "      <td>विराटला चीअर करण्यासाठी अनुष्का सिडनीत</td>\n",
       "    </tr>\n",
       "    <tr>\n",
       "      <th>2</th>\n",
       "      <td>entertainment</td>\n",
       "      <td>संतोषचा अड्डा!</td>\n",
       "    </tr>\n",
       "    <tr>\n",
       "      <th>3</th>\n",
       "      <td>state</td>\n",
       "      <td>मुरूड समुद्रात बुडालेल्या विद्यार्थ्याचा मृतदे...</td>\n",
       "    </tr>\n",
       "    <tr>\n",
       "      <th>4</th>\n",
       "      <td>state</td>\n",
       "      <td>गोव्यात शिवसेना वेलिंगकरांसोबत,लवकरच युतीची घोषणा</td>\n",
       "    </tr>\n",
       "  </tbody>\n",
       "</table>\n",
       "</div>"
      ],
      "text/plain": [
       "               0                                                  1\n",
       "0  entertainment  काजोल पुन्हा माझ्या आयुष्यात येणार नाही - करण ...\n",
       "1  entertainment             विराटला चीअर करण्यासाठी अनुष्का सिडनीत\n",
       "2  entertainment                                     संतोषचा अड्डा!\n",
       "3          state  मुरूड समुद्रात बुडालेल्या विद्यार्थ्याचा मृतदे...\n",
       "4          state  गोव्यात शिवसेना वेलिंगकरांसोबत,लवकरच युतीची घोषणा"
      ]
     },
     "execution_count": 11,
     "metadata": {},
     "output_type": "execute_result"
    }
   ],
   "source": [
    "df_test = pd.read_csv(path/'../../classification_public_datasets/inltk-headlines/mr/mr-test.csv', header=None)\n",
    "df_test.head()"
   ]
  },
  {
   "cell_type": "code",
   "execution_count": 12,
   "metadata": {},
   "outputs": [
    {
     "data": {
      "text/plain": [
       "((9672, 2), (1210, 2), (1210, 2))"
      ]
     },
     "execution_count": 12,
     "metadata": {},
     "output_type": "execute_result"
    }
   ],
   "source": [
    "df_train.shape, df_valid.shape, df_test.shape"
   ]
  },
  {
   "cell_type": "code",
   "execution_count": 13,
   "metadata": {},
   "outputs": [],
   "source": [
    "cutoff = int(0.05*len(df_train))"
   ]
  },
  {
   "cell_type": "code",
   "execution_count": 14,
   "metadata": {},
   "outputs": [
    {
     "data": {
      "text/plain": [
       "(483, 2)"
      ]
     },
     "execution_count": 14,
     "metadata": {},
     "output_type": "execute_result"
    }
   ],
   "source": [
    "df_train = pd.DataFrame({0: list(df_train[0])[:cutoff], 1: list(df_train[1])[:cutoff]})\n",
    "df_train.shape"
   ]
  },
  {
   "cell_type": "code",
   "execution_count": 15,
   "metadata": {},
   "outputs": [
    {
     "data": {
      "text/plain": [
       "Counter({'entertainment': 136, 'sports': 44, 'state': 303})"
      ]
     },
     "execution_count": 15,
     "metadata": {},
     "output_type": "execute_result"
    }
   ],
   "source": [
    "Counter(list(df_train[0]))"
   ]
  },
  {
   "cell_type": "code",
   "execution_count": 16,
   "metadata": {},
   "outputs": [
    {
     "data": {
      "text/plain": [
       "((0, 2), (0, 2), (0, 2))"
      ]
     },
     "execution_count": 16,
     "metadata": {},
     "output_type": "execute_result"
    }
   ],
   "source": [
    "df_train[df_train[0].isnull()].shape, df_valid[df_valid[0].isnull()].shape, df_test[df_test[0].isnull()].shape"
   ]
  },
  {
   "cell_type": "code",
   "execution_count": 17,
   "metadata": {},
   "outputs": [],
   "source": [
    "label_cols = [0]"
   ]
  },
  {
   "cell_type": "code",
   "execution_count": 18,
   "metadata": {},
   "outputs": [],
   "source": [
    "class MarathiTokenizer(BaseTokenizer):\n",
    "    def __init__(self, lang:str):\n",
    "        self.lang = lang\n",
    "        self.sp = spm.SentencePieceProcessor()\n",
    "        self.sp.Load(str('./../../models/marathi/tokenizer/marathi_lm.model'))\n",
    "        \n",
    "    def tokenizer(self, t:str) -> List[str]:\n",
    "        return self.sp.EncodeAsPieces(t)"
   ]
  },
  {
   "cell_type": "code",
   "execution_count": 19,
   "metadata": {},
   "outputs": [],
   "source": [
    "sp = spm.SentencePieceProcessor()\n",
    "sp.Load(str('./../../models/marathi/tokenizer/marathi_lm.model'))\n",
    "itos = [sp.IdToPiece(int(i)) for i in range(30000)]"
   ]
  },
  {
   "cell_type": "code",
   "execution_count": 20,
   "metadata": {},
   "outputs": [],
   "source": [
    "# 30,000 is the vocab size that we chose in sentencepiece\n",
    "marathi_vocab = Vocab(itos)"
   ]
  },
  {
   "cell_type": "code",
   "execution_count": 21,
   "metadata": {},
   "outputs": [],
   "source": [
    "tokenizer = Tokenizer(tok_func=MarathiTokenizer, lang='mr')"
   ]
  },
  {
   "cell_type": "code",
   "execution_count": 22,
   "metadata": {},
   "outputs": [
    {
     "data": {
      "text/plain": [
       "['xxunk',\n",
       " 'xxpad',\n",
       " 'xxbos',\n",
       " 'xxeos',\n",
       " 'xxfld',\n",
       " 'xxmaj',\n",
       " 'xxup',\n",
       " 'xxrep',\n",
       " 'xxwrep']"
      ]
     },
     "execution_count": 22,
     "metadata": {},
     "output_type": "execute_result"
    }
   ],
   "source": [
    "tokenizer.special_cases"
   ]
  },
  {
   "cell_type": "code",
   "execution_count": 23,
   "metadata": {},
   "outputs": [
    {
     "data": {
      "text/html": [],
      "text/plain": [
       "<IPython.core.display.HTML object>"
      ]
     },
     "metadata": {},
     "output_type": "display_data"
    },
    {
     "data": {
      "text/html": [],
      "text/plain": [
       "<IPython.core.display.HTML object>"
      ]
     },
     "metadata": {},
     "output_type": "display_data"
    },
    {
     "data": {
      "text/html": [],
      "text/plain": [
       "<IPython.core.display.HTML object>"
      ]
     },
     "metadata": {},
     "output_type": "display_data"
    }
   ],
   "source": [
    "data_lm = TextLMDataBunch.from_df(path=path, train_df=df_train, valid_df=df_valid, test_df=df_test, tokenizer=tokenizer, vocab=marathi_vocab)"
   ]
  },
  {
   "cell_type": "code",
   "execution_count": 24,
   "metadata": {},
   "outputs": [
    {
     "data": {
      "text/html": [
       "<table border=\"1\" class=\"dataframe\">\n",
       "  <thead>\n",
       "    <tr style=\"text-align: right;\">\n",
       "      <th>idx</th>\n",
       "      <th>text</th>\n",
       "    </tr>\n",
       "  </thead>\n",
       "  <tbody>\n",
       "    <tr>\n",
       "      <td>0</td>\n",
       "      <td>▁पोलिस ांच्या ▁जाहिराती वर ▁बु म राह ▁संताप ला , ▁सु ना वले ▁खडे बोल ▁x x bo s ▁संतप्त ▁ग्रामस्थ ांनी ▁राष्ट्रवादी ▁आमदार ाच्या ▁दिशे नं ▁भिरकाव ल्या ▁पाण्याने ▁भरलेल्या ▁घागरी ▁x x bo s &lt;unk&gt; &lt;unk&gt; p e c i &lt;unk&gt; al &lt;unk&gt; ▁r e p &lt;unk&gt; or t ▁: ▁लातूर मध्ये ▁का ▁करावा ▁लागतो य ▁विद्यार्थ्यांना ▁एसटी ने ▁लटक ून ▁प्रवास ? ▁x x bo s ▁यश</td>\n",
       "    </tr>\n",
       "    <tr>\n",
       "      <td>1</td>\n",
       "      <td>▁x x bo s ▁लातूर मध्ये ▁पावसा चा ▁हा हा कार , ▁मन ्या ड ▁नदीच्या ▁ पुरात ▁नागरिक ▁अडकले ▁x x bo s ▁जळगाव , ▁सांगली त ▁55 ▁टक्के ▁मतदान , ▁दोन ▁' दादा ं ' चं ▁वर्चस्व ▁पण ाला ▁x x bo s ▁क्रिकेटपटू ▁मोहम्मद ▁शमी च्या ▁पत्नी ने ▁केला ▁काँग्रेस मध्ये ▁प्रवेश ▁x x bo s ▁ह निम ून ला ▁निघाले ल्या ▁दाम्पत्य ावर ▁पसर णी ▁घाटात</td>\n",
       "    </tr>\n",
       "    <tr>\n",
       "      <td>2</td>\n",
       "      <td>ंच्या ▁विरोधात ▁अ ब्रु ▁नुकसान ी चा ▁दावा ▁x x bo s ▁हा ॅल ि वूड ▁बा ॅल ि वूड ▁ &lt;unk&gt; ▁14 ▁जानेवारी ▁17 ▁) ▁x x bo s &lt;unk&gt; &lt;unk&gt; ▁g am es ▁2018 : ▁डबल ▁ध मा का , ▁जॉन सन ▁आणि ▁महिला ▁टीम ने ▁पटकावले ▁दोन ▁सुवर्णपदक ▁x x bo s ▁औरंगाबाद मध्ये ▁विद्यार्थ्यांना ▁ओलांड ावा ▁लागतो ▁‘ मृत्यू ’ चा ▁ट्रॅक ▁x x bo s</td>\n",
       "    </tr>\n",
       "    <tr>\n",
       "      <td>3</td>\n",
       "      <td>▁मोदी ंच्या ▁भूमिके ची ▁आॅफ र ▁x x bo s ▁औरंगाबादेत ▁आंदोलन ाला ▁हिंसक ▁वळण , ▁आं दो लक ांकडून ▁दगड फे क ▁x x bo s ▁सांगली ची ▁' चा ंग ली ' ▁मुलगी ▁स्मृती ची ▁क्रिकेट ▁कहाणी ▁x x bo s ▁पुणे ▁इंटरनॅशनल ▁फिल्म ▁फेस्टिव्हल ला ▁दि मा ख ात ▁सुरुवात ▁x x bo s ▁परभणी त ▁मराठा ▁समाजाचा ▁भव्य ▁मूक ▁मोर्चा ▁x x bo s ▁3 ▁चेहरे</td>\n",
       "    </tr>\n",
       "    <tr>\n",
       "      <td>4</td>\n",
       "      <td>s ▁ &lt;unk&gt; ▁ba by m ir za m al ik ▁: ▁सान िया - शो ए ब च्या ▁घरी ▁आला ▁नवा ▁पा हु णा ▁x x bo s &lt;unk&gt; rth day &lt;unk&gt; c ial ▁: ▁... म्हणून ▁संजय ▁दत्त ला ▁त्रि शाला चा ▁ताबा ▁मिळाला ▁नव्हता ▁x x bo s ▁आंबे न ळी ▁बस ▁अपघात ापूर्वी ▁दोन वेळा ▁ड्रायव्हर ▁बदलले , ▁दापोली ▁विद्यापीठाचा ▁अहवाल ▁x x bo s ▁कपिल</td>\n",
       "    </tr>\n",
       "  </tbody>\n",
       "</table>"
      ],
      "text/plain": [
       "<IPython.core.display.HTML object>"
      ]
     },
     "metadata": {},
     "output_type": "display_data"
    }
   ],
   "source": [
    "data_lm.show_batch()"
   ]
  },
  {
   "cell_type": "code",
   "execution_count": 25,
   "metadata": {},
   "outputs": [],
   "source": [
    "awd_lstm_config = awd_lstm_lm_config.copy()\n",
    "awd_lstm_config['n_hid'] = 1150\n",
    "learn = language_model_learner(data_lm, arch=AWD_LSTM, drop_mult=0.3, config=awd_lstm_config, pretrained=False)"
   ]
  },
  {
   "cell_type": "code",
   "execution_count": 26,
   "metadata": {
    "scrolled": true
   },
   "outputs": [
    {
     "data": {
      "text/plain": [
       "LanguageLearner(data=TextLMDataBunch;\n",
       "\n",
       "Train: LabelList (483 items)\n",
       "x: LMTextList\n",
       "▁x x bo s ▁... म्हणून ▁सान िया ▁मिर्झा ची ▁ड्यू ▁डे ट ▁आहे ▁खास,▁x x bo s <unk> ▁v ide o ▁: ▁दीपिका - रण वीर च्या ▁लग्न ाचा ▁मे न्यू ▁झाला ▁ली क !,▁x x bo s ▁सचिन च्या ▁रणजी ▁कारकीर्दी चा ▁शेवट ▁गोड , ▁मुंबई चा ▁विजय,▁x x bo s ▁पुरंदरे ंना ▁महाराष्ट्र ▁भूषण ▁पुरस्कार ाविरोधात ▁संभाजी ▁ब्रिगेड ▁रस्त्यावर,▁x x bo s ▁जयपूर ▁पोलिस ांच्या ▁जाहिराती वर ▁बु म राह ▁संताप ला , ▁सु ना वले ▁खडे बोल\n",
       "y: LMLabelList\n",
       ",,,,\n",
       "Path: .;\n",
       "\n",
       "Valid: LabelList (1210 items)\n",
       "x: LMTextList\n",
       "▁x x bo s <unk> ▁c w g ▁2018 ▁: ▁सं जित ा ▁ चा नू ची ▁सुवर्ण भर ारी , ▁भारताच्या ▁खात्यात ▁दुसरे ▁सुवर्ण ▁!,▁x x bo s ▁कर्मचार् ▁यांच्या ▁हल ग र्ज ी पणामुळे ▁होणार ▁होते ▁जिवंत ▁बाळ ावर ▁अंत्यसंस्कार,▁x x bo s ▁श्रीलंकेचा ▁भारतावर ▁7 ▁गडी ▁राखून ▁विजय,▁x x bo s ▁औरंगाबाद ▁महापौर पदाचा ▁ति ढा ▁अखेर ▁सुट ला,▁x x bo s ▁औरंगाबाद ▁विद्यापीठाचा ▁भो ंग ळ ▁कारभार ; ▁गोदाम ात ▁दिले ▁विद्यार्थ्यांनी ▁पेपर\n",
       "y: LMLabelList\n",
       ",,,,\n",
       "Path: .;\n",
       "\n",
       "Test: LabelList (1210 items)\n",
       "x: LMTextList\n",
       "▁x x bo s ▁काजोल ▁पुन्हा ▁माझ्या ▁आयुष्यात ▁येणार ▁नाही ▁- ▁करण ▁जोहर,▁x x bo s ▁विराट ला ▁ ची अर ▁करण्यासाठी ▁अ नुष्का ▁सिडनी त,▁x x bo s ▁संतोष चा ▁अ ड्डा !,▁x x bo s ▁मुरूड ▁समुद्रात ▁बुडाले ल्या ▁विद्यार्थ्या चा ▁मृतदेह ▁सापडला,▁x x bo s ▁गोव्यात ▁शिवसेना ▁वे लिंग कर ांसोबत , ल व कर च ▁युती ची ▁घोषणा\n",
       "y: EmptyLabelList\n",
       ",,,,\n",
       "Path: ., model=SequentialRNN(\n",
       "  (0): AWD_LSTM(\n",
       "    (encoder): Embedding(30000, 400, padding_idx=1)\n",
       "    (encoder_dp): EmbeddingDropout(\n",
       "      (emb): Embedding(30000, 400, padding_idx=1)\n",
       "    )\n",
       "    (rnns): ModuleList(\n",
       "      (0): WeightDropout(\n",
       "        (module): LSTM(400, 1150, batch_first=True)\n",
       "      )\n",
       "      (1): WeightDropout(\n",
       "        (module): LSTM(1150, 1150, batch_first=True)\n",
       "      )\n",
       "      (2): WeightDropout(\n",
       "        (module): LSTM(1150, 400, batch_first=True)\n",
       "      )\n",
       "    )\n",
       "    (input_dp): RNNDropout()\n",
       "    (hidden_dps): ModuleList(\n",
       "      (0): RNNDropout()\n",
       "      (1): RNNDropout()\n",
       "      (2): RNNDropout()\n",
       "    )\n",
       "  )\n",
       "  (1): LinearDecoder(\n",
       "    (decoder): Linear(in_features=400, out_features=30000, bias=True)\n",
       "    (output_dp): RNNDropout()\n",
       "  )\n",
       "), opt_func=functools.partial(<class 'torch.optim.adam.Adam'>, betas=(0.9, 0.99)), loss_func=FlattenedLoss of CrossEntropyLoss(), metrics=[<function accuracy at 0x7ff3f59a0c80>], true_wd=True, bn_wd=True, wd=0.01, train_bn=True, path=PosixPath('.'), model_dir='models', callback_fns=[functools.partial(<class 'fastai.basic_train.Recorder'>, add_time=True, silent=False)], callbacks=[RNNTrainer\n",
       "learn: LanguageLearner(data=TextLMDataBunch;\n",
       "\n",
       "Train: LabelList (483 items)\n",
       "x: LMTextList\n",
       "▁x x bo s ▁... म्हणून ▁सान िया ▁मिर्झा ची ▁ड्यू ▁डे ट ▁आहे ▁खास,▁x x bo s <unk> ▁v ide o ▁: ▁दीपिका - रण वीर च्या ▁लग्न ाचा ▁मे न्यू ▁झाला ▁ली क !,▁x x bo s ▁सचिन च्या ▁रणजी ▁कारकीर्दी चा ▁शेवट ▁गोड , ▁मुंबई चा ▁विजय,▁x x bo s ▁पुरंदरे ंना ▁महाराष्ट्र ▁भूषण ▁पुरस्कार ाविरोधात ▁संभाजी ▁ब्रिगेड ▁रस्त्यावर,▁x x bo s ▁जयपूर ▁पोलिस ांच्या ▁जाहिराती वर ▁बु म राह ▁संताप ला , ▁सु ना वले ▁खडे बोल\n",
       "y: LMLabelList\n",
       ",,,,\n",
       "Path: .;\n",
       "\n",
       "Valid: LabelList (1210 items)\n",
       "x: LMTextList\n",
       "▁x x bo s <unk> ▁c w g ▁2018 ▁: ▁सं जित ा ▁ चा नू ची ▁सुवर्ण भर ारी , ▁भारताच्या ▁खात्यात ▁दुसरे ▁सुवर्ण ▁!,▁x x bo s ▁कर्मचार् ▁यांच्या ▁हल ग र्ज ी पणामुळे ▁होणार ▁होते ▁जिवंत ▁बाळ ावर ▁अंत्यसंस्कार,▁x x bo s ▁श्रीलंकेचा ▁भारतावर ▁7 ▁गडी ▁राखून ▁विजय,▁x x bo s ▁औरंगाबाद ▁महापौर पदाचा ▁ति ढा ▁अखेर ▁सुट ला,▁x x bo s ▁औरंगाबाद ▁विद्यापीठाचा ▁भो ंग ळ ▁कारभार ; ▁गोदाम ात ▁दिले ▁विद्यार्थ्यांनी ▁पेपर\n",
       "y: LMLabelList\n",
       ",,,,\n",
       "Path: .;\n",
       "\n",
       "Test: LabelList (1210 items)\n",
       "x: LMTextList\n",
       "▁x x bo s ▁काजोल ▁पुन्हा ▁माझ्या ▁आयुष्यात ▁येणार ▁नाही ▁- ▁करण ▁जोहर,▁x x bo s ▁विराट ला ▁ ची अर ▁करण्यासाठी ▁अ नुष्का ▁सिडनी त,▁x x bo s ▁संतोष चा ▁अ ड्डा !,▁x x bo s ▁मुरूड ▁समुद्रात ▁बुडाले ल्या ▁विद्यार्थ्या चा ▁मृतदेह ▁सापडला,▁x x bo s ▁गोव्यात ▁शिवसेना ▁वे लिंग कर ांसोबत , ल व कर च ▁युती ची ▁घोषणा\n",
       "y: EmptyLabelList\n",
       ",,,,\n",
       "Path: ., model=SequentialRNN(\n",
       "  (0): AWD_LSTM(\n",
       "    (encoder): Embedding(30000, 400, padding_idx=1)\n",
       "    (encoder_dp): EmbeddingDropout(\n",
       "      (emb): Embedding(30000, 400, padding_idx=1)\n",
       "    )\n",
       "    (rnns): ModuleList(\n",
       "      (0): WeightDropout(\n",
       "        (module): LSTM(400, 1150, batch_first=True)\n",
       "      )\n",
       "      (1): WeightDropout(\n",
       "        (module): LSTM(1150, 1150, batch_first=True)\n",
       "      )\n",
       "      (2): WeightDropout(\n",
       "        (module): LSTM(1150, 400, batch_first=True)\n",
       "      )\n",
       "    )\n",
       "    (input_dp): RNNDropout()\n",
       "    (hidden_dps): ModuleList(\n",
       "      (0): RNNDropout()\n",
       "      (1): RNNDropout()\n",
       "      (2): RNNDropout()\n",
       "    )\n",
       "  )\n",
       "  (1): LinearDecoder(\n",
       "    (decoder): Linear(in_features=400, out_features=30000, bias=True)\n",
       "    (output_dp): RNNDropout()\n",
       "  )\n",
       "), opt_func=functools.partial(<class 'torch.optim.adam.Adam'>, betas=(0.9, 0.99)), loss_func=FlattenedLoss of CrossEntropyLoss(), metrics=[<function accuracy at 0x7ff3f59a0c80>], true_wd=True, bn_wd=True, wd=0.01, train_bn=True, path=PosixPath('.'), model_dir='models', callback_fns=[functools.partial(<class 'fastai.basic_train.Recorder'>, add_time=True, silent=False)], callbacks=[...], layer_groups=[Sequential(\n",
       "  (0): WeightDropout(\n",
       "    (module): LSTM(400, 1150, batch_first=True)\n",
       "  )\n",
       "  (1): RNNDropout()\n",
       "), Sequential(\n",
       "  (0): WeightDropout(\n",
       "    (module): LSTM(1150, 1150, batch_first=True)\n",
       "  )\n",
       "  (1): RNNDropout()\n",
       "), Sequential(\n",
       "  (0): WeightDropout(\n",
       "    (module): LSTM(1150, 400, batch_first=True)\n",
       "  )\n",
       "  (1): RNNDropout()\n",
       "), Sequential(\n",
       "  (0): Embedding(30000, 400, padding_idx=1)\n",
       "  (1): EmbeddingDropout(\n",
       "    (emb): Embedding(30000, 400, padding_idx=1)\n",
       "  )\n",
       "  (2): LinearDecoder(\n",
       "    (decoder): Linear(in_features=400, out_features=30000, bias=True)\n",
       "    (output_dp): RNNDropout()\n",
       "  )\n",
       ")], add_time=True, silent=False, cb_fns_registered=False)\n",
       "alpha: 2.0\n",
       "beta: 1.0], layer_groups=[Sequential(\n",
       "  (0): WeightDropout(\n",
       "    (module): LSTM(400, 1150, batch_first=True)\n",
       "  )\n",
       "  (1): RNNDropout()\n",
       "), Sequential(\n",
       "  (0): WeightDropout(\n",
       "    (module): LSTM(1150, 1150, batch_first=True)\n",
       "  )\n",
       "  (1): RNNDropout()\n",
       "), Sequential(\n",
       "  (0): WeightDropout(\n",
       "    (module): LSTM(1150, 400, batch_first=True)\n",
       "  )\n",
       "  (1): RNNDropout()\n",
       "), Sequential(\n",
       "  (0): Embedding(30000, 400, padding_idx=1)\n",
       "  (1): EmbeddingDropout(\n",
       "    (emb): Embedding(30000, 400, padding_idx=1)\n",
       "  )\n",
       "  (2): LinearDecoder(\n",
       "    (decoder): Linear(in_features=400, out_features=30000, bias=True)\n",
       "    (output_dp): RNNDropout()\n",
       "  )\n",
       ")], add_time=True, silent=False, cb_fns_registered=False)"
      ]
     },
     "execution_count": 26,
     "metadata": {},
     "output_type": "execute_result"
    }
   ],
   "source": [
    "# Loading the pretrained language model on kannada wikipedia\n",
    "learn.load('../../../models/marathi/lm/ULMFiT/fourth_mr_lm', with_opt=True)"
   ]
  },
  {
   "cell_type": "code",
   "execution_count": 27,
   "metadata": {},
   "outputs": [],
   "source": [
    "learn.freeze()"
   ]
  },
  {
   "cell_type": "code",
   "execution_count": 28,
   "metadata": {},
   "outputs": [
    {
     "data": {
      "text/html": [
       "<table border=\"1\" class=\"dataframe\">\n",
       "  <thead>\n",
       "    <tr style=\"text-align: left;\">\n",
       "      <th>epoch</th>\n",
       "      <th>train_loss</th>\n",
       "      <th>valid_loss</th>\n",
       "      <th>accuracy</th>\n",
       "      <th>time</th>\n",
       "    </tr>\n",
       "  </thead>\n",
       "  <tbody>\n",
       "    <tr>\n",
       "      <td>0</td>\n",
       "      <td>6.366039</td>\n",
       "      <td>6.188520</td>\n",
       "      <td>0.239018</td>\n",
       "      <td>00:00</td>\n",
       "    </tr>\n",
       "  </tbody>\n",
       "</table>"
      ],
      "text/plain": [
       "<IPython.core.display.HTML object>"
      ]
     },
     "metadata": {},
     "output_type": "display_data"
    }
   ],
   "source": [
    "learn.fit_one_cycle(1, 1e-2)"
   ]
  },
  {
   "cell_type": "code",
   "execution_count": 29,
   "metadata": {},
   "outputs": [],
   "source": [
    "learn.unfreeze()"
   ]
  },
  {
   "cell_type": "code",
   "execution_count": 30,
   "metadata": {},
   "outputs": [
    {
     "data": {
      "text/html": [
       "<table border=\"1\" class=\"dataframe\">\n",
       "  <thead>\n",
       "    <tr style=\"text-align: left;\">\n",
       "      <th>epoch</th>\n",
       "      <th>train_loss</th>\n",
       "      <th>valid_loss</th>\n",
       "      <th>accuracy</th>\n",
       "      <th>time</th>\n",
       "    </tr>\n",
       "  </thead>\n",
       "  <tbody>\n",
       "    <tr>\n",
       "      <td>0</td>\n",
       "      <td>6.115070</td>\n",
       "      <td>6.134318</td>\n",
       "      <td>0.240625</td>\n",
       "      <td>00:00</td>\n",
       "    </tr>\n",
       "    <tr>\n",
       "      <td>1</td>\n",
       "      <td>6.037318</td>\n",
       "      <td>5.921357</td>\n",
       "      <td>0.251964</td>\n",
       "      <td>00:00</td>\n",
       "    </tr>\n",
       "    <tr>\n",
       "      <td>2</td>\n",
       "      <td>5.908377</td>\n",
       "      <td>5.735169</td>\n",
       "      <td>0.257545</td>\n",
       "      <td>00:00</td>\n",
       "    </tr>\n",
       "    <tr>\n",
       "      <td>3</td>\n",
       "      <td>5.769440</td>\n",
       "      <td>5.628993</td>\n",
       "      <td>0.260357</td>\n",
       "      <td>00:00</td>\n",
       "    </tr>\n",
       "    <tr>\n",
       "      <td>4</td>\n",
       "      <td>5.657105</td>\n",
       "      <td>5.600702</td>\n",
       "      <td>0.261607</td>\n",
       "      <td>00:00</td>\n",
       "    </tr>\n",
       "  </tbody>\n",
       "</table>"
      ],
      "text/plain": [
       "<IPython.core.display.HTML object>"
      ]
     },
     "metadata": {},
     "output_type": "display_data"
    }
   ],
   "source": [
    "learn.fit_one_cycle(5, 1e-3)"
   ]
  },
  {
   "cell_type": "code",
   "execution_count": 31,
   "metadata": {},
   "outputs": [
    {
     "data": {
      "text/plain": [
       "'सीमा भागातील मराठी ▁लोक ▁- ▁x x bo s ▁कृष्णराव ▁सदाशिव ▁कांबळे ▁ऊर्फ'"
      ]
     },
     "execution_count": 31,
     "metadata": {},
     "output_type": "execute_result"
    }
   ],
   "source": [
    "learn.predict('सीमा भागातील मराठी',n_words=10)"
   ]
  },
  {
   "cell_type": "code",
   "execution_count": 32,
   "metadata": {},
   "outputs": [],
   "source": [
    "learn.save_encoder('fine_tuned_enc')"
   ]
  },
  {
   "cell_type": "code",
   "execution_count": 33,
   "metadata": {},
   "outputs": [
    {
     "data": {
      "text/html": [],
      "text/plain": [
       "<IPython.core.display.HTML object>"
      ]
     },
     "metadata": {},
     "output_type": "display_data"
    },
    {
     "data": {
      "text/html": [],
      "text/plain": [
       "<IPython.core.display.HTML object>"
      ]
     },
     "metadata": {},
     "output_type": "display_data"
    },
    {
     "data": {
      "text/html": [],
      "text/plain": [
       "<IPython.core.display.HTML object>"
      ]
     },
     "metadata": {},
     "output_type": "display_data"
    }
   ],
   "source": [
    "data_clas = TextClasDataBunch.from_df(path=path, train_df=df_train, valid_df=df_valid, test_df=df_test, tokenizer=tokenizer, vocab=marathi_vocab, label_cols=label_cols, bs=64)"
   ]
  },
  {
   "cell_type": "code",
   "execution_count": 34,
   "metadata": {},
   "outputs": [
    {
     "data": {
      "text/html": [
       "<table border=\"1\" class=\"dataframe\">\n",
       "  <thead>\n",
       "    <tr style=\"text-align: right;\">\n",
       "      <th>text</th>\n",
       "      <th>target</th>\n",
       "    </tr>\n",
       "  </thead>\n",
       "  <tbody>\n",
       "    <tr>\n",
       "      <td>▁x x bo s &lt;unk&gt; ▁l o k ▁ &lt;unk&gt; sa b &lt;unk&gt; ha &lt;unk&gt; ▁e l e c t i o n s ▁20 19 &lt;unk&gt; ▁d &lt;unk&gt; at e : ▁बारामती ▁मतदारसंघ ामध्ये ▁कधी ▁होणार ▁मतदान ?</td>\n",
       "      <td>state</td>\n",
       "    </tr>\n",
       "    <tr>\n",
       "      <td>▁x x bo s &lt;unk&gt; ▁v &lt;unk&gt; id e o &lt;unk&gt; ▁j &lt;unk&gt; ac k i e &lt;unk&gt; &lt;unk&gt; h &lt;unk&gt; ro o f ▁: ▁... ▁म्हणून ▁जॅक ी ▁श्रॉफ ▁लखनऊ त ▁झाला ▁ ट्रॅ फ िक ▁हवालदार</td>\n",
       "      <td>entertainment</td>\n",
       "    </tr>\n",
       "    <tr>\n",
       "      <td>▁x x bo s &lt;unk&gt; ▁v &lt;unk&gt; id e o ▁: ▁एक ता ▁कपूर च्या ▁' ग ंदी ▁ब ात ▁2 ' च्या ▁ट्रे लर मध्ये ▁से क्स ▁आणि ▁बोल ्ड ▁सी न्स चा ▁भ डी मार</td>\n",
       "      <td>entertainment</td>\n",
       "    </tr>\n",
       "    <tr>\n",
       "      <td>▁x x bo s &lt;unk&gt; ▁b ig &lt;unk&gt; ss ▁12 ▁: ▁ज स लीन नं ▁सगळ्या ं समोर ▁केलं ▁अनुप ▁ज लोट ांना ▁कि स , &lt;unk&gt; ▁v &lt;unk&gt; id e o ▁व्हाय रल</td>\n",
       "      <td>entertainment</td>\n",
       "    </tr>\n",
       "    <tr>\n",
       "      <td>▁x x bo s &lt;unk&gt; &lt;unk&gt; p e c i &lt;unk&gt; al &lt;unk&gt; ▁r e p &lt;unk&gt; or t ▁: ▁लातूर मध्ये ▁का ▁करावा ▁लागतो य ▁विद्यार्थ्यांना ▁एसटी ने ▁लटक ून ▁प्रवास ?</td>\n",
       "      <td>state</td>\n",
       "    </tr>\n",
       "  </tbody>\n",
       "</table>"
      ],
      "text/plain": [
       "<IPython.core.display.HTML object>"
      ]
     },
     "metadata": {},
     "output_type": "display_data"
    }
   ],
   "source": [
    "data_clas.show_batch()"
   ]
  },
  {
   "cell_type": "code",
   "execution_count": 35,
   "metadata": {},
   "outputs": [],
   "source": [
    "del awd_lstm_config['tie_weights']\n",
    "del awd_lstm_config['out_bias']"
   ]
  },
  {
   "cell_type": "code",
   "execution_count": 36,
   "metadata": {},
   "outputs": [],
   "source": [
    "learn = text_classifier_learner(data_clas, arch=AWD_LSTM, drop_mult=0.5, config=awd_lstm_config)"
   ]
  },
  {
   "cell_type": "code",
   "execution_count": 37,
   "metadata": {
    "scrolled": true
   },
   "outputs": [
    {
     "data": {
      "text/plain": [
       "RNNLearner(data=TextClasDataBunch;\n",
       "\n",
       "Train: LabelList (483 items)\n",
       "x: TextList\n",
       "▁x x bo s ▁... म्हणून ▁सान िया ▁मिर्झा ची ▁ड्यू ▁डे ट ▁आहे ▁खास,▁x x bo s <unk> ▁v ide o ▁: ▁दीपिका - रण वीर च्या ▁लग्न ाचा ▁मे न्यू ▁झाला ▁ली क !,▁x x bo s ▁सचिन च्या ▁रणजी ▁कारकीर्दी चा ▁शेवट ▁गोड , ▁मुंबई चा ▁विजय,▁x x bo s ▁पुरंदरे ंना ▁महाराष्ट्र ▁भूषण ▁पुरस्कार ाविरोधात ▁संभाजी ▁ब्रिगेड ▁रस्त्यावर,▁x x bo s ▁जयपूर ▁पोलिस ांच्या ▁जाहिराती वर ▁बु म राह ▁संताप ला , ▁सु ना वले ▁खडे बोल\n",
       "y: CategoryList\n",
       "entertainment,entertainment,sports,state,sports\n",
       "Path: .;\n",
       "\n",
       "Valid: LabelList (1210 items)\n",
       "x: TextList\n",
       "▁x x bo s <unk> ▁c w g ▁2018 ▁: ▁सं जित ा ▁ चा नू ची ▁सुवर्ण भर ारी , ▁भारताच्या ▁खात्यात ▁दुसरे ▁सुवर्ण ▁!,▁x x bo s ▁कर्मचार् ▁यांच्या ▁हल ग र्ज ी पणामुळे ▁होणार ▁होते ▁जिवंत ▁बाळ ावर ▁अंत्यसंस्कार,▁x x bo s ▁श्रीलंकेचा ▁भारतावर ▁7 ▁गडी ▁राखून ▁विजय,▁x x bo s ▁औरंगाबाद ▁महापौर पदाचा ▁ति ढा ▁अखेर ▁सुट ला,▁x x bo s ▁औरंगाबाद ▁विद्यापीठाचा ▁भो ंग ळ ▁कारभार ; ▁गोदाम ात ▁दिले ▁विद्यार्थ्यांनी ▁पेपर\n",
       "y: CategoryList\n",
       "sports,state,sports,state,state\n",
       "Path: .;\n",
       "\n",
       "Test: LabelList (1210 items)\n",
       "x: TextList\n",
       "▁x x bo s ▁काजोल ▁पुन्हा ▁माझ्या ▁आयुष्यात ▁येणार ▁नाही ▁- ▁करण ▁जोहर,▁x x bo s ▁विराट ला ▁ ची अर ▁करण्यासाठी ▁अ नुष्का ▁सिडनी त,▁x x bo s ▁संतोष चा ▁अ ड्डा !,▁x x bo s ▁मुरूड ▁समुद्रात ▁बुडाले ल्या ▁विद्यार्थ्या चा ▁मृतदेह ▁सापडला,▁x x bo s ▁गोव्यात ▁शिवसेना ▁वे लिंग कर ांसोबत , ल व कर च ▁युती ची ▁घोषणा\n",
       "y: EmptyLabelList\n",
       ",,,,\n",
       "Path: ., model=SequentialRNN(\n",
       "  (0): MultiBatchEncoder(\n",
       "    (module): AWD_LSTM(\n",
       "      (encoder): Embedding(30000, 400, padding_idx=1)\n",
       "      (encoder_dp): EmbeddingDropout(\n",
       "        (emb): Embedding(30000, 400, padding_idx=1)\n",
       "      )\n",
       "      (rnns): ModuleList(\n",
       "        (0): WeightDropout(\n",
       "          (module): LSTM(400, 1150, batch_first=True)\n",
       "        )\n",
       "        (1): WeightDropout(\n",
       "          (module): LSTM(1150, 1150, batch_first=True)\n",
       "        )\n",
       "        (2): WeightDropout(\n",
       "          (module): LSTM(1150, 400, batch_first=True)\n",
       "        )\n",
       "      )\n",
       "      (input_dp): RNNDropout()\n",
       "      (hidden_dps): ModuleList(\n",
       "        (0): RNNDropout()\n",
       "        (1): RNNDropout()\n",
       "        (2): RNNDropout()\n",
       "      )\n",
       "    )\n",
       "  )\n",
       "  (1): PoolingLinearClassifier(\n",
       "    (layers): Sequential(\n",
       "      (0): BatchNorm1d(1200, eps=1e-05, momentum=0.1, affine=True, track_running_stats=True)\n",
       "      (1): Dropout(p=0.05)\n",
       "      (2): Linear(in_features=1200, out_features=50, bias=True)\n",
       "      (3): ReLU(inplace)\n",
       "      (4): BatchNorm1d(50, eps=1e-05, momentum=0.1, affine=True, track_running_stats=True)\n",
       "      (5): Dropout(p=0.1)\n",
       "      (6): Linear(in_features=50, out_features=3, bias=True)\n",
       "    )\n",
       "  )\n",
       "), opt_func=functools.partial(<class 'torch.optim.adam.Adam'>, betas=(0.9, 0.99)), loss_func=FlattenedLoss of CrossEntropyLoss(), metrics=[<function accuracy at 0x7ff3f59a0c80>], true_wd=True, bn_wd=True, wd=0.01, train_bn=True, path=PosixPath('.'), model_dir='models', callback_fns=[functools.partial(<class 'fastai.basic_train.Recorder'>, add_time=True, silent=False)], callbacks=[RNNTrainer\n",
       "learn: RNNLearner(data=TextClasDataBunch;\n",
       "\n",
       "Train: LabelList (483 items)\n",
       "x: TextList\n",
       "▁x x bo s ▁... म्हणून ▁सान िया ▁मिर्झा ची ▁ड्यू ▁डे ट ▁आहे ▁खास,▁x x bo s <unk> ▁v ide o ▁: ▁दीपिका - रण वीर च्या ▁लग्न ाचा ▁मे न्यू ▁झाला ▁ली क !,▁x x bo s ▁सचिन च्या ▁रणजी ▁कारकीर्दी चा ▁शेवट ▁गोड , ▁मुंबई चा ▁विजय,▁x x bo s ▁पुरंदरे ंना ▁महाराष्ट्र ▁भूषण ▁पुरस्कार ाविरोधात ▁संभाजी ▁ब्रिगेड ▁रस्त्यावर,▁x x bo s ▁जयपूर ▁पोलिस ांच्या ▁जाहिराती वर ▁बु म राह ▁संताप ला , ▁सु ना वले ▁खडे बोल\n",
       "y: CategoryList\n",
       "entertainment,entertainment,sports,state,sports\n",
       "Path: .;\n",
       "\n",
       "Valid: LabelList (1210 items)\n",
       "x: TextList\n",
       "▁x x bo s <unk> ▁c w g ▁2018 ▁: ▁सं जित ा ▁ चा नू ची ▁सुवर्ण भर ारी , ▁भारताच्या ▁खात्यात ▁दुसरे ▁सुवर्ण ▁!,▁x x bo s ▁कर्मचार् ▁यांच्या ▁हल ग र्ज ी पणामुळे ▁होणार ▁होते ▁जिवंत ▁बाळ ावर ▁अंत्यसंस्कार,▁x x bo s ▁श्रीलंकेचा ▁भारतावर ▁7 ▁गडी ▁राखून ▁विजय,▁x x bo s ▁औरंगाबाद ▁महापौर पदाचा ▁ति ढा ▁अखेर ▁सुट ला,▁x x bo s ▁औरंगाबाद ▁विद्यापीठाचा ▁भो ंग ळ ▁कारभार ; ▁गोदाम ात ▁दिले ▁विद्यार्थ्यांनी ▁पेपर\n",
       "y: CategoryList\n",
       "sports,state,sports,state,state\n",
       "Path: .;\n",
       "\n",
       "Test: LabelList (1210 items)\n",
       "x: TextList\n",
       "▁x x bo s ▁काजोल ▁पुन्हा ▁माझ्या ▁आयुष्यात ▁येणार ▁नाही ▁- ▁करण ▁जोहर,▁x x bo s ▁विराट ला ▁ ची अर ▁करण्यासाठी ▁अ नुष्का ▁सिडनी त,▁x x bo s ▁संतोष चा ▁अ ड्डा !,▁x x bo s ▁मुरूड ▁समुद्रात ▁बुडाले ल्या ▁विद्यार्थ्या चा ▁मृतदेह ▁सापडला,▁x x bo s ▁गोव्यात ▁शिवसेना ▁वे लिंग कर ांसोबत , ल व कर च ▁युती ची ▁घोषणा\n",
       "y: EmptyLabelList\n",
       ",,,,\n",
       "Path: ., model=SequentialRNN(\n",
       "  (0): MultiBatchEncoder(\n",
       "    (module): AWD_LSTM(\n",
       "      (encoder): Embedding(30000, 400, padding_idx=1)\n",
       "      (encoder_dp): EmbeddingDropout(\n",
       "        (emb): Embedding(30000, 400, padding_idx=1)\n",
       "      )\n",
       "      (rnns): ModuleList(\n",
       "        (0): WeightDropout(\n",
       "          (module): LSTM(400, 1150, batch_first=True)\n",
       "        )\n",
       "        (1): WeightDropout(\n",
       "          (module): LSTM(1150, 1150, batch_first=True)\n",
       "        )\n",
       "        (2): WeightDropout(\n",
       "          (module): LSTM(1150, 400, batch_first=True)\n",
       "        )\n",
       "      )\n",
       "      (input_dp): RNNDropout()\n",
       "      (hidden_dps): ModuleList(\n",
       "        (0): RNNDropout()\n",
       "        (1): RNNDropout()\n",
       "        (2): RNNDropout()\n",
       "      )\n",
       "    )\n",
       "  )\n",
       "  (1): PoolingLinearClassifier(\n",
       "    (layers): Sequential(\n",
       "      (0): BatchNorm1d(1200, eps=1e-05, momentum=0.1, affine=True, track_running_stats=True)\n",
       "      (1): Dropout(p=0.05)\n",
       "      (2): Linear(in_features=1200, out_features=50, bias=True)\n",
       "      (3): ReLU(inplace)\n",
       "      (4): BatchNorm1d(50, eps=1e-05, momentum=0.1, affine=True, track_running_stats=True)\n",
       "      (5): Dropout(p=0.1)\n",
       "      (6): Linear(in_features=50, out_features=3, bias=True)\n",
       "    )\n",
       "  )\n",
       "), opt_func=functools.partial(<class 'torch.optim.adam.Adam'>, betas=(0.9, 0.99)), loss_func=FlattenedLoss of CrossEntropyLoss(), metrics=[<function accuracy at 0x7ff3f59a0c80>], true_wd=True, bn_wd=True, wd=0.01, train_bn=True, path=PosixPath('.'), model_dir='models', callback_fns=[functools.partial(<class 'fastai.basic_train.Recorder'>, add_time=True, silent=False)], callbacks=[...], layer_groups=[Sequential(\n",
       "  (0): Embedding(30000, 400, padding_idx=1)\n",
       "  (1): EmbeddingDropout(\n",
       "    (emb): Embedding(30000, 400, padding_idx=1)\n",
       "  )\n",
       "), Sequential(\n",
       "  (0): WeightDropout(\n",
       "    (module): LSTM(400, 1150, batch_first=True)\n",
       "  )\n",
       "  (1): RNNDropout()\n",
       "), Sequential(\n",
       "  (0): WeightDropout(\n",
       "    (module): LSTM(1150, 1150, batch_first=True)\n",
       "  )\n",
       "  (1): RNNDropout()\n",
       "), Sequential(\n",
       "  (0): WeightDropout(\n",
       "    (module): LSTM(1150, 400, batch_first=True)\n",
       "  )\n",
       "  (1): RNNDropout()\n",
       "), Sequential(\n",
       "  (0): PoolingLinearClassifier(\n",
       "    (layers): Sequential(\n",
       "      (0): BatchNorm1d(1200, eps=1e-05, momentum=0.1, affine=True, track_running_stats=True)\n",
       "      (1): Dropout(p=0.05)\n",
       "      (2): Linear(in_features=1200, out_features=50, bias=True)\n",
       "      (3): ReLU(inplace)\n",
       "      (4): BatchNorm1d(50, eps=1e-05, momentum=0.1, affine=True, track_running_stats=True)\n",
       "      (5): Dropout(p=0.1)\n",
       "      (6): Linear(in_features=50, out_features=3, bias=True)\n",
       "    )\n",
       "  )\n",
       ")], add_time=True, silent=False, cb_fns_registered=False)\n",
       "alpha: 2.0\n",
       "beta: 1.0], layer_groups=[Sequential(\n",
       "  (0): Embedding(30000, 400, padding_idx=1)\n",
       "  (1): EmbeddingDropout(\n",
       "    (emb): Embedding(30000, 400, padding_idx=1)\n",
       "  )\n",
       "), Sequential(\n",
       "  (0): WeightDropout(\n",
       "    (module): LSTM(400, 1150, batch_first=True)\n",
       "  )\n",
       "  (1): RNNDropout()\n",
       "), Sequential(\n",
       "  (0): WeightDropout(\n",
       "    (module): LSTM(1150, 1150, batch_first=True)\n",
       "  )\n",
       "  (1): RNNDropout()\n",
       "), Sequential(\n",
       "  (0): WeightDropout(\n",
       "    (module): LSTM(1150, 400, batch_first=True)\n",
       "  )\n",
       "  (1): RNNDropout()\n",
       "), Sequential(\n",
       "  (0): PoolingLinearClassifier(\n",
       "    (layers): Sequential(\n",
       "      (0): BatchNorm1d(1200, eps=1e-05, momentum=0.1, affine=True, track_running_stats=True)\n",
       "      (1): Dropout(p=0.05)\n",
       "      (2): Linear(in_features=1200, out_features=50, bias=True)\n",
       "      (3): ReLU(inplace)\n",
       "      (4): BatchNorm1d(50, eps=1e-05, momentum=0.1, affine=True, track_running_stats=True)\n",
       "      (5): Dropout(p=0.1)\n",
       "      (6): Linear(in_features=50, out_features=3, bias=True)\n",
       "    )\n",
       "  )\n",
       ")], add_time=True, silent=False, cb_fns_registered=False)"
      ]
     },
     "execution_count": 37,
     "metadata": {},
     "output_type": "execute_result"
    }
   ],
   "source": [
    "learn.load_encoder('fine_tuned_enc')"
   ]
  },
  {
   "cell_type": "code",
   "execution_count": 38,
   "metadata": {},
   "outputs": [],
   "source": [
    "learn.freeze()"
   ]
  },
  {
   "cell_type": "code",
   "execution_count": 39,
   "metadata": {},
   "outputs": [
    {
     "data": {
      "text/plain": [
       "CrossEntropyLoss()"
      ]
     },
     "execution_count": 39,
     "metadata": {},
     "output_type": "execute_result"
    }
   ],
   "source": [
    "learn.loss_func.func"
   ]
  },
  {
   "cell_type": "code",
   "execution_count": 40,
   "metadata": {},
   "outputs": [],
   "source": [
    "mcc = MatthewsCorreff()"
   ]
  },
  {
   "cell_type": "code",
   "execution_count": 41,
   "metadata": {},
   "outputs": [],
   "source": [
    "learn.metrics = [mcc, accuracy]"
   ]
  },
  {
   "cell_type": "code",
   "execution_count": 42,
   "metadata": {},
   "outputs": [
    {
     "data": {
      "text/html": [
       "<table border=\"1\" class=\"dataframe\">\n",
       "  <thead>\n",
       "    <tr style=\"text-align: left;\">\n",
       "      <th>epoch</th>\n",
       "      <th>train_loss</th>\n",
       "      <th>valid_loss</th>\n",
       "      <th>matthews_correff</th>\n",
       "      <th>accuracy</th>\n",
       "      <th>time</th>\n",
       "    </tr>\n",
       "  </thead>\n",
       "  <tbody>\n",
       "    <tr>\n",
       "      <td>0</td>\n",
       "      <td>0.884162</td>\n",
       "      <td>0.914558</td>\n",
       "      <td>0.531952</td>\n",
       "      <td>0.771074</td>\n",
       "      <td>00:01</td>\n",
       "    </tr>\n",
       "  </tbody>\n",
       "</table>"
      ],
      "text/plain": [
       "<IPython.core.display.HTML object>"
      ]
     },
     "metadata": {},
     "output_type": "display_data"
    }
   ],
   "source": [
    "learn.fit_one_cycle(1, 1e-2)"
   ]
  },
  {
   "cell_type": "code",
   "execution_count": 43,
   "metadata": {},
   "outputs": [
    {
     "data": {
      "text/html": [
       "<table border=\"1\" class=\"dataframe\">\n",
       "  <thead>\n",
       "    <tr style=\"text-align: left;\">\n",
       "      <th>epoch</th>\n",
       "      <th>train_loss</th>\n",
       "      <th>valid_loss</th>\n",
       "      <th>matthews_correff</th>\n",
       "      <th>accuracy</th>\n",
       "      <th>time</th>\n",
       "    </tr>\n",
       "  </thead>\n",
       "  <tbody>\n",
       "    <tr>\n",
       "      <td>0</td>\n",
       "      <td>0.609857</td>\n",
       "      <td>0.708457</td>\n",
       "      <td>0.421737</td>\n",
       "      <td>0.721488</td>\n",
       "      <td>00:01</td>\n",
       "    </tr>\n",
       "  </tbody>\n",
       "</table>"
      ],
      "text/plain": [
       "<IPython.core.display.HTML object>"
      ]
     },
     "metadata": {},
     "output_type": "display_data"
    }
   ],
   "source": [
    "learn.freeze_to(-2)\n",
    "learn.fit_one_cycle(1, 1e-2)"
   ]
  },
  {
   "cell_type": "code",
   "execution_count": 44,
   "metadata": {},
   "outputs": [],
   "source": [
    "learn.save('second-full')"
   ]
  },
  {
   "cell_type": "code",
   "execution_count": 45,
   "metadata": {},
   "outputs": [
    {
     "data": {
      "text/html": [
       "<table border=\"1\" class=\"dataframe\">\n",
       "  <thead>\n",
       "    <tr style=\"text-align: left;\">\n",
       "      <th>epoch</th>\n",
       "      <th>train_loss</th>\n",
       "      <th>valid_loss</th>\n",
       "      <th>matthews_correff</th>\n",
       "      <th>accuracy</th>\n",
       "      <th>time</th>\n",
       "    </tr>\n",
       "  </thead>\n",
       "  <tbody>\n",
       "    <tr>\n",
       "      <td>0</td>\n",
       "      <td>0.396776</td>\n",
       "      <td>0.656278</td>\n",
       "      <td>0.538668</td>\n",
       "      <td>0.776033</td>\n",
       "      <td>00:01</td>\n",
       "    </tr>\n",
       "    <tr>\n",
       "      <td>1</td>\n",
       "      <td>0.353313</td>\n",
       "      <td>0.581845</td>\n",
       "      <td>0.611269</td>\n",
       "      <td>0.809091</td>\n",
       "      <td>00:01</td>\n",
       "    </tr>\n",
       "    <tr>\n",
       "      <td>2</td>\n",
       "      <td>0.313213</td>\n",
       "      <td>0.521000</td>\n",
       "      <td>0.677116</td>\n",
       "      <td>0.838843</td>\n",
       "      <td>00:01</td>\n",
       "    </tr>\n",
       "    <tr>\n",
       "      <td>3</td>\n",
       "      <td>0.272686</td>\n",
       "      <td>0.487775</td>\n",
       "      <td>0.683356</td>\n",
       "      <td>0.841322</td>\n",
       "      <td>00:01</td>\n",
       "    </tr>\n",
       "    <tr>\n",
       "      <td>4</td>\n",
       "      <td>0.248146</td>\n",
       "      <td>0.476638</td>\n",
       "      <td>0.688048</td>\n",
       "      <td>0.842149</td>\n",
       "      <td>00:01</td>\n",
       "    </tr>\n",
       "  </tbody>\n",
       "</table>"
      ],
      "text/plain": [
       "<IPython.core.display.HTML object>"
      ]
     },
     "metadata": {},
     "output_type": "display_data"
    },
    {
     "name": "stdout",
     "output_type": "stream",
     "text": [
      "Better model found at epoch 0 with accuracy value: 0.7760330438613892.\n",
      "Better model found at epoch 1 with accuracy value: 0.8090909123420715.\n",
      "Better model found at epoch 2 with accuracy value: 0.8388429880142212.\n",
      "Better model found at epoch 3 with accuracy value: 0.8413223028182983.\n",
      "Better model found at epoch 4 with accuracy value: 0.8421487808227539.\n"
     ]
    }
   ],
   "source": [
    "learn.unfreeze()\n",
    "learn.fit_one_cycle(5, 1e-3, callbacks=[callbacks.SaveModelCallback(learn, every='improvement', monitor='accuracy', name='final')])"
   ]
  },
  {
   "cell_type": "code",
   "execution_count": 46,
   "metadata": {},
   "outputs": [
    {
     "data": {
      "text/plain": [
       "RNNLearner(data=TextClasDataBunch;\n",
       "\n",
       "Train: LabelList (483 items)\n",
       "x: TextList\n",
       "▁x x bo s ▁... म्हणून ▁सान िया ▁मिर्झा ची ▁ड्यू ▁डे ट ▁आहे ▁खास,▁x x bo s <unk> ▁v ide o ▁: ▁दीपिका - रण वीर च्या ▁लग्न ाचा ▁मे न्यू ▁झाला ▁ली क !,▁x x bo s ▁सचिन च्या ▁रणजी ▁कारकीर्दी चा ▁शेवट ▁गोड , ▁मुंबई चा ▁विजय,▁x x bo s ▁पुरंदरे ंना ▁महाराष्ट्र ▁भूषण ▁पुरस्कार ाविरोधात ▁संभाजी ▁ब्रिगेड ▁रस्त्यावर,▁x x bo s ▁जयपूर ▁पोलिस ांच्या ▁जाहिराती वर ▁बु म राह ▁संताप ला , ▁सु ना वले ▁खडे बोल\n",
       "y: CategoryList\n",
       "entertainment,entertainment,sports,state,sports\n",
       "Path: .;\n",
       "\n",
       "Valid: LabelList (1210 items)\n",
       "x: TextList\n",
       "▁x x bo s <unk> ▁c w g ▁2018 ▁: ▁सं जित ा ▁ चा नू ची ▁सुवर्ण भर ारी , ▁भारताच्या ▁खात्यात ▁दुसरे ▁सुवर्ण ▁!,▁x x bo s ▁कर्मचार् ▁यांच्या ▁हल ग र्ज ी पणामुळे ▁होणार ▁होते ▁जिवंत ▁बाळ ावर ▁अंत्यसंस्कार,▁x x bo s ▁श्रीलंकेचा ▁भारतावर ▁7 ▁गडी ▁राखून ▁विजय,▁x x bo s ▁औरंगाबाद ▁महापौर पदाचा ▁ति ढा ▁अखेर ▁सुट ला,▁x x bo s ▁औरंगाबाद ▁विद्यापीठाचा ▁भो ंग ळ ▁कारभार ; ▁गोदाम ात ▁दिले ▁विद्यार्थ्यांनी ▁पेपर\n",
       "y: CategoryList\n",
       "sports,state,sports,state,state\n",
       "Path: .;\n",
       "\n",
       "Test: LabelList (1210 items)\n",
       "x: TextList\n",
       "▁x x bo s ▁काजोल ▁पुन्हा ▁माझ्या ▁आयुष्यात ▁येणार ▁नाही ▁- ▁करण ▁जोहर,▁x x bo s ▁विराट ला ▁ ची अर ▁करण्यासाठी ▁अ नुष्का ▁सिडनी त,▁x x bo s ▁संतोष चा ▁अ ड्डा !,▁x x bo s ▁मुरूड ▁समुद्रात ▁बुडाले ल्या ▁विद्यार्थ्या चा ▁मृतदेह ▁सापडला,▁x x bo s ▁गोव्यात ▁शिवसेना ▁वे लिंग कर ांसोबत , ल व कर च ▁युती ची ▁घोषणा\n",
       "y: EmptyLabelList\n",
       ",,,,\n",
       "Path: ., model=SequentialRNN(\n",
       "  (0): MultiBatchEncoder(\n",
       "    (module): AWD_LSTM(\n",
       "      (encoder): Embedding(30000, 400, padding_idx=1)\n",
       "      (encoder_dp): EmbeddingDropout(\n",
       "        (emb): Embedding(30000, 400, padding_idx=1)\n",
       "      )\n",
       "      (rnns): ModuleList(\n",
       "        (0): WeightDropout(\n",
       "          (module): LSTM(400, 1150, batch_first=True)\n",
       "        )\n",
       "        (1): WeightDropout(\n",
       "          (module): LSTM(1150, 1150, batch_first=True)\n",
       "        )\n",
       "        (2): WeightDropout(\n",
       "          (module): LSTM(1150, 400, batch_first=True)\n",
       "        )\n",
       "      )\n",
       "      (input_dp): RNNDropout()\n",
       "      (hidden_dps): ModuleList(\n",
       "        (0): RNNDropout()\n",
       "        (1): RNNDropout()\n",
       "        (2): RNNDropout()\n",
       "      )\n",
       "    )\n",
       "  )\n",
       "  (1): PoolingLinearClassifier(\n",
       "    (layers): Sequential(\n",
       "      (0): BatchNorm1d(1200, eps=1e-05, momentum=0.1, affine=True, track_running_stats=True)\n",
       "      (1): Dropout(p=0.05)\n",
       "      (2): Linear(in_features=1200, out_features=50, bias=True)\n",
       "      (3): ReLU(inplace)\n",
       "      (4): BatchNorm1d(50, eps=1e-05, momentum=0.1, affine=True, track_running_stats=True)\n",
       "      (5): Dropout(p=0.1)\n",
       "      (6): Linear(in_features=50, out_features=3, bias=True)\n",
       "    )\n",
       "  )\n",
       "), opt_func=functools.partial(<class 'torch.optim.adam.Adam'>, betas=(0.9, 0.99)), loss_func=FlattenedLoss of CrossEntropyLoss(), metrics=[MatthewsCorreff(), <function accuracy at 0x7ff3f59a0c80>], true_wd=True, bn_wd=True, wd=0.01, train_bn=True, path=PosixPath('.'), model_dir='models', callback_fns=[functools.partial(<class 'fastai.basic_train.Recorder'>, add_time=True, silent=False)], callbacks=[RNNTrainer\n",
       "learn: RNNLearner(data=TextClasDataBunch;\n",
       "\n",
       "Train: LabelList (483 items)\n",
       "x: TextList\n",
       "▁x x bo s ▁... म्हणून ▁सान िया ▁मिर्झा ची ▁ड्यू ▁डे ट ▁आहे ▁खास,▁x x bo s <unk> ▁v ide o ▁: ▁दीपिका - रण वीर च्या ▁लग्न ाचा ▁मे न्यू ▁झाला ▁ली क !,▁x x bo s ▁सचिन च्या ▁रणजी ▁कारकीर्दी चा ▁शेवट ▁गोड , ▁मुंबई चा ▁विजय,▁x x bo s ▁पुरंदरे ंना ▁महाराष्ट्र ▁भूषण ▁पुरस्कार ाविरोधात ▁संभाजी ▁ब्रिगेड ▁रस्त्यावर,▁x x bo s ▁जयपूर ▁पोलिस ांच्या ▁जाहिराती वर ▁बु म राह ▁संताप ला , ▁सु ना वले ▁खडे बोल\n",
       "y: CategoryList\n",
       "entertainment,entertainment,sports,state,sports\n",
       "Path: .;\n",
       "\n",
       "Valid: LabelList (1210 items)\n",
       "x: TextList\n",
       "▁x x bo s <unk> ▁c w g ▁2018 ▁: ▁सं जित ा ▁ चा नू ची ▁सुवर्ण भर ारी , ▁भारताच्या ▁खात्यात ▁दुसरे ▁सुवर्ण ▁!,▁x x bo s ▁कर्मचार् ▁यांच्या ▁हल ग र्ज ी पणामुळे ▁होणार ▁होते ▁जिवंत ▁बाळ ावर ▁अंत्यसंस्कार,▁x x bo s ▁श्रीलंकेचा ▁भारतावर ▁7 ▁गडी ▁राखून ▁विजय,▁x x bo s ▁औरंगाबाद ▁महापौर पदाचा ▁ति ढा ▁अखेर ▁सुट ला,▁x x bo s ▁औरंगाबाद ▁विद्यापीठाचा ▁भो ंग ळ ▁कारभार ; ▁गोदाम ात ▁दिले ▁विद्यार्थ्यांनी ▁पेपर\n",
       "y: CategoryList\n",
       "sports,state,sports,state,state\n",
       "Path: .;\n",
       "\n",
       "Test: LabelList (1210 items)\n",
       "x: TextList\n",
       "▁x x bo s ▁काजोल ▁पुन्हा ▁माझ्या ▁आयुष्यात ▁येणार ▁नाही ▁- ▁करण ▁जोहर,▁x x bo s ▁विराट ला ▁ ची अर ▁करण्यासाठी ▁अ नुष्का ▁सिडनी त,▁x x bo s ▁संतोष चा ▁अ ड्डा !,▁x x bo s ▁मुरूड ▁समुद्रात ▁बुडाले ल्या ▁विद्यार्थ्या चा ▁मृतदेह ▁सापडला,▁x x bo s ▁गोव्यात ▁शिवसेना ▁वे लिंग कर ांसोबत , ल व कर च ▁युती ची ▁घोषणा\n",
       "y: EmptyLabelList\n",
       ",,,,\n",
       "Path: ., model=SequentialRNN(\n",
       "  (0): MultiBatchEncoder(\n",
       "    (module): AWD_LSTM(\n",
       "      (encoder): Embedding(30000, 400, padding_idx=1)\n",
       "      (encoder_dp): EmbeddingDropout(\n",
       "        (emb): Embedding(30000, 400, padding_idx=1)\n",
       "      )\n",
       "      (rnns): ModuleList(\n",
       "        (0): WeightDropout(\n",
       "          (module): LSTM(400, 1150, batch_first=True)\n",
       "        )\n",
       "        (1): WeightDropout(\n",
       "          (module): LSTM(1150, 1150, batch_first=True)\n",
       "        )\n",
       "        (2): WeightDropout(\n",
       "          (module): LSTM(1150, 400, batch_first=True)\n",
       "        )\n",
       "      )\n",
       "      (input_dp): RNNDropout()\n",
       "      (hidden_dps): ModuleList(\n",
       "        (0): RNNDropout()\n",
       "        (1): RNNDropout()\n",
       "        (2): RNNDropout()\n",
       "      )\n",
       "    )\n",
       "  )\n",
       "  (1): PoolingLinearClassifier(\n",
       "    (layers): Sequential(\n",
       "      (0): BatchNorm1d(1200, eps=1e-05, momentum=0.1, affine=True, track_running_stats=True)\n",
       "      (1): Dropout(p=0.05)\n",
       "      (2): Linear(in_features=1200, out_features=50, bias=True)\n",
       "      (3): ReLU(inplace)\n",
       "      (4): BatchNorm1d(50, eps=1e-05, momentum=0.1, affine=True, track_running_stats=True)\n",
       "      (5): Dropout(p=0.1)\n",
       "      (6): Linear(in_features=50, out_features=3, bias=True)\n",
       "    )\n",
       "  )\n",
       "), opt_func=functools.partial(<class 'torch.optim.adam.Adam'>, betas=(0.9, 0.99)), loss_func=FlattenedLoss of CrossEntropyLoss(), metrics=[MatthewsCorreff(), <function accuracy at 0x7ff3f59a0c80>], true_wd=True, bn_wd=True, wd=0.01, train_bn=True, path=PosixPath('.'), model_dir='models', callback_fns=[functools.partial(<class 'fastai.basic_train.Recorder'>, add_time=True, silent=False)], callbacks=[...], layer_groups=[Sequential(\n",
       "  (0): Embedding(30000, 400, padding_idx=1)\n",
       "  (1): EmbeddingDropout(\n",
       "    (emb): Embedding(30000, 400, padding_idx=1)\n",
       "  )\n",
       "), Sequential(\n",
       "  (0): WeightDropout(\n",
       "    (module): LSTM(400, 1150, batch_first=True)\n",
       "  )\n",
       "  (1): RNNDropout()\n",
       "), Sequential(\n",
       "  (0): WeightDropout(\n",
       "    (module): LSTM(1150, 1150, batch_first=True)\n",
       "  )\n",
       "  (1): RNNDropout()\n",
       "), Sequential(\n",
       "  (0): WeightDropout(\n",
       "    (module): LSTM(1150, 400, batch_first=True)\n",
       "  )\n",
       "  (1): RNNDropout()\n",
       "), Sequential(\n",
       "  (0): PoolingLinearClassifier(\n",
       "    (layers): Sequential(\n",
       "      (0): BatchNorm1d(1200, eps=1e-05, momentum=0.1, affine=True, track_running_stats=True)\n",
       "      (1): Dropout(p=0.05)\n",
       "      (2): Linear(in_features=1200, out_features=50, bias=True)\n",
       "      (3): ReLU(inplace)\n",
       "      (4): BatchNorm1d(50, eps=1e-05, momentum=0.1, affine=True, track_running_stats=True)\n",
       "      (5): Dropout(p=0.1)\n",
       "      (6): Linear(in_features=50, out_features=3, bias=True)\n",
       "    )\n",
       "  )\n",
       ")], add_time=True, silent=False, cb_fns_registered=True)\n",
       "alpha: 2.0\n",
       "beta: 1.0], layer_groups=[Sequential(\n",
       "  (0): Embedding(30000, 400, padding_idx=1)\n",
       "  (1): EmbeddingDropout(\n",
       "    (emb): Embedding(30000, 400, padding_idx=1)\n",
       "  )\n",
       "), Sequential(\n",
       "  (0): WeightDropout(\n",
       "    (module): LSTM(400, 1150, batch_first=True)\n",
       "  )\n",
       "  (1): RNNDropout()\n",
       "), Sequential(\n",
       "  (0): WeightDropout(\n",
       "    (module): LSTM(1150, 1150, batch_first=True)\n",
       "  )\n",
       "  (1): RNNDropout()\n",
       "), Sequential(\n",
       "  (0): WeightDropout(\n",
       "    (module): LSTM(1150, 400, batch_first=True)\n",
       "  )\n",
       "  (1): RNNDropout()\n",
       "), Sequential(\n",
       "  (0): PoolingLinearClassifier(\n",
       "    (layers): Sequential(\n",
       "      (0): BatchNorm1d(1200, eps=1e-05, momentum=0.1, affine=True, track_running_stats=True)\n",
       "      (1): Dropout(p=0.05)\n",
       "      (2): Linear(in_features=1200, out_features=50, bias=True)\n",
       "      (3): ReLU(inplace)\n",
       "      (4): BatchNorm1d(50, eps=1e-05, momentum=0.1, affine=True, track_running_stats=True)\n",
       "      (5): Dropout(p=0.1)\n",
       "      (6): Linear(in_features=50, out_features=3, bias=True)\n",
       "    )\n",
       "  )\n",
       ")], add_time=True, silent=False, cb_fns_registered=True)"
      ]
     },
     "execution_count": 46,
     "metadata": {},
     "output_type": "execute_result"
    }
   ],
   "source": [
    "learn.load('final')"
   ]
  },
  {
   "cell_type": "code",
   "execution_count": 47,
   "metadata": {},
   "outputs": [
    {
     "data": {
      "text/html": [],
      "text/plain": [
       "<IPython.core.display.HTML object>"
      ]
     },
     "metadata": {},
     "output_type": "display_data"
    },
    {
     "data": {
      "text/html": [
       "<div>\n",
       "<style scoped>\n",
       "    .dataframe tbody tr th:only-of-type {\n",
       "        vertical-align: middle;\n",
       "    }\n",
       "\n",
       "    .dataframe tbody tr th {\n",
       "        vertical-align: top;\n",
       "    }\n",
       "\n",
       "    .dataframe thead th {\n",
       "        text-align: right;\n",
       "    }\n",
       "</style>\n",
       "<table border=\"1\" class=\"dataframe\">\n",
       "  <thead>\n",
       "    <tr style=\"text-align: right;\">\n",
       "      <th></th>\n",
       "      <th>query</th>\n",
       "      <th>actual_label</th>\n",
       "      <th>predicted_label</th>\n",
       "      <th>entertainment</th>\n",
       "      <th>state</th>\n",
       "      <th>sports</th>\n",
       "    </tr>\n",
       "  </thead>\n",
       "  <tbody>\n",
       "    <tr>\n",
       "      <th>0</th>\n",
       "      <td>काजोल पुन्हा माझ्या आयुष्यात येणार नाही - करण ...</td>\n",
       "      <td>entertainment</td>\n",
       "      <td>entertainment</td>\n",
       "      <td>0.874742</td>\n",
       "      <td>0.00781917</td>\n",
       "      <td>0.117439</td>\n",
       "    </tr>\n",
       "    <tr>\n",
       "      <th>1</th>\n",
       "      <td>विराटला चीअर करण्यासाठी अनुष्का सिडनीत</td>\n",
       "      <td>entertainment</td>\n",
       "      <td>entertainment</td>\n",
       "      <td>0.708299</td>\n",
       "      <td>0.0280678</td>\n",
       "      <td>0.263633</td>\n",
       "    </tr>\n",
       "    <tr>\n",
       "      <th>2</th>\n",
       "      <td>संतोषचा अड्डा!</td>\n",
       "      <td>entertainment</td>\n",
       "      <td>entertainment</td>\n",
       "      <td>0.586619</td>\n",
       "      <td>0.24664</td>\n",
       "      <td>0.16674</td>\n",
       "    </tr>\n",
       "    <tr>\n",
       "      <th>3</th>\n",
       "      <td>मुरूड समुद्रात बुडालेल्या विद्यार्थ्याचा मृतदे...</td>\n",
       "      <td>state</td>\n",
       "      <td>state</td>\n",
       "      <td>0.0206947</td>\n",
       "      <td>0.931092</td>\n",
       "      <td>0.0482134</td>\n",
       "    </tr>\n",
       "    <tr>\n",
       "      <th>4</th>\n",
       "      <td>गोव्यात शिवसेना वेलिंगकरांसोबत,लवकरच युतीची घोषणा</td>\n",
       "      <td>state</td>\n",
       "      <td>state</td>\n",
       "      <td>0.0466533</td>\n",
       "      <td>0.871906</td>\n",
       "      <td>0.0814407</td>\n",
       "    </tr>\n",
       "  </tbody>\n",
       "</table>\n",
       "</div>"
      ],
      "text/plain": [
       "                                               query   actual_label  \\\n",
       "0  काजोल पुन्हा माझ्या आयुष्यात येणार नाही - करण ...  entertainment   \n",
       "1             विराटला चीअर करण्यासाठी अनुष्का सिडनीत  entertainment   \n",
       "2                                     संतोषचा अड्डा!  entertainment   \n",
       "3  मुरूड समुद्रात बुडालेल्या विद्यार्थ्याचा मृतदे...          state   \n",
       "4  गोव्यात शिवसेना वेलिंगकरांसोबत,लवकरच युतीची घोषणा          state   \n",
       "\n",
       "  predicted_label entertainment       state     sports  \n",
       "0   entertainment      0.874742  0.00781917   0.117439  \n",
       "1   entertainment      0.708299   0.0280678   0.263633  \n",
       "2   entertainment      0.586619     0.24664    0.16674  \n",
       "3           state     0.0206947    0.931092  0.0482134  \n",
       "4           state     0.0466533    0.871906  0.0814407  "
      ]
     },
     "execution_count": 47,
     "metadata": {},
     "output_type": "execute_result"
    }
   ],
   "source": [
    "from sklearn.metrics import accuracy_score, matthews_corrcoef\n",
    "df_dict = {'query': list(df_test[1]), 'actual_label': list(df_test[0]), 'predicted_label': ['']*df_test.shape[0]}\n",
    "all_nodes = list(set(df_train[0]))\n",
    "for node in all_nodes:\n",
    "    df_dict[node] = ['']*df_test.shape[0]\n",
    "    \n",
    "i2c = {}\n",
    "for key, value in learn.data.c2i.items():\n",
    "    i2c[value] = key\n",
    "    \n",
    "df_result = pd.DataFrame(df_dict)\n",
    "preds = learn.get_preds(ds_type=DatasetType.Test, ordered=True)\n",
    "for index, row in df_result.iterrows():\n",
    "    for node in all_nodes:\n",
    "        row[node] = preds[0][index][learn.data.c2i[node]].item()\n",
    "    row['predicted_label'] = i2c[np.argmax(preds[0][index]).data.item()]\n",
    "df_result.head()"
   ]
  },
  {
   "cell_type": "code",
   "execution_count": 48,
   "metadata": {},
   "outputs": [
    {
     "data": {
      "text/plain": [
       "0.8413223140495868"
      ]
     },
     "execution_count": 48,
     "metadata": {},
     "output_type": "execute_result"
    }
   ],
   "source": [
    "accuracy_score(df_result['actual_label'], df_result['predicted_label'])"
   ]
  },
  {
   "cell_type": "code",
   "execution_count": 49,
   "metadata": {},
   "outputs": [
    {
     "data": {
      "text/plain": [
       "0.6858955927458129"
      ]
     },
     "execution_count": 49,
     "metadata": {},
     "output_type": "execute_result"
    }
   ],
   "source": [
    "matthews_corrcoef(df_result['actual_label'], df_result['predicted_label'])"
   ]
  },
  {
   "cell_type": "code",
   "execution_count": 50,
   "metadata": {},
   "outputs": [],
   "source": [
    "df_result.to_csv('inltk_headlines_mr_without_aug.csv', index=False)"
   ]
  },
  {
   "cell_type": "code",
   "execution_count": null,
   "metadata": {},
   "outputs": [],
   "source": []
  }
 ],
 "metadata": {
  "kernelspec": {
   "display_name": "in",
   "language": "python",
   "name": "in"
  },
  "language_info": {
   "codemirror_mode": {
    "name": "ipython",
    "version": 3
   },
   "file_extension": ".py",
   "mimetype": "text/x-python",
   "name": "python",
   "nbconvert_exporter": "python",
   "pygments_lexer": "ipython3",
   "version": "3.6.3"
  }
 },
 "nbformat": 4,
 "nbformat_minor": 2
}
